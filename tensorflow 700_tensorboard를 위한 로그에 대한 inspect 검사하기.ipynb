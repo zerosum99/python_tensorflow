{
 "cells": [
  {
   "cell_type": "code",
   "execution_count": 1,
   "metadata": {},
   "outputs": [
    {
     "name": "stdout",
     "output_type": "stream",
     "text": [
      "Collecting tensorboard\n",
      "  Downloading tensorboard-1.0.0a6-cp36-cp36m-macosx_10_12_x86_64.whl (10.8MB)\n",
      "\u001b[K    100% |████████████████████████████████| 10.8MB 74kB/s eta 0:00:01\n",
      "\u001b[?25hRequirement already up-to-date: Pillow>=4.0.0 in /Users/dahlmoon/anaconda/lib/python3.6/site-packages (from tensorboard)\n",
      "Requirement already up-to-date: numpy>=1.11.0 in /Users/dahlmoon/anaconda/lib/python3.6/site-packages (from tensorboard)\n",
      "Requirement already up-to-date: werkzeug>=0.11.10 in /Users/dahlmoon/anaconda/lib/python3.6/site-packages (from tensorboard)\n",
      "Requirement already up-to-date: six>=1.10.0 in /Users/dahlmoon/anaconda/lib/python3.6/site-packages (from tensorboard)\n",
      "Requirement already up-to-date: protobuf>=3.1.0 in /Users/dahlmoon/anaconda/lib/python3.6/site-packages (from tensorboard)\n",
      "Requirement already up-to-date: wheel>=0.26 in /Users/dahlmoon/anaconda/lib/python3.6/site-packages (from tensorboard)\n",
      "Requirement already up-to-date: olefile in /Users/dahlmoon/anaconda/lib/python3.6/site-packages (from Pillow>=4.0.0->tensorboard)\n",
      "Requirement already up-to-date: setuptools in /Users/dahlmoon/anaconda/lib/python3.6/site-packages (from protobuf>=3.1.0->tensorboard)\n",
      "Installing collected packages: tensorboard\n",
      "Successfully installed tensorboard-1.0.0a6\n"
     ]
    }
   ],
   "source": [
    "!pip install --upgrade tensorboard"
   ]
  },
  {
   "cell_type": "code",
   "execution_count": 3,
   "metadata": {
    "collapsed": true
   },
   "outputs": [],
   "source": [
    "import tensorflow as tf"
   ]
  },
  {
   "cell_type": "code",
   "execution_count": 9,
   "metadata": {},
   "outputs": [],
   "source": [
    "\n",
    "\n",
    "a = tf.constant(3.0)\n",
    "b = tf.constant(5.0)\n",
    "c = a * b\n",
    "\n",
    "# tensorboard에 point라는 이름으로 표시됨\n",
    "c_summary = tf.summary.scalar(\"point\", c)\n",
    "merged = tf.summary.merge_all()\n",
    "\n",
    "with tf.Session() as sess:\n",
    "    writer =tf.summary.FileWriter(\"./logs/sample_2\", sess.graph)\n",
    "\n",
    "    result = sess.run([merged])\n",
    "    tf.global_variables_initializer().run()\n",
    "\n",
    "    writer.add_summary(result[0])\n",
    "    writer.flush()"
   ]
  },
  {
   "cell_type": "markdown",
   "metadata": {},
   "source": [
    "## 현재 디렉토리를 확인"
   ]
  },
  {
   "cell_type": "code",
   "execution_count": 10,
   "metadata": {},
   "outputs": [
    {
     "name": "stdout",
     "output_type": "stream",
     "text": [
      "README.md\r\n",
      "Untitled.ipynb\r\n",
      "\u001b[34mboard\u001b[m\u001b[m/\r\n",
      "\u001b[34mlog\u001b[m\u001b[m/\r\n",
      "\u001b[34mlogs\u001b[m\u001b[m/\r\n",
      "tensonflow 100_tensorflow 상수 알아보기.ipynb\r\n",
      "tensonflow 700_tensorboard 알아보기.ipynb\r\n"
     ]
    }
   ],
   "source": [
    "%ls"
   ]
  },
  {
   "cell_type": "markdown",
   "metadata": {},
   "source": [
    "## 텐서보드 내의 로그를 검사"
   ]
  },
  {
   "cell_type": "code",
   "execution_count": 12,
   "metadata": {},
   "outputs": [
    {
     "name": "stdout",
     "output_type": "stream",
     "text": [
      "======================================================================\r\n",
      "Processing event files... (this can take a few minutes)\r\n",
      "======================================================================\r\n",
      "\r\n",
      "Found event files in:\r\n",
      "logs/sample_2\r\n",
      "\r\n",
      "These tags are in logs/sample_2:\r\n",
      "audio -\r\n",
      "histograms -\r\n",
      "images -\r\n",
      "scalars\r\n",
      "   point\r\n",
      "   point_1\r\n",
      "   point_2\r\n",
      "   point_3\r\n",
      "   point_4\r\n",
      "   point_5\r\n",
      "   point_6\r\n",
      "======================================================================\r\n",
      "\r\n",
      "Event statistics for logs/sample_2:\r\n",
      "audio -\r\n",
      "graph\r\n",
      "   first_step           0\r\n",
      "   last_step            0\r\n",
      "   max_step             0\r\n",
      "   min_step             0\r\n",
      "   num_steps            1\r\n",
      "   outoforder_steps     []\r\n",
      "histograms -\r\n",
      "images -\r\n",
      "scalars\r\n",
      "   first_step           0\r\n",
      "   last_step            0\r\n",
      "   max_step             0\r\n",
      "   min_step             0\r\n",
      "   num_steps            1\r\n",
      "   outoforder_steps     []\r\n",
      "sessionlog:checkpoint -\r\n",
      "sessionlog:start -\r\n",
      "sessionlog:stop -\r\n",
      "======================================================================\r\n",
      "\r\n"
     ]
    }
   ],
   "source": [
    "!tensorboard --inspect --logdir logs/sample_2"
   ]
  },
  {
   "cell_type": "code",
   "execution_count": null,
   "metadata": {
    "collapsed": true
   },
   "outputs": [],
   "source": []
  }
 ],
 "metadata": {
  "kernelspec": {
   "display_name": "Python 3",
   "language": "python",
   "name": "python3"
  },
  "language_info": {
   "codemirror_mode": {
    "name": "ipython",
    "version": 3
   },
   "file_extension": ".py",
   "mimetype": "text/x-python",
   "name": "python",
   "nbconvert_exporter": "python",
   "pygments_lexer": "ipython3",
   "version": "3.6.1"
  }
 },
 "nbformat": 4,
 "nbformat_minor": 2
}
