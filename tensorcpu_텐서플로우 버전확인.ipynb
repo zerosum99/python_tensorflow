{
 "cells": [
  {
   "cell_type": "code",
   "execution_count": 6,
   "metadata": {},
   "outputs": [
    {
     "name": "stderr",
     "output_type": "stream",
     "text": [
      "'conda'은(는) 내부 또는 외부 명령, 실행할 수 있는 프로그램, 또는\n",
      "배치 파일이 아닙니다.\n"
     ]
    }
   ],
   "source": [
    "!conda info --envs"
   ]
  },
  {
   "cell_type": "code",
   "execution_count": null,
   "metadata": {},
   "outputs": [],
   "source": []
  },
  {
   "cell_type": "markdown",
   "metadata": {},
   "source": [
    "## 버전 차이있을 때 처리하기 \n",
    "\n",
    "     conda install -c conda-forge tensorflow  # to install\n",
    "  \n",
    "    conda upgrade -c conda-forge tensorflow  # to upgrade"
   ]
  },
  {
   "cell_type": "code",
   "execution_count": 3,
   "metadata": {},
   "outputs": [],
   "source": [
    "import tensorflow as tf"
   ]
  },
  {
   "cell_type": "code",
   "execution_count": 4,
   "metadata": {},
   "outputs": [
    {
     "data": {
      "text/plain": [
       "'1.12.0'"
      ]
     },
     "execution_count": 4,
     "metadata": {},
     "output_type": "execute_result"
    }
   ],
   "source": [
    "tf.__version__"
   ]
  },
  {
   "cell_type": "code",
   "execution_count": 7,
   "metadata": {},
   "outputs": [
    {
     "name": "stdout",
     "output_type": "stream",
     "text": [
      "Package              Version \n",
      "-------------------- --------\n",
      "-umpy                1.16.2  \n",
      "absl-py              0.7.0   \n",
      "astor                0.7.1   \n",
      "attrs                19.1.0  \n",
      "backcall             0.1.0   \n",
      "bleach               3.1.0   \n",
      "certifi              2019.3.9\n",
      "colorama             0.4.1   \n",
      "cycler               0.10.0  \n",
      "decorator            4.4.0   \n",
      "defusedxml           0.5.0   \n",
      "entrypoints          0.3     \n",
      "gast                 0.2.2   \n",
      "grpcio               1.18.0  \n",
      "h5py                 2.9.0   \n",
      "icc-rt               2019.0  \n",
      "intel-openmp         2019.0  \n",
      "ipykernel            5.1.0   \n",
      "ipython              7.3.0   \n",
      "ipython-genutils     0.2.0   \n",
      "jedi                 0.13.3  \n",
      "Jinja2               2.10    \n",
      "jsonschema           3.0.1   \n",
      "jupyter-client       5.2.4   \n",
      "jupyter-core         4.4.0   \n",
      "Keras                2.2.4   \n",
      "Keras-Applications   1.0.7   \n",
      "Keras-Preprocessing  1.0.9   \n",
      "kiwisolver           1.0.1   \n",
      "Markdown             3.0.1   \n",
      "MarkupSafe           1.1.1   \n",
      "matplotlib           3.0.3   \n",
      "mistune              0.8.4   \n",
      "mkl                  2019.0  \n",
      "mkl-fft              1.0.10  \n",
      "mkl-random           1.0.2   \n",
      "mock                 2.0.0   \n",
      "nbconvert            5.4.1   \n",
      "nbformat             4.4.0   \n",
      "notebook             5.7.6   \n",
      "numpy                1.16.2  \n",
      "pandas               0.24.2  \n",
      "pandocfilters        1.4.2   \n",
      "parso                0.3.4   \n",
      "pbr                  5.1.3   \n",
      "pickleshare          0.7.5   \n",
      "pip                  19.0.3  \n",
      "prometheus-client    0.6.0   \n",
      "prompt-toolkit       2.0.9   \n",
      "protobuf             3.6.1   \n",
      "Pygments             2.3.1   \n",
      "pyparsing            2.3.1   \n",
      "pyreadline           2.1     \n",
      "pyrsistent           0.14.11 \n",
      "python-dateutil      2.8.0   \n",
      "pytz                 2018.9  \n",
      "pywinpty             0.5.5   \n",
      "PyYAML               5.1     \n",
      "pyzmq                18.0.0  \n",
      "scipy                1.2.1   \n",
      "seaborn              0.9.0   \n",
      "Send2Trash           1.5.0   \n",
      "setuptools           40.8.0  \n",
      "six                  1.12.0  \n",
      "tbb                  2019.0  \n",
      "tbb4py               2019.0  \n",
      "tensorflow           1.13.1  \n",
      "tensorflow-estimator 1.13.0  \n",
      "termcolor            1.1.0   \n",
      "terminado            0.8.1   \n",
      "testpath             0.4.2   \n",
      "tornado              6.0.1   \n",
      "traitlets            4.3.2   \n",
      "watermark            1.8.1   \n",
      "wcwidth              0.1.7   \n",
      "webencodings         0.5.1   \n",
      "Werkzeug             0.14.1  \n",
      "wheel                0.33.1  \n",
      "wincertstore         0.2     \n"
     ]
    }
   ],
   "source": [
    "!pip list"
   ]
  },
  {
   "cell_type": "code",
   "execution_count": null,
   "metadata": {},
   "outputs": [],
   "source": []
  }
 ],
 "metadata": {
  "kernelspec": {
   "display_name": "tensorcpu",
   "language": "python",
   "name": "tensorcpu"
  },
  "language_info": {
   "codemirror_mode": {
    "name": "ipython",
    "version": 3
   },
   "file_extension": ".py",
   "mimetype": "text/x-python",
   "name": "python",
   "nbconvert_exporter": "python",
   "pygments_lexer": "ipython3",
   "version": "3.6.8"
  }
 },
 "nbformat": 4,
 "nbformat_minor": 2
}
