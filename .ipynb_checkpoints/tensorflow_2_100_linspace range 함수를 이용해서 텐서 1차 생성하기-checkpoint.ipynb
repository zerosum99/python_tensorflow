{
 "cells": [
  {
   "cell_type": "code",
   "execution_count": 1,
   "metadata": {},
   "outputs": [],
   "source": [
    "import tensorflow as tf"
   ]
  },
  {
   "cell_type": "code",
   "execution_count": 2,
   "metadata": {},
   "outputs": [
    {
     "data": {
      "text/plain": [
       "'2.4.1'"
      ]
     },
     "execution_count": 2,
     "metadata": {},
     "output_type": "execute_result"
    }
   ],
   "source": [
    "tf.__version__"
   ]
  },
  {
   "cell_type": "code",
   "execution_count": 3,
   "metadata": {},
   "outputs": [
    {
     "name": "stdout",
     "output_type": "stream",
     "text": [
      "Help on function linspace_nd in module tensorflow.python.ops.math_ops:\n",
      "\n",
      "linspace_nd(start, stop, num, name=None, axis=0)\n",
      "    Generates evenly-spaced values in an interval along a given axis.\n",
      "    \n",
      "    A sequence of `num` evenly-spaced values are generated beginning at `start`\n",
      "    along a given `axis`.\n",
      "    If `num > 1`, the values in the sequence increase by `stop - start / num - 1`,\n",
      "    so that the last one is exactly `stop`. If `num <= 0`, `ValueError` is raised.\n",
      "    \n",
      "    Matches\n",
      "    [np.linspace](https://docs.scipy.org/doc/numpy/reference/generated/numpy.linspace.html)'s\n",
      "    behaviour\n",
      "    except when `num == 0`.\n",
      "    \n",
      "    For example:\n",
      "    \n",
      "    ```\n",
      "    tf.linspace(10.0, 12.0, 3, name=\"linspace\") => [ 10.0  11.0  12.0]\n",
      "    ```\n",
      "    \n",
      "    `Start` and `stop` can be tensors of arbitrary size:\n",
      "    \n",
      "    >>> tf.linspace([0., 5.], [10., 40.], 5, axis=0)\n",
      "    <tf.Tensor: shape=(5, 2), dtype=float32, numpy=\n",
      "    array([[ 0.  ,  5.  ],\n",
      "           [ 2.5 , 13.75],\n",
      "           [ 5.  , 22.5 ],\n",
      "           [ 7.5 , 31.25],\n",
      "           [10.  , 40.  ]], dtype=float32)>\n",
      "    \n",
      "    `Axis` is where the values will be generated (the dimension in the\n",
      "    returned tensor which corresponds to the axis will be equal to `num`)\n",
      "    \n",
      "    >>> tf.linspace([0., 5.], [10., 40.], 5, axis=-1)\n",
      "    <tf.Tensor: shape=(2, 5), dtype=float32, numpy=\n",
      "    array([[ 0.  ,  2.5 ,  5.  ,  7.5 , 10.  ],\n",
      "           [ 5.  , 13.75, 22.5 , 31.25, 40.  ]], dtype=float32)>\n",
      "    \n",
      "    \n",
      "    \n",
      "    Args:\n",
      "      start: A `Tensor`. Must be one of the following types: `bfloat16`,\n",
      "        `float32`, `float64`. N-D tensor. First entry in the range.\n",
      "      stop: A `Tensor`. Must have the same type and shape as `start`. N-D tensor.\n",
      "        Last entry in the range.\n",
      "      num: A `Tensor`. Must be one of the following types: `int32`, `int64`. 0-D\n",
      "        tensor. Number of values to generate.\n",
      "      name: A name for the operation (optional).\n",
      "      axis: Axis along which the operation is performed (used only when N-D\n",
      "        tensors are provided).\n",
      "    \n",
      "    Returns:\n",
      "      A `Tensor`. Has the same type as `start`.\n",
      "\n"
     ]
    }
   ],
   "source": [
    "help(tf.linspace)"
   ]
  },
  {
   "cell_type": "markdown",
   "metadata": {},
   "source": [
    "## 첫번째 start는 실수값을 배정해야 함"
   ]
  },
  {
   "cell_type": "code",
   "execution_count": 4,
   "metadata": {},
   "outputs": [],
   "source": [
    "linear_tf = tf.linspace(start=0.,stop=1.,num=3)"
   ]
  },
  {
   "cell_type": "code",
   "execution_count": 5,
   "metadata": {},
   "outputs": [
    {
     "data": {
      "text/plain": [
       "<tf.Tensor: shape=(3,), dtype=float32, numpy=array([0. , 0.5, 1. ], dtype=float32)>"
      ]
     },
     "execution_count": 5,
     "metadata": {},
     "output_type": "execute_result"
    }
   ],
   "source": [
    "linear_tf"
   ]
  },
  {
   "cell_type": "code",
   "execution_count": 6,
   "metadata": {},
   "outputs": [],
   "source": [
    "linear_int = tf.linspace(start=1.,stop=3,num=3)"
   ]
  },
  {
   "cell_type": "code",
   "execution_count": 7,
   "metadata": {},
   "outputs": [
    {
     "data": {
      "text/plain": [
       "<tf.Tensor: shape=(3,), dtype=float32, numpy=array([1., 2., 3.], dtype=float32)>"
      ]
     },
     "execution_count": 7,
     "metadata": {},
     "output_type": "execute_result"
    }
   ],
   "source": [
    "linear_int"
   ]
  },
  {
   "cell_type": "markdown",
   "metadata": {},
   "source": [
    "## 정수값을 처리할 때는 range  사용"
   ]
  },
  {
   "cell_type": "code",
   "execution_count": 8,
   "metadata": {},
   "outputs": [
    {
     "name": "stdout",
     "output_type": "stream",
     "text": [
      "Help on function range in module tensorflow.python.ops.math_ops:\n",
      "\n",
      "range(start, limit=None, delta=1, dtype=None, name='range')\n",
      "    Creates a sequence of numbers.\n",
      "    \n",
      "    Creates a sequence of numbers that begins at `start` and extends by\n",
      "    increments of `delta` up to but not including `limit`.\n",
      "    \n",
      "    The dtype of the resulting tensor is inferred from the inputs unless\n",
      "    it is provided explicitly.\n",
      "    \n",
      "    Like the Python builtin `range`, `start` defaults to 0, so that\n",
      "    `range(n) = range(0, n)`.\n",
      "    \n",
      "    For example:\n",
      "    \n",
      "    >>> start = 3\n",
      "    >>> limit = 18\n",
      "    >>> delta = 3\n",
      "    >>> tf.range(start, limit, delta)\n",
      "    <tf.Tensor: shape=(5,), dtype=int32,\n",
      "    numpy=array([ 3,  6,  9, 12, 15], dtype=int32)>\n",
      "    \n",
      "    >>> start = 3\n",
      "    >>> limit = 1\n",
      "    >>> delta = -0.5\n",
      "    >>> tf.range(start, limit, delta)\n",
      "    <tf.Tensor: shape=(4,), dtype=float32,\n",
      "    numpy=array([3. , 2.5, 2. , 1.5], dtype=float32)>\n",
      "    \n",
      "    >>> limit = 5\n",
      "    >>> tf.range(limit)\n",
      "    <tf.Tensor: shape=(5,), dtype=int32,\n",
      "    numpy=array([0, 1, 2, 3, 4], dtype=int32)>\n",
      "    \n",
      "    Args:\n",
      "      start: A 0-D `Tensor` (scalar). Acts as first entry in the range if `limit`\n",
      "        is not None; otherwise, acts as range limit and first entry defaults to 0.\n",
      "      limit: A 0-D `Tensor` (scalar). Upper limit of sequence, exclusive. If None,\n",
      "        defaults to the value of `start` while the first entry of the range\n",
      "        defaults to 0.\n",
      "      delta: A 0-D `Tensor` (scalar). Number that increments `start`. Defaults to\n",
      "        1.\n",
      "      dtype: The type of the elements of the resulting tensor.\n",
      "      name: A name for the operation. Defaults to \"range\".\n",
      "    \n",
      "    Returns:\n",
      "      An 1-D `Tensor` of type `dtype`.\n",
      "    \n",
      "    @compatibility(numpy)\n",
      "    Equivalent to np.arange\n",
      "    @end_compatibility\n",
      "\n"
     ]
    }
   ],
   "source": [
    "help(tf.range)"
   ]
  },
  {
   "cell_type": "code",
   "execution_count": 9,
   "metadata": {},
   "outputs": [],
   "source": [
    "start = 3\n",
    "limit = 18\n",
    "delta = 3\n",
    "a = tf.range(start, limit, delta)"
   ]
  },
  {
   "cell_type": "code",
   "execution_count": 10,
   "metadata": {},
   "outputs": [
    {
     "data": {
      "text/plain": [
       "<tf.Tensor: shape=(5,), dtype=int32, numpy=array([ 3,  6,  9, 12, 15], dtype=int32)>"
      ]
     },
     "execution_count": 10,
     "metadata": {},
     "output_type": "execute_result"
    }
   ],
   "source": [
    "a"
   ]
  },
  {
   "cell_type": "markdown",
   "metadata": {},
   "source": [
    "### 실수값이 필요할 경우는 delta를 소숫점 숫자로 표시"
   ]
  },
  {
   "cell_type": "code",
   "execution_count": 11,
   "metadata": {},
   "outputs": [],
   "source": [
    "start = 1\n",
    "limit = 2\n",
    "delta = 0.5\n",
    "b = tf.range(start, limit, delta)"
   ]
  },
  {
   "cell_type": "code",
   "execution_count": 12,
   "metadata": {},
   "outputs": [
    {
     "data": {
      "text/plain": [
       "<tf.Tensor: shape=(2,), dtype=float32, numpy=array([1. , 1.5], dtype=float32)>"
      ]
     },
     "execution_count": 12,
     "metadata": {},
     "output_type": "execute_result"
    }
   ],
   "source": [
    "b"
   ]
  },
  {
   "cell_type": "code",
   "execution_count": null,
   "metadata": {
    "collapsed": true
   },
   "outputs": [],
   "source": []
  }
 ],
 "metadata": {
  "kernelspec": {
   "display_name": "Python 3",
   "language": "python",
   "name": "python3"
  },
  "language_info": {
   "codemirror_mode": {
    "name": "ipython",
    "version": 3
   },
   "file_extension": ".py",
   "mimetype": "text/x-python",
   "name": "python",
   "nbconvert_exporter": "python",
   "pygments_lexer": "ipython3",
   "version": "3.7.9"
  }
 },
 "nbformat": 4,
 "nbformat_minor": 2
}
