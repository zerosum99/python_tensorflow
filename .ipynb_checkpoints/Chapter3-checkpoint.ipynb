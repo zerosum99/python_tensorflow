{
 "cells": [
  {
   "cell_type": "markdown",
   "metadata": {
    "colab_type": "text",
    "id": "BCq2UCUvEkhh"
   },
   "source": [
    "<시작하세요! 텐서플로 2.0 프로그래밍> 예제코드입니다.\n",
    "\n",
    "- 예제 코드를 실행하기 위해서는 [파일] > [드라이브에 사본 저장]으로 본인의 계정에 사본을 만든 다음 실행하면 됩니다.\n",
    "- 예제 코드는 [깃허브 저장소](https://github.com/wikibook/tf2)에서도 동일하게 제공됩니다. 예제에 대한 질문이나 책에 대한 질문은 깃허브 저장소의 [Issues](https://github.com/wikibook/tf2/issues)에 올려주세요.\n",
    "- 각 장의 예제 파일은 처음부터 끝까지 실행하는 상황을 가정하고 작성되었습니다. 혹시 세션이 다운되는 등의 이유로 실행이 되지 않는 경우가 있다면, 필요한 라이브러리를 import 하신 후에 실행하시면 됩니다. (tensorflow, numpy, pandas 등)"
   ]
  },
  {
   "cell_type": "markdown",
   "metadata": {
    "colab_type": "text",
    "id": "aE3jL3tX0Vq0"
   },
   "source": [
    "# 3.1 Hello World"
   ]
  },
  {
   "cell_type": "code",
   "execution_count": 1,
   "metadata": {
    "colab": {
     "base_uri": "https://localhost:8080/",
     "height": 35
    },
    "colab_type": "code",
    "executionInfo": {
     "elapsed": 1320,
     "status": "ok",
     "timestamp": 1573268825596,
     "user": {
      "displayName": "Hwanhee Kim",
      "photoUrl": "https://lh3.googleusercontent.com/a-/AAuE7mAJC9PPBoQ91glDwFjxm3TlW5EqGy0BIAJ52D-ekw=s64",
      "userId": "04863080312902369470"
     },
     "user_tz": -540
    },
    "id": "xiupWrsfvYxH",
    "outputId": "801eeee5-d081-4596-bdcd-411fcdae551b"
   },
   "outputs": [
    {
     "name": "stdout",
     "output_type": "stream",
     "text": [
      "Hello, World!\n"
     ]
    }
   ],
   "source": [
    "# 3.1 Hello World 프로그램\n",
    "print(\"Hello, World!\")"
   ]
  },
  {
   "cell_type": "code",
   "execution_count": 2,
   "metadata": {
    "colab": {
     "base_uri": "https://localhost:8080/",
     "height": 136
    },
    "colab_type": "code",
    "executionInfo": {
     "elapsed": 630,
     "status": "error",
     "timestamp": 1573269048560,
     "user": {
      "displayName": "Hwanhee Kim",
      "photoUrl": "https://lh3.googleusercontent.com/a-/AAuE7mAJC9PPBoQ91glDwFjxm3TlW5EqGy0BIAJ52D-ekw=s64",
      "userId": "04863080312902369470"
     },
     "user_tz": -540
    },
    "id": "9nuLn3boxiJR",
    "outputId": "73757fea-f9f9-44c4-b9fb-145bf9b1c01a"
   },
   "outputs": [
    {
     "name": "stdout",
     "output_type": "stream",
     "text": [
      "Hello, World!\n"
     ]
    }
   ],
   "source": [
    "# 3.2 Hello World 프로그램 첫 줄의 # 를 지웠을 때 에러가 나는 모습\n",
    "#3.1 Hello World\n",
    "print(\"Hello, World!\")"
   ]
  },
  {
   "cell_type": "code",
   "execution_count": 3,
   "metadata": {
    "colab": {
     "base_uri": "https://localhost:8080/",
     "height": 35
    },
    "colab_type": "code",
    "executionInfo": {
     "elapsed": 1040,
     "status": "ok",
     "timestamp": 1557401161691,
     "user": {
      "displayName": "Hwanhee Kim",
      "photoUrl": "https://lh6.googleusercontent.com/-nodxsDvEvZo/AAAAAAAAAAI/AAAAAAAABHE/Ybrj2myvr5Q/s64/photo.jpg",
      "userId": "04863080312902369470"
     },
     "user_tz": -540
    },
    "id": "jdV_7mr7xk85",
    "outputId": "b69711a4-64ea-4c59-9e4b-8a882d673261"
   },
   "outputs": [
    {
     "name": "stdout",
     "output_type": "stream",
     "text": [
      "Hello, World!\n"
     ]
    }
   ],
   "source": [
    "# 3.3 Hello World 프로그램 문자열의 따옴표(“)를 홑따옴표(‘)로 바꿈\n",
    "print('Hello, World!')"
   ]
  },
  {
   "cell_type": "markdown",
   "metadata": {
    "colab_type": "text",
    "id": "0Rtekp0G0YL0"
   },
   "source": [
    "# 3.2 Hello 텐서플로 2.0"
   ]
  },
  {
   "cell_type": "code",
   "execution_count": 4,
   "metadata": {
    "colab": {
     "base_uri": "https://localhost:8080/",
     "height": 35
    },
    "colab_type": "code",
    "executionInfo": {
     "elapsed": 8222,
     "status": "ok",
     "timestamp": 1574604897916,
     "user": {
      "displayName": "Hwanhee Kim",
      "photoUrl": "https://lh3.googleusercontent.com/a-/AAuE7mAJC9PPBoQ91glDwFjxm3TlW5EqGy0BIAJ52D-ekw=s64",
      "userId": "04863080312902369470"
     },
     "user_tz": -540
    },
    "id": "CklSGCkG2v22",
    "outputId": "da686fd5-14f1-476b-c337-d13a9afe4874"
   },
   "outputs": [],
   "source": [
    "# 3.4 텐서플로 2.0 버전 선택\n",
    "try:\n",
    "    # %tensorflow_version only exists in Colab.\n",
    "    %tensorflow_version 2.x\n",
    "except Exception:\n",
    "    pass\n",
    "import tensorflow as tf"
   ]
  },
  {
   "cell_type": "code",
   "execution_count": 5,
   "metadata": {
    "colab": {
     "base_uri": "https://localhost:8080/",
     "height": 35
    },
    "colab_type": "code",
    "executionInfo": {
     "elapsed": 4647,
     "status": "ok",
     "timestamp": 1573269556884,
     "user": {
      "displayName": "Hwanhee Kim",
      "photoUrl": "https://lh3.googleusercontent.com/a-/AAuE7mAJC9PPBoQ91glDwFjxm3TlW5EqGy0BIAJ52D-ekw=s64",
      "userId": "04863080312902369470"
     },
     "user_tz": -540
    },
    "id": "1nyZokK7MKTd",
    "outputId": "33e64265-e980-424b-eef4-41198d02d914"
   },
   "outputs": [
    {
     "name": "stdout",
     "output_type": "stream",
     "text": [
      "Darwin-20.3.0-x86_64-i386-64bit\n"
     ]
    }
   ],
   "source": [
    "# Google Colab 운영체제 확인\n",
    "import platform\n",
    "print(platform.platform())"
   ]
  },
  {
   "cell_type": "code",
   "execution_count": 6,
   "metadata": {
    "colab": {
     "base_uri": "https://localhost:8080/",
     "height": 35
    },
    "colab_type": "code",
    "executionInfo": {
     "elapsed": 3497,
     "status": "ok",
     "timestamp": 1573269556885,
     "user": {
      "displayName": "Hwanhee Kim",
      "photoUrl": "https://lh3.googleusercontent.com/a-/AAuE7mAJC9PPBoQ91glDwFjxm3TlW5EqGy0BIAJ52D-ekw=s64",
      "userId": "04863080312902369470"
     },
     "user_tz": -540
    },
    "id": "ksLZERzR3n29",
    "outputId": "9f0df58b-dcd2-4191-8a5f-c019b6f610b2"
   },
   "outputs": [
    {
     "name": "stdout",
     "output_type": "stream",
     "text": [
      "2.4.1\n"
     ]
    }
   ],
   "source": [
    "# 3.5 텐서플로우 불러오기, 버전 확인\n",
    "import tensorflow as tf\n",
    "print(tf.__version__)"
   ]
  },
  {
   "cell_type": "code",
   "execution_count": 7,
   "metadata": {
    "colab": {
     "base_uri": "https://localhost:8080/",
     "height": 190
    },
    "colab_type": "code",
    "executionInfo": {
     "elapsed": 3170,
     "status": "error",
     "timestamp": 1557401275585,
     "user": {
      "displayName": "Hwanhee Kim",
      "photoUrl": "https://lh6.googleusercontent.com/-nodxsDvEvZo/AAAAAAAAAAI/AAAAAAAABHE/Ybrj2myvr5Q/s64/photo.jpg",
      "userId": "04863080312902369470"
     },
     "user_tz": -540
    },
    "id": "rY7Wy7VXCRQn",
    "outputId": "bc5ca21f-0ed9-4a58-a9ce-bcac1abc778a"
   },
   "outputs": [
    {
     "name": "stdout",
     "output_type": "stream",
     "text": [
      "2.4.1\n"
     ]
    }
   ],
   "source": [
    "# 3.6 텐서플로우 불러오기, 버전 확인 에러\n",
    "import tensorflow as tf\n",
    "print(tf.__version__)"
   ]
  },
  {
   "cell_type": "markdown",
   "metadata": {
    "colab_type": "text",
    "id": "2ooF5dOI0cJc"
   },
   "source": [
    "# 3.3 텐서플로 기초"
   ]
  },
  {
   "cell_type": "markdown",
   "metadata": {
    "colab_type": "text",
    "id": "2dR8mqitUEfH"
   },
   "source": [
    "## 3.3.1 랜덤한 수 생성"
   ]
  },
  {
   "cell_type": "code",
   "execution_count": 8,
   "metadata": {
    "colab": {
     "base_uri": "https://localhost:8080/",
     "height": 35
    },
    "colab_type": "code",
    "executionInfo": {
     "elapsed": 765,
     "status": "ok",
     "timestamp": 1573269978631,
     "user": {
      "displayName": "Hwanhee Kim",
      "photoUrl": "https://lh3.googleusercontent.com/a-/AAuE7mAJC9PPBoQ91glDwFjxm3TlW5EqGy0BIAJ52D-ekw=s64",
      "userId": "04863080312902369470"
     },
     "user_tz": -540
    },
    "id": "Mq2AtFOl0hS1",
    "outputId": "78da706a-e7f3-483a-c97d-0cfeb36c456d"
   },
   "outputs": [
    {
     "name": "stdout",
     "output_type": "stream",
     "text": [
      "tf.Tensor([0.7794707], shape=(1,), dtype=float32)\n"
     ]
    }
   ],
   "source": [
    "# 3.7 랜덤한 수 얻기 (균일 분포)\n",
    "rand = tf.random.uniform([1],0,1)\n",
    "print(rand)"
   ]
  },
  {
   "cell_type": "code",
   "execution_count": 9,
   "metadata": {
    "colab": {
     "base_uri": "https://localhost:8080/",
     "height": 35
    },
    "colab_type": "code",
    "executionInfo": {
     "elapsed": 650,
     "status": "ok",
     "timestamp": 1573270737911,
     "user": {
      "displayName": "Hwanhee Kim",
      "photoUrl": "https://lh3.googleusercontent.com/a-/AAuE7mAJC9PPBoQ91glDwFjxm3TlW5EqGy0BIAJ52D-ekw=s64",
      "userId": "04863080312902369470"
     },
     "user_tz": -540
    },
    "id": "7Fb7DLjQ4i4C",
    "outputId": "2017c692-0715-4efa-dd30-741f7c08ef71"
   },
   "outputs": [
    {
     "name": "stdout",
     "output_type": "stream",
     "text": [
      "tf.Tensor([0.22658491 0.83389664 0.26776898 0.61267734], shape=(4,), dtype=float32)\n"
     ]
    }
   ],
   "source": [
    "# 3.8 랜덤한 수 여러 개 얻기 (균일 분포)\n",
    "rand = tf.random.uniform([4],0,1)\n",
    "print(rand)"
   ]
  },
  {
   "cell_type": "code",
   "execution_count": 10,
   "metadata": {
    "colab": {
     "base_uri": "https://localhost:8080/",
     "height": 35
    },
    "colab_type": "code",
    "executionInfo": {
     "elapsed": 1368,
     "status": "ok",
     "timestamp": 1574604904460,
     "user": {
      "displayName": "Hwanhee Kim",
      "photoUrl": "https://lh3.googleusercontent.com/a-/AAuE7mAJC9PPBoQ91glDwFjxm3TlW5EqGy0BIAJ52D-ekw=s64",
      "userId": "04863080312902369470"
     },
     "user_tz": -540
    },
    "id": "jcmeN0232BUz",
    "outputId": "ba22b87c-3b20-4c94-913b-ff8bbb7bfae1"
   },
   "outputs": [
    {
     "name": "stdout",
     "output_type": "stream",
     "text": [
      "tf.Tensor([ 0.63036555 -1.9412307  -1.5635748  -0.81605256], shape=(4,), dtype=float32)\n"
     ]
    }
   ],
   "source": [
    "# 3.9 랜덤한 수 여러 개 얻기 (정규 분포)\n",
    "rand = tf.random.normal([4],0,1)\n",
    "print(rand)"
   ]
  },
  {
   "cell_type": "markdown",
   "metadata": {
    "colab_type": "text",
    "id": "goJriV4SUL4F"
   },
   "source": [
    "## 3.3.2 뉴런 만들기"
   ]
  },
  {
   "cell_type": "code",
   "execution_count": 11,
   "metadata": {
    "colab": {},
    "colab_type": "code",
    "id": "ilkTV9SKmyP5"
   },
   "outputs": [],
   "source": [
    "# 3.10 sigmoid 함수\n",
    "import math\n",
    "def sigmoid(x):\n",
    "    return 1 / (1 + math.exp(-x))"
   ]
  },
  {
   "cell_type": "code",
   "execution_count": 12,
   "metadata": {
    "colab": {
     "base_uri": "https://localhost:8080/",
     "height": 35
    },
    "colab_type": "code",
    "executionInfo": {
     "elapsed": 824,
     "status": "ok",
     "timestamp": 1556809447757,
     "user": {
      "displayName": "Hwanhee Kim",
      "photoUrl": "https://lh6.googleusercontent.com/-nodxsDvEvZo/AAAAAAAAAAI/AAAAAAAABHE/Ybrj2myvr5Q/s64/photo.jpg",
      "userId": "04863080312902369470"
     },
     "user_tz": -540
    },
    "id": "bmOY52Sj3p0a",
    "outputId": "13582d69-c251-4c5c-c3f5-2ce1c2536992"
   },
   "outputs": [
    {
     "name": "stdout",
     "output_type": "stream",
     "text": [
      "0.32072125294436976\n"
     ]
    }
   ],
   "source": [
    "# 3.11 뉴런의 입력과 출력 정의\n",
    "x = 1\n",
    "y = 0\n",
    "w = tf.random.normal([1],0,1)\n",
    "output = sigmoid(x * w)\n",
    "print(output)"
   ]
  },
  {
   "cell_type": "code",
   "execution_count": 13,
   "metadata": {
    "colab": {
     "base_uri": "https://localhost:8080/",
     "height": 197
    },
    "colab_type": "code",
    "executionInfo": {
     "elapsed": 654,
     "status": "ok",
     "timestamp": 1556809450874,
     "user": {
      "displayName": "Hwanhee Kim",
      "photoUrl": "https://lh6.googleusercontent.com/-nodxsDvEvZo/AAAAAAAAAAI/AAAAAAAABHE/Ybrj2myvr5Q/s64/photo.jpg",
      "userId": "04863080312902369470"
     },
     "user_tz": -540
    },
    "id": "SQOfPrld8cde",
    "outputId": "007db597-d430-4e63-a6c4-ed8c5f001233"
   },
   "outputs": [
    {
     "name": "stdout",
     "output_type": "stream",
     "text": [
      "99 -0.08707737859641272 0.08707737859641272\n",
      "199 -0.04790555302055297 0.04790555302055297\n",
      "299 -0.03278853064022544 0.03278853064022544\n",
      "399 -0.024858749284035836 0.024858749284035836\n",
      "499 -0.01999382996718109 0.01999382996718109\n",
      "599 -0.016710766790560667 0.016710766790560667\n",
      "699 -0.014348341878941205 0.014348341878941205\n",
      "799 -0.012568060941782998 0.012568060941782998\n",
      "899 -0.01117891645641779 0.01117891645641779\n",
      "999 -0.01006507939490627 0.01006507939490627\n"
     ]
    }
   ],
   "source": [
    "# 3.12 경사 하강법을 이용한 뉴런의 학습\n",
    "for i in range(1000):\n",
    "    output = sigmoid(x * w)\n",
    "    error = y - output\n",
    "    w = w + x * 0.1 * error\n",
    "    \n",
    "    if i % 100 == 99:\n",
    "        print(i, error, output)"
   ]
  },
  {
   "cell_type": "code",
   "execution_count": 14,
   "metadata": {
    "colab": {
     "base_uri": "https://localhost:8080/",
     "height": 197
    },
    "colab_type": "code",
    "executionInfo": {
     "elapsed": 885,
     "status": "ok",
     "timestamp": 1556809452957,
     "user": {
      "displayName": "Hwanhee Kim",
      "photoUrl": "https://lh6.googleusercontent.com/-nodxsDvEvZo/AAAAAAAAAAI/AAAAAAAABHE/Ybrj2myvr5Q/s64/photo.jpg",
      "userId": "04863080312902369470"
     },
     "user_tz": -540
    },
    "id": "v6QTKN-Y_Pej",
    "outputId": "eab797bb-27cf-4e76-e9e0-cfa33663b48e"
   },
   "outputs": [
    {
     "name": "stdout",
     "output_type": "stream",
     "text": [
      "99 0.5 0.5\n",
      "199 0.5 0.5\n",
      "299 0.5 0.5\n",
      "399 0.5 0.5\n",
      "499 0.5 0.5\n",
      "599 0.5 0.5\n",
      "699 0.5 0.5\n",
      "799 0.5 0.5\n",
      "899 0.5 0.5\n",
      "999 0.5 0.5\n"
     ]
    }
   ],
   "source": [
    "# 3.13 x=0 일 때 y=1 을 얻는 뉴런의 학습\n",
    "x = 0\n",
    "y = 1\n",
    "w = tf.random.normal([1],0,1)\n",
    "\n",
    "for i in range(1000):\n",
    "    output = sigmoid(x * w)\n",
    "    error = y - output\n",
    "    w = w + x * 0.1 * error\n",
    "    \n",
    "    if i % 100 == 99:\n",
    "        print(i, error, output)"
   ]
  },
  {
   "cell_type": "code",
   "execution_count": 15,
   "metadata": {
    "colab": {
     "base_uri": "https://localhost:8080/",
     "height": 197
    },
    "colab_type": "code",
    "executionInfo": {
     "elapsed": 597,
     "status": "ok",
     "timestamp": 1557401303125,
     "user": {
      "displayName": "Hwanhee Kim",
      "photoUrl": "https://lh6.googleusercontent.com/-nodxsDvEvZo/AAAAAAAAAAI/AAAAAAAABHE/Ybrj2myvr5Q/s64/photo.jpg",
      "userId": "04863080312902369470"
     },
     "user_tz": -540
    },
    "id": "RDkgV0si_CEM",
    "outputId": "bfc07d0d-f6c4-480a-c8d9-c3c98cae7b83"
   },
   "outputs": [
    {
     "name": "stdout",
     "output_type": "stream",
     "text": [
      "99 0.07968047965585734 0.9203195203441427\n",
      "199 0.045493277290200584 0.9545067227097994\n",
      "299 0.03162414791718071 0.9683758520828193\n",
      "399 0.024178701960074322 0.9758212980399257\n",
      "499 0.0195495415452992 0.9804504584547008\n",
      "599 0.016398286439024634 0.9836017135609754\n",
      "699 0.014116844834113906 0.9858831551658861\n",
      "799 0.012389757947296909 0.9876102420527031\n",
      "899 0.011037462010909493 0.9889625379890905\n",
      "999 0.009950153886153501 0.9900498461138465\n"
     ]
    }
   ],
   "source": [
    "# 3.14 x=0 일 때 y=1 을 얻는 뉴런의 학습에 편향을 더함\n",
    "x = 0\n",
    "y = 1\n",
    "w = tf.random.normal([1],0,1)\n",
    "b = tf.random.normal([1],0,1)\n",
    "\n",
    "for i in range(1000):\n",
    "    output = sigmoid(x * w + 1 * b)\n",
    "    error = y - output\n",
    "    w = w + x * 0.1 * error\n",
    "    b = b + 1 * 0.1 * error\n",
    "    \n",
    "    if i % 100 == 99:\n",
    "        print(i, error, output)"
   ]
  },
  {
   "cell_type": "markdown",
   "metadata": {
    "colab_type": "text",
    "id": "6LBFLGQsUR2w"
   },
   "source": [
    "## 3.3.3 첫번째 신경망 네트워크 : AND"
   ]
  },
  {
   "cell_type": "code",
   "execution_count": 16,
   "metadata": {
    "colab": {
     "base_uri": "https://localhost:8080/",
     "height": 53
    },
    "colab_type": "code",
    "executionInfo": {
     "elapsed": 602,
     "status": "ok",
     "timestamp": 1557401312495,
     "user": {
      "displayName": "Hwanhee Kim",
      "photoUrl": "https://lh6.googleusercontent.com/-nodxsDvEvZo/AAAAAAAAAAI/AAAAAAAABHE/Ybrj2myvr5Q/s64/photo.jpg",
      "userId": "04863080312902369470"
     },
     "user_tz": -540
    },
    "id": "-SwLUNk1-VbY",
    "outputId": "67856048-8e26-4085-91ad-326d3abb4ea4"
   },
   "outputs": [
    {
     "name": "stdout",
     "output_type": "stream",
     "text": [
      "1\n",
      "0\n"
     ]
    }
   ],
   "source": [
    "# 3.15 True, False 의 정수값 확인\n",
    "print(int(True))\n",
    "print(int(False))"
   ]
  },
  {
   "cell_type": "code",
   "execution_count": 17,
   "metadata": {
    "colab": {
     "base_uri": "https://localhost:8080/",
     "height": 197
    },
    "colab_type": "code",
    "executionInfo": {
     "elapsed": 3175,
     "status": "ok",
     "timestamp": 1557402692825,
     "user": {
      "displayName": "Hwanhee Kim",
      "photoUrl": "https://lh6.googleusercontent.com/-nodxsDvEvZo/AAAAAAAAAAI/AAAAAAAABHE/Ybrj2myvr5Q/s64/photo.jpg",
      "userId": "04863080312902369470"
     },
     "user_tz": -540
    },
    "id": "o5zrs_IeB6gn",
    "outputId": "5743cab1-248d-4714-fea1-07c2dcc7702c"
   },
   "outputs": [
    {
     "name": "stdout",
     "output_type": "stream",
     "text": [
      "199 -0.10876910564676917\n",
      "399 -0.06516038788884798\n",
      "599 -0.04639627285066393\n",
      "799 -0.03592030317787996\n",
      "999 -0.029250269047328036\n",
      "1199 -0.024640649221073646\n",
      "1399 -0.021270688371111308\n",
      "1599 -0.018702292616054324\n",
      "1799 -0.016680188938448085\n",
      "1999 -0.015047887691234387\n"
     ]
    }
   ],
   "source": [
    "# 3.16 첫번째 신경망 네트워크 : AND\n",
    "import numpy as np\n",
    "x = np.array([[1,1], [1,0], [0,1], [0,0]])\n",
    "y = np.array([[1], [0], [0], [0]])\n",
    "w = tf.random.normal([2],0,1)\n",
    "b = tf.random.normal([1],0,1)\n",
    "b_x = 1\n",
    "\n",
    "for i in range(2000):\n",
    "    error_sum = 0\n",
    "    for j in range(4):\n",
    "        output = sigmoid(np.sum(x[j]*w)+b_x*b)\n",
    "        error = y[j][0] - output\n",
    "        w = w + x[j] * 0.1 * error\n",
    "        b = b + b_x * 0.1 * error\n",
    "        error_sum += error\n",
    "        \n",
    "    if i % 200 == 199:\n",
    "        print(i, error_sum)"
   ]
  },
  {
   "cell_type": "code",
   "execution_count": 18,
   "metadata": {
    "colab": {
     "base_uri": "https://localhost:8080/",
     "height": 71
    },
    "colab_type": "code",
    "executionInfo": {
     "elapsed": 614,
     "status": "ok",
     "timestamp": 1557403799382,
     "user": {
      "displayName": "Hwanhee Kim",
      "photoUrl": "https://lh6.googleusercontent.com/-nodxsDvEvZo/AAAAAAAAAAI/AAAAAAAABHE/Ybrj2myvr5Q/s64/photo.jpg",
      "userId": "04863080312902369470"
     },
     "user_tz": -540
    },
    "id": "hGV_LiKHfRFD",
    "outputId": "7105ee4f-1544-4502-ed27-42da515aa54b"
   },
   "outputs": [
    {
     "name": "stdout",
     "output_type": "stream",
     "text": [
      "[1, 2, 3, 1, 2, 3]\n",
      "[]\n",
      "[]\n"
     ]
    }
   ],
   "source": [
    "# 3.17 파이썬에서 리스트에 정수를 곱하기\n",
    "print([1,2,3]*2)\n",
    "print([1,2,3]*0)\n",
    "print([1,2,3]*-1)"
   ]
  },
  {
   "cell_type": "code",
   "execution_count": 19,
   "metadata": {
    "colab": {
     "base_uri": "https://localhost:8080/",
     "height": 172
    },
    "colab_type": "code",
    "executionInfo": {
     "elapsed": 648,
     "status": "error",
     "timestamp": 1557403868664,
     "user": {
      "displayName": "Hwanhee Kim",
      "photoUrl": "https://lh6.googleusercontent.com/-nodxsDvEvZo/AAAAAAAAAAI/AAAAAAAABHE/Ybrj2myvr5Q/s64/photo.jpg",
      "userId": "04863080312902369470"
     },
     "user_tz": -540
    },
    "id": "IaXA9tVYgOKn",
    "outputId": "df253579-d362-44a7-bd93-0c5f22f3d4f2"
   },
   "outputs": [],
   "source": [
    "# 3.18 파이썬에서 리스트에 실수를 곱하기\n",
    "# print([1,2,3]*0.01)"
   ]
  },
  {
   "cell_type": "code",
   "execution_count": 20,
   "metadata": {
    "colab": {
     "base_uri": "https://localhost:8080/",
     "height": 89
    },
    "colab_type": "code",
    "executionInfo": {
     "elapsed": 634,
     "status": "ok",
     "timestamp": 1557707424170,
     "user": {
      "displayName": "Hwanhee Kim",
      "photoUrl": "https://lh6.googleusercontent.com/-nodxsDvEvZo/AAAAAAAAAAI/AAAAAAAABHE/Ybrj2myvr5Q/s64/photo.jpg",
      "userId": "04863080312902369470"
     },
     "user_tz": -540
    },
    "id": "T6HVseMUfWRA",
    "outputId": "d5ae6089-aaa4-486c-ae02-b82b28659acd"
   },
   "outputs": [
    {
     "name": "stdout",
     "output_type": "stream",
     "text": [
      "[2 4 6]\n",
      "[0 0 0]\n",
      "[-1 -2 -3]\n",
      "[0.01 0.02 0.03]\n"
     ]
    }
   ],
   "source": [
    "# 3.19 넘파이 array 에 정수, 실수를 곱하기\n",
    "import numpy as np\n",
    "print(np.array([1,2,3])*2)\n",
    "print(np.array([1,2,3])*0)\n",
    "print(np.array([1,2,3])*-1)\n",
    "print(np.array([1,2,3])*0.01)"
   ]
  },
  {
   "cell_type": "code",
   "execution_count": 21,
   "metadata": {
    "colab": {
     "base_uri": "https://localhost:8080/",
     "height": 89
    },
    "colab_type": "code",
    "executionInfo": {
     "elapsed": 984,
     "status": "ok",
     "timestamp": 1557402695010,
     "user": {
      "displayName": "Hwanhee Kim",
      "photoUrl": "https://lh6.googleusercontent.com/-nodxsDvEvZo/AAAAAAAAAAI/AAAAAAAABHE/Ybrj2myvr5Q/s64/photo.jpg",
      "userId": "04863080312902369470"
     },
     "user_tz": -540
    },
    "id": "l6maf-59at7S",
    "outputId": "96f9185f-f484-400c-b139-32b57e92bd49"
   },
   "outputs": [
    {
     "name": "stdout",
     "output_type": "stream",
     "text": [
      "X: [1 1] Y: [1] Output: 0.9648678928598438\n",
      "X: [1 0] Y: [0] Output: 0.024895672020964387\n",
      "X: [0 1] Y: [0] Output: 0.0249718372820965\n",
      "X: [0 0] Y: [0] Output: 2.3808504120815614e-05\n"
     ]
    }
   ],
   "source": [
    "# 3.20 AND 네트워크의 평가\n",
    "for i in range(4):\n",
    "    print('X:', x[i], 'Y:', y[i], 'Output:', sigmoid(np.sum(x[i]*w)+b))"
   ]
  },
  {
   "cell_type": "markdown",
   "metadata": {
    "colab_type": "text",
    "id": "GYepj949D6nc"
   },
   "source": [
    "## 3.3.4 두번째 신경망 네트워크 : OR"
   ]
  },
  {
   "cell_type": "code",
   "execution_count": 22,
   "metadata": {
    "colab": {
     "base_uri": "https://localhost:8080/",
     "height": 197
    },
    "colab_type": "code",
    "executionInfo": {
     "elapsed": 2656,
     "status": "ok",
     "timestamp": 1557707165225,
     "user": {
      "displayName": "Hwanhee Kim",
      "photoUrl": "https://lh6.googleusercontent.com/-nodxsDvEvZo/AAAAAAAAAAI/AAAAAAAABHE/Ybrj2myvr5Q/s64/photo.jpg",
      "userId": "04863080312902369470"
     },
     "user_tz": -540
    },
    "id": "orVUfaGAXEr5",
    "outputId": "043c8e84-cf11-4432-ef50-aee3e69258f8"
   },
   "outputs": [
    {
     "name": "stdout",
     "output_type": "stream",
     "text": [
      "199 -0.057627867834242674\n",
      "399 -0.02749047835710039\n",
      "599 -0.018086755640470104\n",
      "799 -0.013440958590197907\n",
      "999 -0.010675308025150598\n",
      "1199 -0.008844206592986341\n",
      "1399 -0.007544537001605699\n",
      "1599 -0.006574969053202068\n",
      "1799 -0.005824589589489171\n",
      "1999 -0.0052257333225028055\n"
     ]
    }
   ],
   "source": [
    "# 3.21 두번째 신경망 네트워크 : OR\n",
    "import numpy as np\n",
    "x = np.array([[1,1], [1,0], [0,1], [0,0]])\n",
    "y = np.array([[1], [1], [1], [0]])\n",
    "w = tf.random.normal([2],0,1)\n",
    "b = tf.random.normal([1],0,1)\n",
    "b_x = 1\n",
    "\n",
    "for i in range(2000):\n",
    "    error_sum = 0\n",
    "    for j in range(4):\n",
    "        output = sigmoid(np.sum(x[j]*w)+b_x*b)\n",
    "        error = y[j][0] - output\n",
    "        w = w + x[j] * 0.1 * error\n",
    "        b = b + b_x * 0.1 * error\n",
    "        error_sum += error\n",
    "        \n",
    "    if i % 200 == 199:\n",
    "        print(i, error_sum)"
   ]
  },
  {
   "cell_type": "code",
   "execution_count": 23,
   "metadata": {
    "colab": {
     "base_uri": "https://localhost:8080/",
     "height": 89
    },
    "colab_type": "code",
    "executionInfo": {
     "elapsed": 639,
     "status": "ok",
     "timestamp": 1557707434897,
     "user": {
      "displayName": "Hwanhee Kim",
      "photoUrl": "https://lh6.googleusercontent.com/-nodxsDvEvZo/AAAAAAAAAAI/AAAAAAAABHE/Ybrj2myvr5Q/s64/photo.jpg",
      "userId": "04863080312902369470"
     },
     "user_tz": -540
    },
    "id": "-iXp-4VflRwi",
    "outputId": "e56e22ee-ebc3-4772-b83c-9a8e5c7db961"
   },
   "outputs": [
    {
     "name": "stdout",
     "output_type": "stream",
     "text": [
      "X: [1 1] Y: [1] Output: 0.999997079050604\n",
      "X: [1 0] Y: [1] Output: 0.989660675211867\n",
      "X: [0 1] Y: [1] Output: 0.9895964538007479\n",
      "X: [0 0] Y: [0] Output: 0.025905818812116347\n"
     ]
    }
   ],
   "source": [
    "# 3.22 OR 네트워크의 평가\n",
    "for i in range(4):\n",
    "    print('X:', x[i], 'Y:', y[i], 'Output:', sigmoid(np.sum(x[i]*w)+b))"
   ]
  },
  {
   "cell_type": "markdown",
   "metadata": {
    "colab_type": "text",
    "id": "QgOO48DlEELV"
   },
   "source": [
    "## 3.3.5 세번째 신경망 네트워크 : XOR"
   ]
  },
  {
   "cell_type": "code",
   "execution_count": 24,
   "metadata": {
    "colab": {
     "base_uri": "https://localhost:8080/",
     "height": 197
    },
    "colab_type": "code",
    "executionInfo": {
     "elapsed": 2494,
     "status": "ok",
     "timestamp": 1557708084919,
     "user": {
      "displayName": "Hwanhee Kim",
      "photoUrl": "https://lh6.googleusercontent.com/-nodxsDvEvZo/AAAAAAAAAAI/AAAAAAAABHE/Ybrj2myvr5Q/s64/photo.jpg",
      "userId": "04863080312902369470"
     },
     "user_tz": -540
    },
    "id": "50OujnLhouap",
    "outputId": "c5b01dad-39e7-467c-b677-a52a82a20abe"
   },
   "outputs": [
    {
     "name": "stdout",
     "output_type": "stream",
     "text": [
      "199 0.002006363938093947\n",
      "399 8.154358679601792e-05\n",
      "599 3.313331583321144e-06\n",
      "799 1.3960658440392848e-07\n",
      "999 3.722842145670313e-09\n",
      "1199 1.8614210173240053e-09\n",
      "1399 1.8614210173240053e-09\n",
      "1599 1.8614210173240053e-09\n",
      "1799 1.8614210173240053e-09\n",
      "1999 1.8614210173240053e-09\n"
     ]
    }
   ],
   "source": [
    "# 3.23 세번째 신경망 네트워크 : XOR\n",
    "import numpy as np\n",
    "x = np.array([[1,1], [1,0], [0,1], [0,0]])\n",
    "y = np.array([[0], [1], [1], [0]])\n",
    "w = tf.random.normal([2],0,1)\n",
    "b = tf.random.normal([1],0,1)\n",
    "b_x = 1\n",
    "\n",
    "for i in range(2000):\n",
    "    error_sum = 0\n",
    "    for j in range(4):\n",
    "        output = sigmoid(np.sum(x[j]*w)+b_x*b)\n",
    "        error = y[j][0] - output\n",
    "        w = w + x[j] * 0.1 * error\n",
    "        b = b + b_x * 0.1 * error\n",
    "        error_sum += error\n",
    "        \n",
    "    if i % 200 == 199:\n",
    "        print(i, error_sum)"
   ]
  },
  {
   "cell_type": "code",
   "execution_count": 25,
   "metadata": {
    "colab": {
     "base_uri": "https://localhost:8080/",
     "height": 89
    },
    "colab_type": "code",
    "executionInfo": {
     "elapsed": 637,
     "status": "ok",
     "timestamp": 1557708105621,
     "user": {
      "displayName": "Hwanhee Kim",
      "photoUrl": "https://lh6.googleusercontent.com/-nodxsDvEvZo/AAAAAAAAAAI/AAAAAAAABHE/Ybrj2myvr5Q/s64/photo.jpg",
      "userId": "04863080312902369470"
     },
     "user_tz": -540
    },
    "id": "K77eQ8FYo04H",
    "outputId": "6fbb92d4-5d90-4dc6-d63e-9fee59d17ef9"
   },
   "outputs": [
    {
     "name": "stdout",
     "output_type": "stream",
     "text": [
      "X: [1 1] Y: [0] Output: 0.5128176323940516\n",
      "X: [1 0] Y: [1] Output: 0.5128176314633411\n",
      "X: [0 1] Y: [1] Output: 0.4999999990686774\n",
      "X: [0 0] Y: [0] Output: 0.49999999813735485\n"
     ]
    }
   ],
   "source": [
    "# 3.24 XOR 네트워크의 평가\n",
    "for i in range(4):\n",
    "    print('X:', x[i], 'Y:', y[i], 'Output:', sigmoid(np.sum(x[i]*w)+b))"
   ]
  },
  {
   "cell_type": "code",
   "execution_count": 26,
   "metadata": {
    "colab": {
     "base_uri": "https://localhost:8080/",
     "height": 53
    },
    "colab_type": "code",
    "executionInfo": {
     "elapsed": 665,
     "status": "ok",
     "timestamp": 1557711429852,
     "user": {
      "displayName": "Hwanhee Kim",
      "photoUrl": "https://lh6.googleusercontent.com/-nodxsDvEvZo/AAAAAAAAAAI/AAAAAAAABHE/Ybrj2myvr5Q/s64/photo.jpg",
      "userId": "04863080312902369470"
     },
     "user_tz": -540
    },
    "id": "0HsT3BKW1ajx",
    "outputId": "d135ba44-6caa-46e6-facf-802fb75cdce8"
   },
   "outputs": [
    {
     "name": "stdout",
     "output_type": "stream",
     "text": [
      "w: tf.Tensor([5.1281769e-02 3.7252903e-09], shape=(2,), dtype=float32)\n",
      "b: tf.Tensor([-7.450581e-09], shape=(1,), dtype=float32)\n"
     ]
    }
   ],
   "source": [
    "# 3.25 XOR 네트워크의 w, b 값 확인\n",
    "print('w:', w)\n",
    "print('b:', b)"
   ]
  },
  {
   "cell_type": "code",
   "execution_count": 27,
   "metadata": {
    "colab": {},
    "colab_type": "code",
    "id": "s-JnstrlDeXR"
   },
   "outputs": [],
   "source": [
    "# 3.26 AND 네트워크의 w, b 값 확인\n",
    "# w: tf.Tensor([6.9484286 6.951607 ], shape=(2,), dtype=float32)\n",
    "# b: tf.Tensor([-10.601849], shape=(1,), dtype=float32)"
   ]
  },
  {
   "cell_type": "code",
   "execution_count": 28,
   "metadata": {
    "colab": {
     "base_uri": "https://localhost:8080/",
     "height": 233
    },
    "colab_type": "code",
    "executionInfo": {
     "elapsed": 843,
     "status": "ok",
     "timestamp": 1558017514570,
     "user": {
      "displayName": "Hwanhee Kim",
      "photoUrl": "https://lh6.googleusercontent.com/-nodxsDvEvZo/AAAAAAAAAAI/AAAAAAAABHE/Ybrj2myvr5Q/s64/photo.jpg",
      "userId": "04863080312902369470"
     },
     "user_tz": -540
    },
    "id": "mmyyA5XpEdBj",
    "outputId": "eb60a35e-be66-4857-e1d4-fdcca6f1d81d"
   },
   "outputs": [
    {
     "name": "stdout",
     "output_type": "stream",
     "text": [
      "Model: \"sequential\"\n",
      "_________________________________________________________________\n",
      "Layer (type)                 Output Shape              Param #   \n",
      "=================================================================\n",
      "dense (Dense)                (None, 2)                 6         \n",
      "_________________________________________________________________\n",
      "dense_1 (Dense)              (None, 1)                 3         \n",
      "=================================================================\n",
      "Total params: 9\n",
      "Trainable params: 9\n",
      "Non-trainable params: 0\n",
      "_________________________________________________________________\n"
     ]
    }
   ],
   "source": [
    "# 3.27 tf.keras 를 이용한 XOR 네트워크 계산\n",
    "import numpy as np\n",
    "x = np.array([[1,1], [1,0], [0,1], [0,0]])\n",
    "y = np.array([[0], [1], [1], [0]])\n",
    "\n",
    "model = tf.keras.Sequential([\n",
    "    tf.keras.layers.Dense(units=2, activation='sigmoid', input_shape=(2,)),\n",
    "    tf.keras.layers.Dense(units=1, activation='sigmoid')\n",
    "])\n",
    "\n",
    "model.compile(optimizer=tf.keras.optimizers.SGD(lr=0.3), loss='mse')\n",
    "\n",
    "model.summary()"
   ]
  },
  {
   "cell_type": "code",
   "execution_count": null,
   "metadata": {
    "colab": {
     "base_uri": "https://localhost:8080/",
     "height": 72017
    },
    "colab_type": "code",
    "executionInfo": {
     "elapsed": 21465,
     "status": "ok",
     "timestamp": 1558017536498,
     "user": {
      "displayName": "Hwanhee Kim",
      "photoUrl": "https://lh6.googleusercontent.com/-nodxsDvEvZo/AAAAAAAAAAI/AAAAAAAABHE/Ybrj2myvr5Q/s64/photo.jpg",
      "userId": "04863080312902369470"
     },
     "user_tz": -540
    },
    "id": "Bo-9gEOmh8L-",
    "outputId": "50a9b20a-499c-4070-8dc3-bc6a2b198b0e"
   },
   "outputs": [
    {
     "name": "stdout",
     "output_type": "stream",
     "text": [
      "Epoch 1/2000\n",
      "4/4 [==============================] - 0s 2ms/step - loss: 0.2240\n",
      "Epoch 2/2000\n",
      "4/4 [==============================] - 0s 2ms/step - loss: 0.2828\n",
      "Epoch 3/2000\n",
      "4/4 [==============================] - 0s 2ms/step - loss: 0.2821\n",
      "Epoch 4/2000\n",
      "4/4 [==============================] - 0s 3ms/step - loss: 0.2523\n",
      "Epoch 5/2000\n",
      "4/4 [==============================] - 0s 2ms/step - loss: 0.2698\n",
      "Epoch 6/2000\n",
      "4/4 [==============================] - 0s 3ms/step - loss: 0.2540\n",
      "Epoch 7/2000\n",
      "4/4 [==============================] - 0s 2ms/step - loss: 0.2640\n",
      "Epoch 8/2000\n",
      "4/4 [==============================] - 0s 2ms/step - loss: 0.2459\n",
      "Epoch 9/2000\n",
      "4/4 [==============================] - 0s 3ms/step - loss: 0.2608\n",
      "Epoch 10/2000\n",
      "4/4 [==============================] - 0s 2ms/step - loss: 0.2580\n",
      "Epoch 11/2000\n",
      "4/4 [==============================] - 0s 3ms/step - loss: 0.2649\n",
      "Epoch 12/2000\n",
      "4/4 [==============================] - 0s 2ms/step - loss: 0.2586\n",
      "Epoch 13/2000\n",
      "4/4 [==============================] - 0s 3ms/step - loss: 0.2588\n",
      "Epoch 14/2000\n",
      "4/4 [==============================] - 0s 3ms/step - loss: 0.2626\n",
      "Epoch 15/2000\n",
      "4/4 [==============================] - 0s 3ms/step - loss: 0.2594\n",
      "Epoch 16/2000\n",
      "4/4 [==============================] - 0s 4ms/step - loss: 0.2633\n",
      "Epoch 17/2000\n",
      "4/4 [==============================] - 0s 2ms/step - loss: 0.2591\n",
      "Epoch 18/2000\n",
      "4/4 [==============================] - 0s 2ms/step - loss: 0.2583\n",
      "Epoch 19/2000\n",
      "4/4 [==============================] - 0s 3ms/step - loss: 0.2577\n",
      "Epoch 20/2000\n",
      "4/4 [==============================] - 0s 2ms/step - loss: 0.2676\n",
      "Epoch 21/2000\n",
      "4/4 [==============================] - 0s 4ms/step - loss: 0.2578\n",
      "Epoch 22/2000\n",
      "4/4 [==============================] - 0s 2ms/step - loss: 0.2652\n",
      "Epoch 23/2000\n",
      "4/4 [==============================] - 0s 1ms/step - loss: 0.2610\n",
      "Epoch 24/2000\n",
      "4/4 [==============================] - 0s 3ms/step - loss: 0.2611\n",
      "Epoch 25/2000\n",
      "4/4 [==============================] - 0s 2ms/step - loss: 0.2590\n",
      "Epoch 26/2000\n",
      "4/4 [==============================] - 0s 2ms/step - loss: 0.2572\n",
      "Epoch 27/2000\n",
      "4/4 [==============================] - 0s 2ms/step - loss: 0.2483\n",
      "Epoch 28/2000\n",
      "4/4 [==============================] - 0s 3ms/step - loss: 0.2561\n",
      "Epoch 29/2000\n",
      "4/4 [==============================] - 0s 2ms/step - loss: 0.2590\n",
      "Epoch 30/2000\n",
      "4/4 [==============================] - 0s 2ms/step - loss: 0.2600\n",
      "Epoch 31/2000\n",
      "4/4 [==============================] - 0s 2ms/step - loss: 0.2613\n",
      "Epoch 32/2000\n",
      "4/4 [==============================] - 0s 1ms/step - loss: 0.2568\n",
      "Epoch 33/2000\n",
      "4/4 [==============================] - 0s 2ms/step - loss: 0.2625\n",
      "Epoch 34/2000\n",
      "4/4 [==============================] - 0s 2ms/step - loss: 0.2588\n",
      "Epoch 35/2000\n",
      "4/4 [==============================] - 0s 2ms/step - loss: 0.2615\n",
      "Epoch 36/2000\n",
      "4/4 [==============================] - 0s 3ms/step - loss: 0.2608\n",
      "Epoch 37/2000\n",
      "4/4 [==============================] - 0s 2ms/step - loss: 0.2597\n",
      "Epoch 38/2000\n",
      "4/4 [==============================] - 0s 2ms/step - loss: 0.2584\n",
      "Epoch 39/2000\n",
      "4/4 [==============================] - 0s 3ms/step - loss: 0.2634\n",
      "Epoch 40/2000\n",
      "4/4 [==============================] - 0s 2ms/step - loss: 0.2587\n",
      "Epoch 41/2000\n",
      "4/4 [==============================] - 0s 2ms/step - loss: 0.2624\n",
      "Epoch 42/2000\n",
      "4/4 [==============================] - 0s 2ms/step - loss: 0.2647\n",
      "Epoch 43/2000\n",
      "4/4 [==============================] - 0s 2ms/step - loss: 0.2574\n",
      "Epoch 44/2000\n",
      "4/4 [==============================] - 0s 2ms/step - loss: 0.2580\n",
      "Epoch 45/2000\n",
      "4/4 [==============================] - 0s 2ms/step - loss: 0.2622\n",
      "Epoch 46/2000\n",
      "4/4 [==============================] - 0s 2ms/step - loss: 0.2539\n",
      "Epoch 47/2000\n",
      "4/4 [==============================] - 0s 2ms/step - loss: 0.2604\n",
      "Epoch 48/2000\n",
      "4/4 [==============================] - 0s 2ms/step - loss: 0.2608\n",
      "Epoch 49/2000\n",
      "4/4 [==============================] - 0s 2ms/step - loss: 0.2548\n",
      "Epoch 50/2000\n",
      "4/4 [==============================] - 0s 2ms/step - loss: 0.2583\n",
      "Epoch 51/2000\n",
      "4/4 [==============================] - 0s 2ms/step - loss: 0.2617\n",
      "Epoch 52/2000\n",
      "4/4 [==============================] - 0s 1ms/step - loss: 0.2519\n",
      "Epoch 53/2000\n",
      "4/4 [==============================] - 0s 1ms/step - loss: 0.2549\n",
      "Epoch 54/2000\n",
      "4/4 [==============================] - 0s 2ms/step - loss: 0.2637\n",
      "Epoch 55/2000\n",
      "4/4 [==============================] - 0s 2ms/step - loss: 0.2648\n",
      "Epoch 56/2000\n",
      "4/4 [==============================] - 0s 1ms/step - loss: 0.2633\n",
      "Epoch 57/2000\n",
      "4/4 [==============================] - 0s 1ms/step - loss: 0.2574\n",
      "Epoch 58/2000\n",
      "4/4 [==============================] - 0s 1ms/step - loss: 0.2588\n",
      "Epoch 59/2000\n",
      "4/4 [==============================] - 0s 2ms/step - loss: 0.2658\n",
      "Epoch 60/2000\n",
      "4/4 [==============================] - 0s 2ms/step - loss: 0.2510\n",
      "Epoch 61/2000\n",
      "4/4 [==============================] - 0s 1ms/step - loss: 0.2592\n",
      "Epoch 62/2000\n",
      "4/4 [==============================] - 0s 2ms/step - loss: 0.2618\n",
      "Epoch 63/2000\n",
      "4/4 [==============================] - 0s 2ms/step - loss: 0.2624\n",
      "Epoch 64/2000\n",
      "4/4 [==============================] - 0s 1ms/step - loss: 0.2649\n",
      "Epoch 65/2000\n",
      "4/4 [==============================] - 0s 2ms/step - loss: 0.2634\n",
      "Epoch 66/2000\n",
      "4/4 [==============================] - 0s 1ms/step - loss: 0.2592\n",
      "Epoch 67/2000\n",
      "4/4 [==============================] - 0s 1ms/step - loss: 0.2637\n",
      "Epoch 68/2000\n",
      "4/4 [==============================] - 0s 2ms/step - loss: 0.2643\n",
      "Epoch 69/2000\n",
      "4/4 [==============================] - 0s 2ms/step - loss: 0.2570\n",
      "Epoch 70/2000\n",
      "4/4 [==============================] - 0s 2ms/step - loss: 0.2622\n",
      "Epoch 71/2000\n",
      "4/4 [==============================] - 0s 2ms/step - loss: 0.2622\n",
      "Epoch 72/2000\n",
      "4/4 [==============================] - 0s 2ms/step - loss: 0.2577\n",
      "Epoch 73/2000\n",
      "4/4 [==============================] - 0s 2ms/step - loss: 0.2603\n",
      "Epoch 74/2000\n",
      "4/4 [==============================] - 0s 2ms/step - loss: 0.2647\n",
      "Epoch 75/2000\n",
      "4/4 [==============================] - 0s 1ms/step - loss: 0.2644\n",
      "Epoch 76/2000\n",
      "4/4 [==============================] - 0s 2ms/step - loss: 0.2622\n",
      "Epoch 77/2000\n",
      "4/4 [==============================] - 0s 1ms/step - loss: 0.2579\n",
      "Epoch 78/2000\n",
      "4/4 [==============================] - 0s 2ms/step - loss: 0.2626\n",
      "Epoch 79/2000\n",
      "4/4 [==============================] - 0s 6ms/step - loss: 0.2634\n",
      "Epoch 80/2000\n",
      "4/4 [==============================] - 0s 2ms/step - loss: 0.2547\n",
      "Epoch 81/2000\n",
      "4/4 [==============================] - 0s 2ms/step - loss: 0.2515\n",
      "Epoch 82/2000\n",
      "4/4 [==============================] - 0s 2ms/step - loss: 0.2625\n",
      "Epoch 83/2000\n",
      "4/4 [==============================] - 0s 2ms/step - loss: 0.2557\n",
      "Epoch 84/2000\n",
      "4/4 [==============================] - 0s 2ms/step - loss: 0.2583\n",
      "Epoch 85/2000\n",
      "4/4 [==============================] - 0s 2ms/step - loss: 0.2621\n",
      "Epoch 86/2000\n",
      "4/4 [==============================] - 0s 2ms/step - loss: 0.2582\n",
      "Epoch 87/2000\n",
      "4/4 [==============================] - 0s 1ms/step - loss: 0.2630\n",
      "Epoch 88/2000\n",
      "4/4 [==============================] - 0s 1ms/step - loss: 0.2558\n",
      "Epoch 89/2000\n",
      "4/4 [==============================] - 0s 983us/step - loss: 0.2610\n",
      "Epoch 90/2000\n",
      "4/4 [==============================] - 0s 2ms/step - loss: 0.2607\n",
      "Epoch 91/2000\n",
      "4/4 [==============================] - 0s 3ms/step - loss: 0.2620\n",
      "Epoch 92/2000\n",
      "4/4 [==============================] - 0s 2ms/step - loss: 0.2538\n",
      "Epoch 93/2000\n",
      "4/4 [==============================] - 0s 2ms/step - loss: 0.2631\n",
      "Epoch 94/2000\n",
      "4/4 [==============================] - 0s 1ms/step - loss: 0.2557\n",
      "Epoch 95/2000\n",
      "4/4 [==============================] - 0s 2ms/step - loss: 0.2592\n",
      "Epoch 96/2000\n",
      "4/4 [==============================] - 0s 1ms/step - loss: 0.2551\n",
      "Epoch 97/2000\n",
      "4/4 [==============================] - 0s 2ms/step - loss: 0.2538\n",
      "Epoch 98/2000\n",
      "4/4 [==============================] - 0s 1ms/step - loss: 0.2624\n",
      "Epoch 99/2000\n",
      "4/4 [==============================] - 0s 2ms/step - loss: 0.2570\n",
      "Epoch 100/2000\n",
      "4/4 [==============================] - 0s 2ms/step - loss: 0.2594\n",
      "Epoch 101/2000\n",
      "4/4 [==============================] - 0s 1ms/step - loss: 0.2647\n",
      "Epoch 102/2000\n",
      "4/4 [==============================] - 0s 2ms/step - loss: 0.2628\n",
      "Epoch 103/2000\n"
     ]
    },
    {
     "name": "stdout",
     "output_type": "stream",
     "text": [
      "4/4 [==============================] - 0s 1ms/step - loss: 0.2629\n",
      "Epoch 104/2000\n",
      "4/4 [==============================] - 0s 2ms/step - loss: 0.2507\n",
      "Epoch 105/2000\n",
      "4/4 [==============================] - 0s 2ms/step - loss: 0.2582\n",
      "Epoch 106/2000\n",
      "4/4 [==============================] - 0s 2ms/step - loss: 0.2643\n",
      "Epoch 107/2000\n",
      "4/4 [==============================] - 0s 2ms/step - loss: 0.2620\n",
      "Epoch 108/2000\n",
      "4/4 [==============================] - 0s 2ms/step - loss: 0.2620\n",
      "Epoch 109/2000\n",
      "4/4 [==============================] - 0s 1ms/step - loss: 0.2544\n",
      "Epoch 110/2000\n",
      "4/4 [==============================] - 0s 1ms/step - loss: 0.2615\n",
      "Epoch 111/2000\n",
      "4/4 [==============================] - 0s 2ms/step - loss: 0.2601\n",
      "Epoch 112/2000\n",
      "4/4 [==============================] - 0s 2ms/step - loss: 0.2602\n",
      "Epoch 113/2000\n",
      "4/4 [==============================] - 0s 2ms/step - loss: 0.2632\n",
      "Epoch 114/2000\n",
      "4/4 [==============================] - 0s 4ms/step - loss: 0.2520\n",
      "Epoch 115/2000\n",
      "4/4 [==============================] - 0s 2ms/step - loss: 0.2622\n",
      "Epoch 116/2000\n",
      "4/4 [==============================] - 0s 2ms/step - loss: 0.2524\n",
      "Epoch 117/2000\n",
      "4/4 [==============================] - 0s 3ms/step - loss: 0.2639\n",
      "Epoch 118/2000\n",
      "4/4 [==============================] - 0s 3ms/step - loss: 0.2617\n",
      "Epoch 119/2000\n",
      "4/4 [==============================] - 0s 3ms/step - loss: 0.2637\n",
      "Epoch 120/2000\n",
      "4/4 [==============================] - 0s 3ms/step - loss: 0.2628\n",
      "Epoch 121/2000\n",
      "4/4 [==============================] - 0s 1ms/step - loss: 0.2555\n",
      "Epoch 122/2000\n",
      "4/4 [==============================] - 0s 3ms/step - loss: 0.2578\n",
      "Epoch 123/2000\n",
      "4/4 [==============================] - 0s 3ms/step - loss: 0.2641\n",
      "Epoch 124/2000\n",
      "4/4 [==============================] - 0s 2ms/step - loss: 0.2528\n",
      "Epoch 125/2000\n",
      "4/4 [==============================] - 0s 3ms/step - loss: 0.2612\n",
      "Epoch 126/2000\n",
      "4/4 [==============================] - 0s 2ms/step - loss: 0.2626\n",
      "Epoch 127/2000\n",
      "4/4 [==============================] - 0s 3ms/step - loss: 0.2569\n",
      "Epoch 128/2000\n",
      "4/4 [==============================] - 0s 2ms/step - loss: 0.2589\n",
      "Epoch 129/2000\n",
      "4/4 [==============================] - 0s 3ms/step - loss: 0.2574\n",
      "Epoch 130/2000\n",
      "4/4 [==============================] - 0s 3ms/step - loss: 0.2547\n",
      "Epoch 131/2000\n",
      "4/4 [==============================] - 0s 3ms/step - loss: 0.2588\n",
      "Epoch 132/2000\n",
      "4/4 [==============================] - 0s 3ms/step - loss: 0.2568\n",
      "Epoch 133/2000\n",
      "4/4 [==============================] - 0s 2ms/step - loss: 0.2581\n",
      "Epoch 134/2000\n",
      "4/4 [==============================] - 0s 2ms/step - loss: 0.2602\n",
      "Epoch 135/2000\n",
      "4/4 [==============================] - 0s 2ms/step - loss: 0.2493\n",
      "Epoch 136/2000\n",
      "4/4 [==============================] - 0s 3ms/step - loss: 0.2620\n",
      "Epoch 137/2000\n",
      "4/4 [==============================] - 0s 3ms/step - loss: 0.2592\n",
      "Epoch 138/2000\n",
      "4/4 [==============================] - 0s 3ms/step - loss: 0.2621\n",
      "Epoch 139/2000\n",
      "4/4 [==============================] - 0s 2ms/step - loss: 0.2527\n",
      "Epoch 140/2000\n",
      "4/4 [==============================] - 0s 2ms/step - loss: 0.2638\n",
      "Epoch 141/2000\n",
      "4/4 [==============================] - 0s 3ms/step - loss: 0.2621\n",
      "Epoch 142/2000\n",
      "4/4 [==============================] - 0s 2ms/step - loss: 0.2617\n",
      "Epoch 143/2000\n",
      "4/4 [==============================] - 0s 4ms/step - loss: 0.2601\n",
      "Epoch 144/2000\n",
      "4/4 [==============================] - 0s 2ms/step - loss: 0.2620\n",
      "Epoch 145/2000\n",
      "4/4 [==============================] - 0s 2ms/step - loss: 0.2567\n",
      "Epoch 146/2000\n",
      "4/4 [==============================] - 0s 3ms/step - loss: 0.2647\n",
      "Epoch 147/2000\n",
      "4/4 [==============================] - 0s 3ms/step - loss: 0.2651\n",
      "Epoch 148/2000\n",
      "4/4 [==============================] - 0s 3ms/step - loss: 0.2513\n",
      "Epoch 149/2000\n",
      "4/4 [==============================] - 0s 2ms/step - loss: 0.2528\n",
      "Epoch 150/2000\n",
      "4/4 [==============================] - 0s 2ms/step - loss: 0.2591\n",
      "Epoch 151/2000\n",
      "4/4 [==============================] - 0s 3ms/step - loss: 0.2580\n",
      "Epoch 152/2000\n",
      "4/4 [==============================] - 0s 2ms/step - loss: 0.2583\n",
      "Epoch 153/2000\n",
      "4/4 [==============================] - 0s 3ms/step - loss: 0.2583\n",
      "Epoch 154/2000\n",
      "4/4 [==============================] - 0s 3ms/step - loss: 0.2497\n",
      "Epoch 155/2000\n",
      "4/4 [==============================] - 0s 3ms/step - loss: 0.2633\n",
      "Epoch 156/2000\n",
      "4/4 [==============================] - 0s 2ms/step - loss: 0.2624\n",
      "Epoch 157/2000\n",
      "4/4 [==============================] - 0s 3ms/step - loss: 0.2559\n",
      "Epoch 158/2000\n",
      "4/4 [==============================] - 0s 2ms/step - loss: 0.2528\n",
      "Epoch 159/2000\n",
      "4/4 [==============================] - 0s 2ms/step - loss: 0.2612\n",
      "Epoch 160/2000\n",
      "4/4 [==============================] - 0s 2ms/step - loss: 0.2535\n",
      "Epoch 161/2000\n",
      "4/4 [==============================] - 0s 2ms/step - loss: 0.2579\n",
      "Epoch 162/2000\n",
      "4/4 [==============================] - 0s 1ms/step - loss: 0.2573\n",
      "Epoch 163/2000\n",
      "4/4 [==============================] - 0s 2ms/step - loss: 0.2602\n",
      "Epoch 164/2000\n",
      "4/4 [==============================] - 0s 2ms/step - loss: 0.2596\n",
      "Epoch 165/2000\n",
      "4/4 [==============================] - 0s 2ms/step - loss: 0.2633\n",
      "Epoch 166/2000\n",
      "4/4 [==============================] - 0s 2ms/step - loss: 0.2630\n",
      "Epoch 167/2000\n",
      "4/4 [==============================] - 0s 2ms/step - loss: 0.2615\n",
      "Epoch 168/2000\n",
      "4/4 [==============================] - 0s 1ms/step - loss: 0.2522\n",
      "Epoch 169/2000\n",
      "4/4 [==============================] - 0s 1ms/step - loss: 0.2587\n",
      "Epoch 170/2000\n",
      "4/4 [==============================] - 0s 1ms/step - loss: 0.2628\n",
      "Epoch 171/2000\n",
      "4/4 [==============================] - 0s 2ms/step - loss: 0.2517\n",
      "Epoch 172/2000\n",
      "4/4 [==============================] - 0s 2ms/step - loss: 0.2618\n",
      "Epoch 173/2000\n",
      "4/4 [==============================] - 0s 1ms/step - loss: 0.2563\n",
      "Epoch 174/2000\n",
      "4/4 [==============================] - 0s 2ms/step - loss: 0.2507\n",
      "Epoch 175/2000\n",
      "4/4 [==============================] - 0s 1ms/step - loss: 0.2622\n",
      "Epoch 176/2000\n",
      "4/4 [==============================] - 0s 1ms/step - loss: 0.2609\n",
      "Epoch 177/2000\n",
      "4/4 [==============================] - 0s 1ms/step - loss: 0.2621\n",
      "Epoch 178/2000\n",
      "4/4 [==============================] - 0s 1ms/step - loss: 0.2562\n",
      "Epoch 179/2000\n",
      "4/4 [==============================] - 0s 2ms/step - loss: 0.2629\n",
      "Epoch 180/2000\n",
      "4/4 [==============================] - 0s 1ms/step - loss: 0.2589\n",
      "Epoch 181/2000\n",
      "4/4 [==============================] - 0s 1ms/step - loss: 0.2572\n",
      "Epoch 182/2000\n",
      "4/4 [==============================] - 0s 1ms/step - loss: 0.2651\n",
      "Epoch 183/2000\n",
      "4/4 [==============================] - 0s 1ms/step - loss: 0.2605\n",
      "Epoch 184/2000\n",
      "4/4 [==============================] - 0s 1ms/step - loss: 0.2585\n",
      "Epoch 185/2000\n",
      "4/4 [==============================] - 0s 2ms/step - loss: 0.2588\n",
      "Epoch 186/2000\n",
      "4/4 [==============================] - 0s 1ms/step - loss: 0.2614\n",
      "Epoch 187/2000\n",
      "4/4 [==============================] - 0s 961us/step - loss: 0.2631\n",
      "Epoch 188/2000\n",
      "4/4 [==============================] - 0s 2ms/step - loss: 0.2593\n",
      "Epoch 189/2000\n",
      "4/4 [==============================] - 0s 2ms/step - loss: 0.2604\n",
      "Epoch 190/2000\n",
      "4/4 [==============================] - 0s 3ms/step - loss: 0.2569\n",
      "Epoch 191/2000\n",
      "4/4 [==============================] - 0s 2ms/step - loss: 0.2569\n",
      "Epoch 192/2000\n",
      "4/4 [==============================] - 0s 2ms/step - loss: 0.2637\n",
      "Epoch 193/2000\n",
      "4/4 [==============================] - 0s 2ms/step - loss: 0.2515\n",
      "Epoch 194/2000\n",
      "4/4 [==============================] - 0s 1ms/step - loss: 0.2556\n",
      "Epoch 195/2000\n",
      "4/4 [==============================] - 0s 2ms/step - loss: 0.2590\n",
      "Epoch 196/2000\n",
      "4/4 [==============================] - 0s 2ms/step - loss: 0.2593\n",
      "Epoch 197/2000\n",
      "4/4 [==============================] - 0s 2ms/step - loss: 0.2539\n",
      "Epoch 198/2000\n",
      "4/4 [==============================] - 0s 2ms/step - loss: 0.2605\n",
      "Epoch 199/2000\n",
      "4/4 [==============================] - 0s 2ms/step - loss: 0.2564\n",
      "Epoch 200/2000\n",
      "4/4 [==============================] - 0s 1ms/step - loss: 0.2571\n",
      "Epoch 201/2000\n",
      "4/4 [==============================] - 0s 2ms/step - loss: 0.2604\n",
      "Epoch 202/2000\n",
      "4/4 [==============================] - 0s 1ms/step - loss: 0.2639\n",
      "Epoch 203/2000\n",
      "4/4 [==============================] - 0s 1ms/step - loss: 0.2603\n",
      "Epoch 204/2000\n"
     ]
    },
    {
     "name": "stdout",
     "output_type": "stream",
     "text": [
      "4/4 [==============================] - 0s 2ms/step - loss: 0.2484\n",
      "Epoch 205/2000\n",
      "4/4 [==============================] - 0s 2ms/step - loss: 0.2557\n",
      "Epoch 206/2000\n",
      "4/4 [==============================] - 0s 1ms/step - loss: 0.2653\n",
      "Epoch 207/2000\n",
      "4/4 [==============================] - 0s 2ms/step - loss: 0.2655\n",
      "Epoch 208/2000\n",
      "4/4 [==============================] - 0s 2ms/step - loss: 0.2608\n",
      "Epoch 209/2000\n",
      "4/4 [==============================] - 0s 2ms/step - loss: 0.2647\n",
      "Epoch 210/2000\n",
      "4/4 [==============================] - 0s 2ms/step - loss: 0.2483\n",
      "Epoch 211/2000\n",
      "4/4 [==============================] - 0s 1ms/step - loss: 0.2605\n",
      "Epoch 212/2000\n",
      "4/4 [==============================] - 0s 2ms/step - loss: 0.2538\n",
      "Epoch 213/2000\n",
      "4/4 [==============================] - 0s 2ms/step - loss: 0.2610\n",
      "Epoch 214/2000\n",
      "4/4 [==============================] - 0s 1ms/step - loss: 0.2619\n",
      "Epoch 215/2000\n",
      "4/4 [==============================] - 0s 2ms/step - loss: 0.2623\n",
      "Epoch 216/2000\n",
      "4/4 [==============================] - 0s 2ms/step - loss: 0.2642\n",
      "Epoch 217/2000\n",
      "4/4 [==============================] - 0s 1ms/step - loss: 0.2609\n",
      "Epoch 218/2000\n",
      "4/4 [==============================] - 0s 2ms/step - loss: 0.2606\n",
      "Epoch 219/2000\n",
      "4/4 [==============================] - 0s 2ms/step - loss: 0.2561\n",
      "Epoch 220/2000\n",
      "4/4 [==============================] - 0s 2ms/step - loss: 0.2588\n",
      "Epoch 221/2000\n",
      "4/4 [==============================] - 0s 2ms/step - loss: 0.2566\n",
      "Epoch 222/2000\n",
      "4/4 [==============================] - 0s 1ms/step - loss: 0.2560\n",
      "Epoch 223/2000\n",
      "4/4 [==============================] - 0s 3ms/step - loss: 0.2602\n",
      "Epoch 224/2000\n",
      "4/4 [==============================] - 0s 1ms/step - loss: 0.2593\n",
      "Epoch 225/2000\n",
      "4/4 [==============================] - 0s 3ms/step - loss: 0.2598\n",
      "Epoch 226/2000\n",
      "4/4 [==============================] - 0s 2ms/step - loss: 0.2614\n",
      "Epoch 227/2000\n",
      "4/4 [==============================] - 0s 2ms/step - loss: 0.2570\n",
      "Epoch 228/2000\n",
      "4/4 [==============================] - 0s 2ms/step - loss: 0.2596\n",
      "Epoch 229/2000\n",
      "4/4 [==============================] - 0s 1ms/step - loss: 0.2607\n",
      "Epoch 230/2000\n",
      "4/4 [==============================] - 0s 1ms/step - loss: 0.2616\n",
      "Epoch 231/2000\n",
      "4/4 [==============================] - 0s 2ms/step - loss: 0.2548\n",
      "Epoch 232/2000\n",
      "4/4 [==============================] - 0s 1ms/step - loss: 0.2576\n",
      "Epoch 233/2000\n",
      "4/4 [==============================] - 0s 2ms/step - loss: 0.2596\n",
      "Epoch 234/2000\n",
      "4/4 [==============================] - 0s 1ms/step - loss: 0.2622\n",
      "Epoch 235/2000\n",
      "4/4 [==============================] - 0s 1ms/step - loss: 0.2610\n",
      "Epoch 236/2000\n",
      "4/4 [==============================] - 0s 1ms/step - loss: 0.2621\n",
      "Epoch 237/2000\n",
      "4/4 [==============================] - 0s 2ms/step - loss: 0.2602\n",
      "Epoch 238/2000\n",
      "4/4 [==============================] - 0s 2ms/step - loss: 0.2599\n",
      "Epoch 239/2000\n",
      "4/4 [==============================] - 0s 2ms/step - loss: 0.2623\n",
      "Epoch 240/2000\n",
      "4/4 [==============================] - 0s 2ms/step - loss: 0.2569\n",
      "Epoch 241/2000\n",
      "4/4 [==============================] - 0s 2ms/step - loss: 0.2554\n",
      "Epoch 242/2000\n",
      "4/4 [==============================] - 0s 2ms/step - loss: 0.2569\n",
      "Epoch 243/2000\n",
      "4/4 [==============================] - 0s 2ms/step - loss: 0.2586\n",
      "Epoch 244/2000\n",
      "4/4 [==============================] - 0s 2ms/step - loss: 0.2476\n",
      "Epoch 245/2000\n",
      "4/4 [==============================] - 0s 1ms/step - loss: 0.2563\n",
      "Epoch 246/2000\n",
      "4/4 [==============================] - 0s 1ms/step - loss: 0.2555\n",
      "Epoch 247/2000\n",
      "4/4 [==============================] - 0s 1ms/step - loss: 0.2589\n",
      "Epoch 248/2000\n",
      "4/4 [==============================] - 0s 1ms/step - loss: 0.2554\n",
      "Epoch 249/2000\n",
      "4/4 [==============================] - 0s 970us/step - loss: 0.2519\n",
      "Epoch 250/2000\n",
      "4/4 [==============================] - 0s 987us/step - loss: 0.2571\n",
      "Epoch 251/2000\n",
      "4/4 [==============================] - 0s 1ms/step - loss: 0.2547\n",
      "Epoch 252/2000\n",
      "4/4 [==============================] - 0s 1ms/step - loss: 0.2592\n",
      "Epoch 253/2000\n",
      "4/4 [==============================] - 0s 2ms/step - loss: 0.2595\n",
      "Epoch 254/2000\n",
      "4/4 [==============================] - 0s 1ms/step - loss: 0.2619\n",
      "Epoch 255/2000\n",
      "4/4 [==============================] - 0s 1ms/step - loss: 0.2582\n",
      "Epoch 256/2000\n",
      "4/4 [==============================] - 0s 1ms/step - loss: 0.2593\n",
      "Epoch 257/2000\n",
      "4/4 [==============================] - 0s 1ms/step - loss: 0.2627\n",
      "Epoch 258/2000\n",
      "4/4 [==============================] - 0s 1ms/step - loss: 0.2592\n",
      "Epoch 259/2000\n",
      "4/4 [==============================] - 0s 1ms/step - loss: 0.2627\n",
      "Epoch 260/2000\n",
      "4/4 [==============================] - 0s 1ms/step - loss: 0.2522\n",
      "Epoch 261/2000\n",
      "4/4 [==============================] - 0s 1ms/step - loss: 0.2571\n",
      "Epoch 262/2000\n",
      "4/4 [==============================] - 0s 1ms/step - loss: 0.2545\n",
      "Epoch 263/2000\n",
      "4/4 [==============================] - 0s 1ms/step - loss: 0.2502\n",
      "Epoch 264/2000\n",
      "4/4 [==============================] - 0s 1ms/step - loss: 0.2536\n",
      "Epoch 265/2000\n",
      "4/4 [==============================] - 0s 1ms/step - loss: 0.2538\n",
      "Epoch 266/2000\n",
      "4/4 [==============================] - 0s 2ms/step - loss: 0.2583\n",
      "Epoch 267/2000\n",
      "4/4 [==============================] - 0s 1ms/step - loss: 0.2602\n",
      "Epoch 268/2000\n",
      "4/4 [==============================] - 0s 1ms/step - loss: 0.2596\n",
      "Epoch 269/2000\n",
      "4/4 [==============================] - 0s 2ms/step - loss: 0.2606\n",
      "Epoch 270/2000\n",
      "4/4 [==============================] - 0s 2ms/step - loss: 0.2583\n",
      "Epoch 271/2000\n",
      "4/4 [==============================] - 0s 2ms/step - loss: 0.2593\n",
      "Epoch 272/2000\n",
      "4/4 [==============================] - 0s 2ms/step - loss: 0.2602\n",
      "Epoch 273/2000\n",
      "4/4 [==============================] - 0s 1ms/step - loss: 0.2566\n",
      "Epoch 274/2000\n",
      "4/4 [==============================] - 0s 1ms/step - loss: 0.2594\n",
      "Epoch 275/2000\n",
      "4/4 [==============================] - 0s 1ms/step - loss: 0.2606\n",
      "Epoch 276/2000\n",
      "4/4 [==============================] - 0s 1ms/step - loss: 0.2611\n",
      "Epoch 277/2000\n",
      "4/4 [==============================] - 0s 1ms/step - loss: 0.2561\n",
      "Epoch 278/2000\n",
      "4/4 [==============================] - 0s 1ms/step - loss: 0.2572\n",
      "Epoch 279/2000\n",
      "4/4 [==============================] - 0s 1ms/step - loss: 0.2612\n",
      "Epoch 280/2000\n",
      "4/4 [==============================] - 0s 1ms/step - loss: 0.2557\n",
      "Epoch 281/2000\n",
      "4/4 [==============================] - 0s 1ms/step - loss: 0.2594\n",
      "Epoch 282/2000\n",
      "4/4 [==============================] - 0s 1ms/step - loss: 0.2574\n",
      "Epoch 283/2000\n",
      "4/4 [==============================] - 0s 1ms/step - loss: 0.2597\n",
      "Epoch 284/2000\n",
      "4/4 [==============================] - 0s 2ms/step - loss: 0.2612\n",
      "Epoch 285/2000\n",
      "4/4 [==============================] - 0s 1ms/step - loss: 0.2565\n",
      "Epoch 286/2000\n",
      "4/4 [==============================] - 0s 2ms/step - loss: 0.2556\n",
      "Epoch 287/2000\n",
      "4/4 [==============================] - 0s 1ms/step - loss: 0.2559\n",
      "Epoch 288/2000\n",
      "4/4 [==============================] - 0s 1ms/step - loss: 0.2599\n",
      "Epoch 289/2000\n",
      "4/4 [==============================] - 0s 2ms/step - loss: 0.2601\n",
      "Epoch 290/2000\n",
      "4/4 [==============================] - 0s 2ms/step - loss: 0.2587\n",
      "Epoch 291/2000\n",
      "4/4 [==============================] - 0s 2ms/step - loss: 0.2573\n",
      "Epoch 292/2000\n",
      "4/4 [==============================] - 0s 1ms/step - loss: 0.2576\n",
      "Epoch 293/2000\n",
      "4/4 [==============================] - 0s 1ms/step - loss: 0.2529\n",
      "Epoch 294/2000\n",
      "4/4 [==============================] - 0s 781us/step - loss: 0.2611\n",
      "Epoch 295/2000\n",
      "4/4 [==============================] - 0s 932us/step - loss: 0.2562\n",
      "Epoch 296/2000\n",
      "4/4 [==============================] - 0s 931us/step - loss: 0.2583\n",
      "Epoch 297/2000\n",
      "4/4 [==============================] - 0s 1ms/step - loss: 0.2571\n",
      "Epoch 298/2000\n",
      "4/4 [==============================] - 0s 896us/step - loss: 0.2584\n",
      "Epoch 299/2000\n",
      "4/4 [==============================] - 0s 1ms/step - loss: 0.2614\n",
      "Epoch 300/2000\n",
      "4/4 [==============================] - 0s 1ms/step - loss: 0.2655\n",
      "Epoch 301/2000\n",
      "4/4 [==============================] - 0s 1ms/step - loss: 0.2474\n",
      "Epoch 302/2000\n",
      "4/4 [==============================] - 0s 2ms/step - loss: 0.2592\n",
      "Epoch 303/2000\n",
      "4/4 [==============================] - 0s 1000us/step - loss: 0.2580\n",
      "Epoch 304/2000\n",
      "4/4 [==============================] - 0s 962us/step - loss: 0.2571\n"
     ]
    },
    {
     "name": "stdout",
     "output_type": "stream",
     "text": [
      "Epoch 305/2000\n",
      "4/4 [==============================] - 0s 1ms/step - loss: 0.2580\n",
      "Epoch 306/2000\n",
      "4/4 [==============================] - 0s 1ms/step - loss: 0.2613\n",
      "Epoch 307/2000\n",
      "4/4 [==============================] - 0s 1ms/step - loss: 0.2565\n",
      "Epoch 308/2000\n",
      "4/4 [==============================] - 0s 1ms/step - loss: 0.2509\n",
      "Epoch 309/2000\n",
      "4/4 [==============================] - 0s 2ms/step - loss: 0.2568\n",
      "Epoch 310/2000\n",
      "4/4 [==============================] - 0s 1ms/step - loss: 0.2597\n",
      "Epoch 311/2000\n",
      "4/4 [==============================] - 0s 2ms/step - loss: 0.2573\n",
      "Epoch 312/2000\n",
      "4/4 [==============================] - 0s 2ms/step - loss: 0.2623\n",
      "Epoch 313/2000\n",
      "4/4 [==============================] - 0s 845us/step - loss: 0.2574\n",
      "Epoch 314/2000\n",
      "4/4 [==============================] - 0s 1ms/step - loss: 0.2575\n",
      "Epoch 315/2000\n",
      "4/4 [==============================] - 0s 1ms/step - loss: 0.2509\n",
      "Epoch 316/2000\n",
      "4/4 [==============================] - 0s 1ms/step - loss: 0.2597\n",
      "Epoch 317/2000\n",
      "4/4 [==============================] - 0s 1ms/step - loss: 0.2584\n",
      "Epoch 318/2000\n",
      "4/4 [==============================] - 0s 1ms/step - loss: 0.2622\n",
      "Epoch 319/2000\n",
      "4/4 [==============================] - 0s 1ms/step - loss: 0.2580\n",
      "Epoch 320/2000\n",
      "4/4 [==============================] - 0s 1ms/step - loss: 0.2629\n",
      "Epoch 321/2000\n",
      "4/4 [==============================] - 0s 2ms/step - loss: 0.2576\n",
      "Epoch 322/2000\n",
      "4/4 [==============================] - 0s 1ms/step - loss: 0.2578\n",
      "Epoch 323/2000\n",
      "4/4 [==============================] - 0s 2ms/step - loss: 0.2515\n",
      "Epoch 324/2000\n",
      "4/4 [==============================] - 0s 1ms/step - loss: 0.2587\n",
      "Epoch 325/2000\n",
      "4/4 [==============================] - 0s 2ms/step - loss: 0.2584\n",
      "Epoch 326/2000\n",
      "4/4 [==============================] - 0s 1ms/step - loss: 0.2564\n",
      "Epoch 327/2000\n",
      "4/4 [==============================] - 0s 981us/step - loss: 0.2582\n",
      "Epoch 328/2000\n",
      "4/4 [==============================] - 0s 2ms/step - loss: 0.2566\n",
      "Epoch 329/2000\n",
      "4/4 [==============================] - 0s 1ms/step - loss: 0.2533\n",
      "Epoch 330/2000\n",
      "4/4 [==============================] - 0s 1ms/step - loss: 0.2607\n",
      "Epoch 331/2000\n",
      "4/4 [==============================] - 0s 1ms/step - loss: 0.2584\n",
      "Epoch 332/2000\n",
      "4/4 [==============================] - 0s 1ms/step - loss: 0.2562\n",
      "Epoch 333/2000\n",
      "4/4 [==============================] - 0s 2ms/step - loss: 0.2584\n",
      "Epoch 334/2000\n",
      "4/4 [==============================] - 0s 1ms/step - loss: 0.2582\n",
      "Epoch 335/2000\n",
      "4/4 [==============================] - 0s 1ms/step - loss: 0.2547\n",
      "Epoch 336/2000\n",
      "4/4 [==============================] - 0s 1ms/step - loss: 0.2611\n",
      "Epoch 337/2000\n",
      "4/4 [==============================] - 0s 1ms/step - loss: 0.2562\n",
      "Epoch 338/2000\n",
      "4/4 [==============================] - 0s 1ms/step - loss: 0.2483\n",
      "Epoch 339/2000\n",
      "4/4 [==============================] - 0s 2ms/step - loss: 0.2588\n",
      "Epoch 340/2000\n",
      "4/4 [==============================] - 0s 1ms/step - loss: 0.2591\n",
      "Epoch 341/2000\n",
      "4/4 [==============================] - 0s 1ms/step - loss: 0.2606\n",
      "Epoch 342/2000\n",
      "4/4 [==============================] - 0s 1ms/step - loss: 0.2561\n",
      "Epoch 343/2000\n",
      "4/4 [==============================] - 0s 1ms/step - loss: 0.2615\n",
      "Epoch 344/2000\n",
      "4/4 [==============================] - 0s 2ms/step - loss: 0.2597\n",
      "Epoch 345/2000\n",
      "4/4 [==============================] - 0s 1ms/step - loss: 0.2574\n",
      "Epoch 346/2000\n",
      "4/4 [==============================] - 0s 1ms/step - loss: 0.2521\n",
      "Epoch 347/2000\n",
      "4/4 [==============================] - 0s 983us/step - loss: 0.2526\n",
      "Epoch 348/2000\n",
      "4/4 [==============================] - 0s 902us/step - loss: 0.2581\n",
      "Epoch 349/2000\n",
      "4/4 [==============================] - 0s 927us/step - loss: 0.2560\n",
      "Epoch 350/2000\n",
      "4/4 [==============================] - 0s 1ms/step - loss: 0.2550\n",
      "Epoch 351/2000\n",
      "4/4 [==============================] - 0s 888us/step - loss: 0.2559\n",
      "Epoch 352/2000\n",
      "4/4 [==============================] - 0s 1ms/step - loss: 0.2536\n",
      "Epoch 353/2000\n",
      "4/4 [==============================] - 0s 965us/step - loss: 0.2604\n",
      "Epoch 354/2000\n",
      "4/4 [==============================] - 0s 981us/step - loss: 0.2611\n",
      "Epoch 355/2000\n",
      "4/4 [==============================] - 0s 1ms/step - loss: 0.2620\n",
      "Epoch 356/2000\n",
      "4/4 [==============================] - 0s 1ms/step - loss: 0.2584\n",
      "Epoch 357/2000\n",
      "4/4 [==============================] - 0s 1ms/step - loss: 0.2601\n",
      "Epoch 358/2000\n",
      "4/4 [==============================] - 0s 2ms/step - loss: 0.2557\n",
      "Epoch 359/2000\n",
      "4/4 [==============================] - 0s 1ms/step - loss: 0.2516\n",
      "Epoch 360/2000\n",
      "4/4 [==============================] - 0s 1ms/step - loss: 0.2532\n",
      "Epoch 361/2000\n",
      "4/4 [==============================] - 0s 1ms/step - loss: 0.2544\n",
      "Epoch 362/2000\n",
      "4/4 [==============================] - 0s 1ms/step - loss: 0.2601\n",
      "Epoch 363/2000\n",
      "4/4 [==============================] - 0s 955us/step - loss: 0.2609\n",
      "Epoch 364/2000\n",
      "4/4 [==============================] - 0s 1ms/step - loss: 0.2581\n",
      "Epoch 365/2000\n",
      "4/4 [==============================] - 0s 1ms/step - loss: 0.2587\n",
      "Epoch 366/2000\n",
      "4/4 [==============================] - 0s 1ms/step - loss: 0.2586\n",
      "Epoch 367/2000\n",
      "4/4 [==============================] - 0s 2ms/step - loss: 0.2542\n",
      "Epoch 368/2000\n",
      "4/4 [==============================] - 0s 1ms/step - loss: 0.2603\n",
      "Epoch 369/2000\n",
      "4/4 [==============================] - 0s 1ms/step - loss: 0.2616\n",
      "Epoch 370/2000\n",
      "4/4 [==============================] - 0s 2ms/step - loss: 0.2554\n",
      "Epoch 371/2000\n",
      "4/4 [==============================] - 0s 2ms/step - loss: 0.2562\n",
      "Epoch 372/2000\n",
      "4/4 [==============================] - 0s 2ms/step - loss: 0.2568\n",
      "Epoch 373/2000\n",
      "4/4 [==============================] - 0s 2ms/step - loss: 0.2566\n",
      "Epoch 374/2000\n",
      "4/4 [==============================] - 0s 2ms/step - loss: 0.2524\n",
      "Epoch 375/2000\n",
      "4/4 [==============================] - 0s 1ms/step - loss: 0.2562\n",
      "Epoch 376/2000\n",
      "4/4 [==============================] - 0s 2ms/step - loss: 0.2576\n",
      "Epoch 377/2000\n",
      "4/4 [==============================] - 0s 1ms/step - loss: 0.2602\n",
      "Epoch 378/2000\n",
      "4/4 [==============================] - 0s 1ms/step - loss: 0.2610\n",
      "Epoch 379/2000\n",
      "4/4 [==============================] - 0s 1ms/step - loss: 0.2584\n",
      "Epoch 380/2000\n",
      "4/4 [==============================] - 0s 1ms/step - loss: 0.2593\n",
      "Epoch 381/2000\n",
      "4/4 [==============================] - 0s 2ms/step - loss: 0.2576\n",
      "Epoch 382/2000\n",
      "4/4 [==============================] - 0s 2ms/step - loss: 0.2546\n",
      "Epoch 383/2000\n",
      "4/4 [==============================] - 0s 2ms/step - loss: 0.2550\n",
      "Epoch 384/2000\n",
      "4/4 [==============================] - 0s 2ms/step - loss: 0.2628\n",
      "Epoch 385/2000\n",
      "4/4 [==============================] - 0s 2ms/step - loss: 0.2518\n",
      "Epoch 386/2000\n",
      "4/4 [==============================] - 0s 2ms/step - loss: 0.2558\n",
      "Epoch 387/2000\n",
      "4/4 [==============================] - 0s 2ms/step - loss: 0.2624\n",
      "Epoch 388/2000\n",
      "4/4 [==============================] - 0s 944us/step - loss: 0.2586\n",
      "Epoch 389/2000\n",
      "4/4 [==============================] - 0s 1ms/step - loss: 0.2492\n",
      "Epoch 390/2000\n",
      "4/4 [==============================] - 0s 1ms/step - loss: 0.2534\n",
      "Epoch 391/2000\n",
      "4/4 [==============================] - 0s 1ms/step - loss: 0.2549\n",
      "Epoch 392/2000\n",
      "4/4 [==============================] - 0s 2ms/step - loss: 0.2616\n",
      "Epoch 393/2000\n",
      "4/4 [==============================] - 0s 1ms/step - loss: 0.2541\n",
      "Epoch 394/2000\n",
      "4/4 [==============================] - 0s 1ms/step - loss: 0.2596\n",
      "Epoch 395/2000\n",
      "4/4 [==============================] - 0s 2ms/step - loss: 0.2540\n",
      "Epoch 396/2000\n",
      "4/4 [==============================] - 0s 2ms/step - loss: 0.2605\n",
      "Epoch 397/2000\n",
      "4/4 [==============================] - 0s 1ms/step - loss: 0.2595\n",
      "Epoch 398/2000\n",
      "4/4 [==============================] - 0s 1ms/step - loss: 0.2617\n",
      "Epoch 399/2000\n",
      "4/4 [==============================] - 0s 2ms/step - loss: 0.2550\n",
      "Epoch 400/2000\n",
      "4/4 [==============================] - 0s 1ms/step - loss: 0.2560\n",
      "Epoch 401/2000\n",
      "4/4 [==============================] - 0s 873us/step - loss: 0.2559\n",
      "Epoch 402/2000\n",
      "4/4 [==============================] - 0s 1ms/step - loss: 0.2622\n",
      "Epoch 403/2000\n",
      "4/4 [==============================] - 0s 1ms/step - loss: 0.2564\n",
      "Epoch 404/2000\n",
      "4/4 [==============================] - 0s 2ms/step - loss: 0.2583\n",
      "Epoch 405/2000\n"
     ]
    },
    {
     "name": "stdout",
     "output_type": "stream",
     "text": [
      "4/4 [==============================] - 0s 1ms/step - loss: 0.2495\n",
      "Epoch 406/2000\n",
      "4/4 [==============================] - 0s 1ms/step - loss: 0.2521\n",
      "Epoch 407/2000\n",
      "4/4 [==============================] - 0s 2ms/step - loss: 0.2512\n",
      "Epoch 408/2000\n",
      "4/4 [==============================] - 0s 2ms/step - loss: 0.2558\n",
      "Epoch 409/2000\n",
      "4/4 [==============================] - 0s 2ms/step - loss: 0.2530\n",
      "Epoch 410/2000\n",
      "4/4 [==============================] - 0s 1ms/step - loss: 0.2609\n",
      "Epoch 411/2000\n",
      "4/4 [==============================] - 0s 1ms/step - loss: 0.2563\n",
      "Epoch 412/2000\n",
      "4/4 [==============================] - 0s 957us/step - loss: 0.2621\n",
      "Epoch 413/2000\n",
      "4/4 [==============================] - 0s 863us/step - loss: 0.2568\n",
      "Epoch 414/2000\n",
      "4/4 [==============================] - 0s 876us/step - loss: 0.2582\n",
      "Epoch 415/2000\n",
      "4/4 [==============================] - 0s 1ms/step - loss: 0.2519\n",
      "Epoch 416/2000\n",
      "4/4 [==============================] - 0s 1ms/step - loss: 0.2556\n",
      "Epoch 417/2000\n",
      "4/4 [==============================] - 0s 2ms/step - loss: 0.2587\n",
      "Epoch 418/2000\n",
      "4/4 [==============================] - 0s 2ms/step - loss: 0.2603\n",
      "Epoch 419/2000\n",
      "4/4 [==============================] - 0s 1ms/step - loss: 0.2531\n",
      "Epoch 420/2000\n",
      "4/4 [==============================] - 0s 1ms/step - loss: 0.2608\n",
      "Epoch 421/2000\n",
      "4/4 [==============================] - 0s 1ms/step - loss: 0.2556\n",
      "Epoch 422/2000\n",
      "4/4 [==============================] - 0s 2ms/step - loss: 0.2579\n",
      "Epoch 423/2000\n",
      "4/4 [==============================] - 0s 2ms/step - loss: 0.2635\n",
      "Epoch 424/2000\n",
      "4/4 [==============================] - 0s 1ms/step - loss: 0.2604\n",
      "Epoch 425/2000\n",
      "4/4 [==============================] - 0s 1ms/step - loss: 0.2610\n",
      "Epoch 426/2000\n",
      "4/4 [==============================] - 0s 1ms/step - loss: 0.2569\n",
      "Epoch 427/2000\n",
      "4/4 [==============================] - 0s 2ms/step - loss: 0.2640\n",
      "Epoch 428/2000\n",
      "4/4 [==============================] - 0s 2ms/step - loss: 0.2465\n",
      "Epoch 429/2000\n",
      "4/4 [==============================] - 0s 2ms/step - loss: 0.2578\n",
      "Epoch 430/2000\n",
      "4/4 [==============================] - 0s 2ms/step - loss: 0.2534\n",
      "Epoch 431/2000\n",
      "4/4 [==============================] - 0s 2ms/step - loss: 0.2582\n",
      "Epoch 432/2000\n",
      "4/4 [==============================] - 0s 2ms/step - loss: 0.2519\n",
      "Epoch 433/2000\n",
      "4/4 [==============================] - 0s 1ms/step - loss: 0.2625\n",
      "Epoch 434/2000\n",
      "4/4 [==============================] - 0s 2ms/step - loss: 0.2574\n",
      "Epoch 435/2000\n",
      "4/4 [==============================] - 0s 2ms/step - loss: 0.2591\n",
      "Epoch 436/2000\n",
      "4/4 [==============================] - 0s 1ms/step - loss: 0.2587\n",
      "Epoch 437/2000\n",
      "4/4 [==============================] - 0s 1ms/step - loss: 0.2595\n",
      "Epoch 438/2000\n",
      "4/4 [==============================] - 0s 2ms/step - loss: 0.2547\n",
      "Epoch 439/2000\n",
      "4/4 [==============================] - 0s 1ms/step - loss: 0.2619\n",
      "Epoch 440/2000\n",
      "4/4 [==============================] - 0s 2ms/step - loss: 0.2611\n",
      "Epoch 441/2000\n",
      "4/4 [==============================] - 0s 1ms/step - loss: 0.2529\n",
      "Epoch 442/2000\n",
      "4/4 [==============================] - 0s 2ms/step - loss: 0.2616\n",
      "Epoch 443/2000\n",
      "4/4 [==============================] - 0s 1ms/step - loss: 0.2549\n",
      "Epoch 444/2000\n",
      "4/4 [==============================] - 0s 2ms/step - loss: 0.2620\n",
      "Epoch 445/2000\n",
      "4/4 [==============================] - 0s 1ms/step - loss: 0.2583\n",
      "Epoch 446/2000\n",
      "4/4 [==============================] - 0s 1ms/step - loss: 0.2549\n",
      "Epoch 447/2000\n",
      "4/4 [==============================] - 0s 1ms/step - loss: 0.2558\n",
      "Epoch 448/2000\n",
      "4/4 [==============================] - 0s 2ms/step - loss: 0.2550\n",
      "Epoch 449/2000\n",
      "4/4 [==============================] - 0s 1ms/step - loss: 0.2559\n",
      "Epoch 450/2000\n",
      "4/4 [==============================] - 0s 2ms/step - loss: 0.2611\n",
      "Epoch 451/2000\n",
      "4/4 [==============================] - 0s 1ms/step - loss: 0.2592\n",
      "Epoch 452/2000\n",
      "4/4 [==============================] - 0s 2ms/step - loss: 0.2576\n",
      "Epoch 453/2000\n",
      "4/4 [==============================] - 0s 3ms/step - loss: 0.2487\n",
      "Epoch 454/2000\n",
      "4/4 [==============================] - 0s 3ms/step - loss: 0.2553\n",
      "Epoch 455/2000\n",
      "4/4 [==============================] - 0s 2ms/step - loss: 0.2573\n",
      "Epoch 456/2000\n",
      "4/4 [==============================] - 0s 2ms/step - loss: 0.2558\n",
      "Epoch 457/2000\n",
      "4/4 [==============================] - 0s 2ms/step - loss: 0.2626\n",
      "Epoch 458/2000\n",
      "4/4 [==============================] - 0s 2ms/step - loss: 0.2553\n",
      "Epoch 459/2000\n",
      "4/4 [==============================] - 0s 2ms/step - loss: 0.2546\n",
      "Epoch 460/2000\n",
      "4/4 [==============================] - 0s 2ms/step - loss: 0.2619\n",
      "Epoch 461/2000\n",
      "4/4 [==============================] - 0s 2ms/step - loss: 0.2547\n",
      "Epoch 462/2000\n",
      "4/4 [==============================] - 0s 2ms/step - loss: 0.2533\n",
      "Epoch 463/2000\n",
      "4/4 [==============================] - 0s 2ms/step - loss: 0.2618\n",
      "Epoch 464/2000\n",
      "4/4 [==============================] - 0s 1ms/step - loss: 0.2614\n",
      "Epoch 465/2000\n",
      "4/4 [==============================] - 0s 2ms/step - loss: 0.2490\n",
      "Epoch 466/2000\n",
      "4/4 [==============================] - 0s 2ms/step - loss: 0.2626\n",
      "Epoch 467/2000\n",
      "4/4 [==============================] - 0s 1ms/step - loss: 0.2544\n",
      "Epoch 468/2000\n",
      "4/4 [==============================] - 0s 2ms/step - loss: 0.2557\n",
      "Epoch 469/2000\n",
      "4/4 [==============================] - 0s 1ms/step - loss: 0.2580\n",
      "Epoch 470/2000\n",
      "4/4 [==============================] - 0s 1ms/step - loss: 0.2630\n",
      "Epoch 471/2000\n",
      "4/4 [==============================] - 0s 2ms/step - loss: 0.2634\n",
      "Epoch 472/2000\n",
      "4/4 [==============================] - 0s 1ms/step - loss: 0.2560\n",
      "Epoch 473/2000\n",
      "4/4 [==============================] - 0s 2ms/step - loss: 0.2632\n",
      "Epoch 474/2000\n",
      "4/4 [==============================] - 0s 1ms/step - loss: 0.2581\n",
      "Epoch 475/2000\n",
      "4/4 [==============================] - 0s 1ms/step - loss: 0.2494\n",
      "Epoch 476/2000\n",
      "4/4 [==============================] - 0s 1ms/step - loss: 0.2526\n",
      "Epoch 477/2000\n",
      "4/4 [==============================] - 0s 1ms/step - loss: 0.2493\n",
      "Epoch 478/2000\n",
      "4/4 [==============================] - 0s 1ms/step - loss: 0.2630\n",
      "Epoch 479/2000\n",
      "4/4 [==============================] - 0s 2ms/step - loss: 0.2545\n",
      "Epoch 480/2000\n",
      "4/4 [==============================] - 0s 1ms/step - loss: 0.2632\n",
      "Epoch 481/2000\n",
      "4/4 [==============================] - 0s 1ms/step - loss: 0.2567\n",
      "Epoch 482/2000\n",
      "4/4 [==============================] - 0s 1ms/step - loss: 0.2580\n",
      "Epoch 483/2000\n",
      "4/4 [==============================] - 0s 1ms/step - loss: 0.2612\n",
      "Epoch 484/2000\n",
      "4/4 [==============================] - 0s 1ms/step - loss: 0.2610\n",
      "Epoch 485/2000\n",
      "4/4 [==============================] - 0s 1ms/step - loss: 0.2547\n",
      "Epoch 486/2000\n",
      "4/4 [==============================] - 0s 1ms/step - loss: 0.2565\n",
      "Epoch 487/2000\n",
      "4/4 [==============================] - 0s 1ms/step - loss: 0.2523\n",
      "Epoch 488/2000\n",
      "4/4 [==============================] - 0s 1ms/step - loss: 0.2612\n",
      "Epoch 489/2000\n",
      "4/4 [==============================] - 0s 1ms/step - loss: 0.2613\n",
      "Epoch 490/2000\n",
      "4/4 [==============================] - 0s 1ms/step - loss: 0.2599\n",
      "Epoch 491/2000\n",
      "4/4 [==============================] - 0s 2ms/step - loss: 0.2604\n",
      "Epoch 492/2000\n",
      "4/4 [==============================] - 0s 1ms/step - loss: 0.2611\n",
      "Epoch 493/2000\n",
      "4/4 [==============================] - 0s 2ms/step - loss: 0.2605\n",
      "Epoch 494/2000\n",
      "4/4 [==============================] - 0s 2ms/step - loss: 0.2626\n",
      "Epoch 495/2000\n",
      "4/4 [==============================] - 0s 2ms/step - loss: 0.2565\n",
      "Epoch 496/2000\n",
      "4/4 [==============================] - 0s 2ms/step - loss: 0.2520\n",
      "Epoch 497/2000\n",
      "4/4 [==============================] - 0s 1ms/step - loss: 0.2609\n",
      "Epoch 498/2000\n",
      "4/4 [==============================] - 0s 960us/step - loss: 0.2559\n",
      "Epoch 499/2000\n",
      "4/4 [==============================] - 0s 2ms/step - loss: 0.2530\n",
      "Epoch 500/2000\n",
      "4/4 [==============================] - 0s 961us/step - loss: 0.2561\n",
      "Epoch 501/2000\n",
      "4/4 [==============================] - 0s 1ms/step - loss: 0.2487\n",
      "Epoch 502/2000\n",
      "4/4 [==============================] - 0s 2ms/step - loss: 0.2625\n",
      "Epoch 503/2000\n",
      "4/4 [==============================] - 0s 2ms/step - loss: 0.2533\n",
      "Epoch 504/2000\n",
      "4/4 [==============================] - 0s 2ms/step - loss: 0.2620\n",
      "Epoch 505/2000\n",
      "4/4 [==============================] - 0s 2ms/step - loss: 0.2579\n",
      "Epoch 506/2000\n"
     ]
    },
    {
     "name": "stdout",
     "output_type": "stream",
     "text": [
      "4/4 [==============================] - 0s 1ms/step - loss: 0.2619\n",
      "Epoch 507/2000\n",
      "4/4 [==============================] - 0s 2ms/step - loss: 0.2605\n",
      "Epoch 508/2000\n",
      "4/4 [==============================] - 0s 1ms/step - loss: 0.2539\n",
      "Epoch 509/2000\n",
      "4/4 [==============================] - 0s 1ms/step - loss: 0.2628\n",
      "Epoch 510/2000\n",
      "4/4 [==============================] - 0s 2ms/step - loss: 0.2612\n",
      "Epoch 511/2000\n",
      "4/4 [==============================] - 0s 1ms/step - loss: 0.2515\n",
      "Epoch 512/2000\n",
      "4/4 [==============================] - 0s 1ms/step - loss: 0.2475\n",
      "Epoch 513/2000\n",
      "4/4 [==============================] - 0s 1ms/step - loss: 0.2631\n",
      "Epoch 514/2000\n",
      "4/4 [==============================] - 0s 2ms/step - loss: 0.2529\n",
      "Epoch 515/2000\n",
      "4/4 [==============================] - 0s 2ms/step - loss: 0.2634\n",
      "Epoch 516/2000\n",
      "4/4 [==============================] - 0s 2ms/step - loss: 0.2531\n",
      "Epoch 517/2000\n",
      "4/4 [==============================] - 0s 959us/step - loss: 0.2546\n",
      "Epoch 518/2000\n",
      "4/4 [==============================] - 0s 2ms/step - loss: 0.2525\n",
      "Epoch 519/2000\n",
      "4/4 [==============================] - 0s 1ms/step - loss: 0.2535\n",
      "Epoch 520/2000\n",
      "4/4 [==============================] - 0s 2ms/step - loss: 0.2548\n",
      "Epoch 521/2000\n",
      "4/4 [==============================] - 0s 906us/step - loss: 0.2552\n",
      "Epoch 522/2000\n",
      "4/4 [==============================] - 0s 2ms/step - loss: 0.2586\n",
      "Epoch 523/2000\n",
      "4/4 [==============================] - 0s 1ms/step - loss: 0.2524\n",
      "Epoch 524/2000\n",
      "4/4 [==============================] - 0s 2ms/step - loss: 0.2559\n",
      "Epoch 525/2000\n",
      "4/4 [==============================] - 0s 1ms/step - loss: 0.2537\n",
      "Epoch 526/2000\n",
      "4/4 [==============================] - 0s 2ms/step - loss: 0.2627\n",
      "Epoch 527/2000\n",
      "4/4 [==============================] - 0s 1ms/step - loss: 0.2533\n",
      "Epoch 528/2000\n",
      "4/4 [==============================] - 0s 3ms/step - loss: 0.2558\n",
      "Epoch 529/2000\n",
      "4/4 [==============================] - 0s 991us/step - loss: 0.2550\n",
      "Epoch 530/2000\n",
      "4/4 [==============================] - 0s 2ms/step - loss: 0.2526\n",
      "Epoch 531/2000\n",
      "4/4 [==============================] - 0s 1ms/step - loss: 0.2482\n",
      "Epoch 532/2000\n",
      "4/4 [==============================] - 0s 2ms/step - loss: 0.2544\n",
      "Epoch 533/2000\n",
      "4/4 [==============================] - 0s 986us/step - loss: 0.2584\n",
      "Epoch 534/2000\n",
      "4/4 [==============================] - 0s 2ms/step - loss: 0.2547\n",
      "Epoch 535/2000\n",
      "4/4 [==============================] - 0s 1ms/step - loss: 0.2505\n",
      "Epoch 536/2000\n",
      "4/4 [==============================] - 0s 1ms/step - loss: 0.2524\n",
      "Epoch 537/2000\n",
      "4/4 [==============================] - 0s 1ms/step - loss: 0.2614\n",
      "Epoch 538/2000\n",
      "4/4 [==============================] - 0s 1ms/step - loss: 0.2607\n",
      "Epoch 539/2000\n",
      "4/4 [==============================] - 0s 2ms/step - loss: 0.2522\n",
      "Epoch 540/2000\n",
      "4/4 [==============================] - 0s 1ms/step - loss: 0.2476\n",
      "Epoch 541/2000\n",
      "4/4 [==============================] - 0s 2ms/step - loss: 0.2549\n",
      "Epoch 542/2000\n",
      "4/4 [==============================] - 0s 999us/step - loss: 0.2531\n",
      "Epoch 543/2000\n",
      "4/4 [==============================] - 0s 2ms/step - loss: 0.2619\n",
      "Epoch 544/2000\n",
      "4/4 [==============================] - 0s 921us/step - loss: 0.2620\n",
      "Epoch 545/2000\n",
      "4/4 [==============================] - 0s 1ms/step - loss: 0.2513\n",
      "Epoch 546/2000\n",
      "4/4 [==============================] - 0s 2ms/step - loss: 0.2630\n",
      "Epoch 547/2000\n",
      "4/4 [==============================] - 0s 2ms/step - loss: 0.2559\n",
      "Epoch 548/2000\n",
      "4/4 [==============================] - 0s 1ms/step - loss: 0.2498\n",
      "Epoch 549/2000\n",
      "4/4 [==============================] - 0s 2ms/step - loss: 0.2517\n",
      "Epoch 550/2000\n",
      "4/4 [==============================] - 0s 1ms/step - loss: 0.2634\n",
      "Epoch 551/2000\n",
      "4/4 [==============================] - 0s 2ms/step - loss: 0.2515\n",
      "Epoch 552/2000\n",
      "4/4 [==============================] - 0s 1ms/step - loss: 0.2637\n",
      "Epoch 553/2000\n",
      "4/4 [==============================] - 0s 2ms/step - loss: 0.2565\n",
      "Epoch 554/2000\n",
      "4/4 [==============================] - 0s 2ms/step - loss: 0.2549\n",
      "Epoch 555/2000\n",
      "4/4 [==============================] - 0s 1ms/step - loss: 0.2642\n",
      "Epoch 556/2000\n",
      "4/4 [==============================] - 0s 1ms/step - loss: 0.2517\n",
      "Epoch 557/2000\n",
      "4/4 [==============================] - 0s 1ms/step - loss: 0.2507\n",
      "Epoch 558/2000\n",
      "4/4 [==============================] - 0s 1ms/step - loss: 0.2544\n",
      "Epoch 559/2000\n",
      "4/4 [==============================] - 0s 1ms/step - loss: 0.2556\n",
      "Epoch 560/2000\n",
      "4/4 [==============================] - 0s 2ms/step - loss: 0.2552\n",
      "Epoch 561/2000\n",
      "4/4 [==============================] - 0s 2ms/step - loss: 0.2545\n",
      "Epoch 562/2000\n",
      "4/4 [==============================] - 0s 965us/step - loss: 0.2509\n",
      "Epoch 563/2000\n",
      "4/4 [==============================] - 0s 2ms/step - loss: 0.2506\n",
      "Epoch 564/2000\n",
      "4/4 [==============================] - 0s 2ms/step - loss: 0.2638\n",
      "Epoch 565/2000\n",
      "4/4 [==============================] - 0s 2ms/step - loss: 0.2499\n",
      "Epoch 566/2000\n",
      "4/4 [==============================] - 0s 2ms/step - loss: 0.2520\n",
      "Epoch 567/2000\n",
      "4/4 [==============================] - 0s 2ms/step - loss: 0.2552\n",
      "Epoch 568/2000\n",
      "4/4 [==============================] - 0s 2ms/step - loss: 0.2554\n",
      "Epoch 569/2000\n",
      "4/4 [==============================] - 0s 2ms/step - loss: 0.2553\n",
      "Epoch 570/2000\n",
      "4/4 [==============================] - 0s 1ms/step - loss: 0.2529\n",
      "Epoch 571/2000\n",
      "4/4 [==============================] - 0s 1ms/step - loss: 0.2581\n",
      "Epoch 572/2000\n",
      "4/4 [==============================] - 0s 2ms/step - loss: 0.2617\n",
      "Epoch 573/2000\n",
      "4/4 [==============================] - 0s 2ms/step - loss: 0.2569\n",
      "Epoch 574/2000\n",
      "4/4 [==============================] - 0s 2ms/step - loss: 0.2637\n",
      "Epoch 575/2000\n",
      "4/4 [==============================] - 0s 1ms/step - loss: 0.2498\n",
      "Epoch 576/2000\n",
      "4/4 [==============================] - 0s 1ms/step - loss: 0.2637\n",
      "Epoch 577/2000\n",
      "4/4 [==============================] - 0s 1ms/step - loss: 0.2513\n",
      "Epoch 578/2000\n",
      "4/4 [==============================] - 0s 1ms/step - loss: 0.2520\n",
      "Epoch 579/2000\n",
      "4/4 [==============================] - 0s 1ms/step - loss: 0.2567\n",
      "Epoch 580/2000\n",
      "4/4 [==============================] - 0s 2ms/step - loss: 0.2552\n",
      "Epoch 581/2000\n",
      "4/4 [==============================] - 0s 1ms/step - loss: 0.2535\n",
      "Epoch 582/2000\n",
      "4/4 [==============================] - 0s 1ms/step - loss: 0.2627\n",
      "Epoch 583/2000\n",
      "4/4 [==============================] - 0s 1ms/step - loss: 0.2539\n",
      "Epoch 584/2000\n",
      "4/4 [==============================] - 0s 2ms/step - loss: 0.2582\n",
      "Epoch 585/2000\n",
      "4/4 [==============================] - 0s 1ms/step - loss: 0.2566\n",
      "Epoch 586/2000\n",
      "4/4 [==============================] - 0s 2ms/step - loss: 0.2571\n",
      "Epoch 587/2000\n",
      "4/4 [==============================] - 0s 1ms/step - loss: 0.2452\n",
      "Epoch 588/2000\n",
      "4/4 [==============================] - 0s 1ms/step - loss: 0.2617\n",
      "Epoch 589/2000\n",
      "4/4 [==============================] - 0s 3ms/step - loss: 0.2478\n",
      "Epoch 590/2000\n",
      "4/4 [==============================] - 0s 2ms/step - loss: 0.2500\n",
      "Epoch 591/2000\n",
      "4/4 [==============================] - 0s 2ms/step - loss: 0.2507\n",
      "Epoch 592/2000\n",
      "4/4 [==============================] - 0s 2ms/step - loss: 0.2640\n",
      "Epoch 593/2000\n",
      "4/4 [==============================] - 0s 2ms/step - loss: 0.2508\n",
      "Epoch 594/2000\n",
      "4/4 [==============================] - 0s 3ms/step - loss: 0.2610\n",
      "Epoch 595/2000\n",
      "4/4 [==============================] - 0s 3ms/step - loss: 0.2545\n",
      "Epoch 596/2000\n",
      "4/4 [==============================] - 0s 2ms/step - loss: 0.2550\n",
      "Epoch 597/2000\n",
      "4/4 [==============================] - 0s 3ms/step - loss: 0.2458\n",
      "Epoch 598/2000\n",
      "4/4 [==============================] - 0s 3ms/step - loss: 0.2658\n",
      "Epoch 599/2000\n",
      "4/4 [==============================] - 0s 2ms/step - loss: 0.2503\n",
      "Epoch 600/2000\n",
      "4/4 [==============================] - 0s 2ms/step - loss: 0.2550\n",
      "Epoch 601/2000\n",
      "4/4 [==============================] - 0s 2ms/step - loss: 0.2533\n",
      "Epoch 602/2000\n",
      "4/4 [==============================] - 0s 2ms/step - loss: 0.2553\n",
      "Epoch 603/2000\n",
      "4/4 [==============================] - 0s 1ms/step - loss: 0.2533\n",
      "Epoch 604/2000\n",
      "4/4 [==============================] - 0s 2ms/step - loss: 0.2543\n",
      "Epoch 605/2000\n",
      "4/4 [==============================] - 0s 2ms/step - loss: 0.2526\n",
      "Epoch 606/2000\n",
      "4/4 [==============================] - 0s 2ms/step - loss: 0.2589\n",
      "Epoch 607/2000\n"
     ]
    },
    {
     "name": "stdout",
     "output_type": "stream",
     "text": [
      "4/4 [==============================] - 0s 2ms/step - loss: 0.2622\n",
      "Epoch 608/2000\n",
      "4/4 [==============================] - 0s 1ms/step - loss: 0.2478\n",
      "Epoch 609/2000\n",
      "4/4 [==============================] - 0s 1ms/step - loss: 0.2534\n",
      "Epoch 610/2000\n",
      "4/4 [==============================] - 0s 1ms/step - loss: 0.2534\n",
      "Epoch 611/2000\n",
      "4/4 [==============================] - 0s 950us/step - loss: 0.2565\n",
      "Epoch 612/2000\n",
      "4/4 [==============================] - 0s 2ms/step - loss: 0.2552\n",
      "Epoch 613/2000\n",
      "4/4 [==============================] - 0s 952us/step - loss: 0.2518\n",
      "Epoch 614/2000\n",
      "4/4 [==============================] - 0s 2ms/step - loss: 0.2479\n",
      "Epoch 615/2000\n",
      "4/4 [==============================] - 0s 2ms/step - loss: 0.2481\n",
      "Epoch 616/2000\n",
      "4/4 [==============================] - 0s 2ms/step - loss: 0.2481\n",
      "Epoch 617/2000\n",
      "4/4 [==============================] - 0s 1ms/step - loss: 0.2569\n",
      "Epoch 618/2000\n",
      "4/4 [==============================] - 0s 1ms/step - loss: 0.2480\n",
      "Epoch 619/2000\n",
      "4/4 [==============================] - 0s 2ms/step - loss: 0.2632\n",
      "Epoch 620/2000\n",
      "4/4 [==============================] - 0s 2ms/step - loss: 0.2500\n",
      "Epoch 621/2000\n",
      "4/4 [==============================] - 0s 2ms/step - loss: 0.2513\n",
      "Epoch 622/2000\n",
      "4/4 [==============================] - 0s 3ms/step - loss: 0.2540\n",
      "Epoch 623/2000\n",
      "4/4 [==============================] - 0s 3ms/step - loss: 0.2566\n",
      "Epoch 624/2000\n",
      "4/4 [==============================] - 0s 2ms/step - loss: 0.2618\n",
      "Epoch 625/2000\n",
      "4/4 [==============================] - 0s 2ms/step - loss: 0.2521\n",
      "Epoch 626/2000\n",
      "4/4 [==============================] - 0s 2ms/step - loss: 0.2489\n",
      "Epoch 627/2000\n",
      "4/4 [==============================] - 0s 2ms/step - loss: 0.2650\n",
      "Epoch 628/2000\n",
      "4/4 [==============================] - 0s 3ms/step - loss: 0.2469\n",
      "Epoch 629/2000\n",
      "4/4 [==============================] - 0s 2ms/step - loss: 0.2664\n",
      "Epoch 630/2000\n",
      "4/4 [==============================] - 0s 2ms/step - loss: 0.2601\n",
      "Epoch 631/2000\n",
      "4/4 [==============================] - 0s 3ms/step - loss: 0.2607\n",
      "Epoch 632/2000\n",
      "4/4 [==============================] - 0s 2ms/step - loss: 0.2682\n",
      "Epoch 633/2000\n",
      "4/4 [==============================] - 0s 2ms/step - loss: 0.2619\n",
      "Epoch 634/2000\n",
      "4/4 [==============================] - 0s 2ms/step - loss: 0.2556\n",
      "Epoch 635/2000\n",
      "4/4 [==============================] - 0s 2ms/step - loss: 0.2514\n",
      "Epoch 636/2000\n",
      "4/4 [==============================] - 0s 2ms/step - loss: 0.2441\n",
      "Epoch 637/2000\n",
      "4/4 [==============================] - 0s 2ms/step - loss: 0.2483\n",
      "Epoch 638/2000\n",
      "4/4 [==============================] - 0s 2ms/step - loss: 0.2489\n",
      "Epoch 639/2000\n",
      "4/4 [==============================] - 0s 2ms/step - loss: 0.2671\n",
      "Epoch 640/2000\n",
      "4/4 [==============================] - 0s 1ms/step - loss: 0.2496\n",
      "Epoch 641/2000\n",
      "4/4 [==============================] - 0s 2ms/step - loss: 0.2629\n",
      "Epoch 642/2000\n",
      "4/4 [==============================] - 0s 2ms/step - loss: 0.2663\n",
      "Epoch 643/2000\n",
      "4/4 [==============================] - 0s 2ms/step - loss: 0.2664\n",
      "Epoch 644/2000\n",
      "4/4 [==============================] - 0s 2ms/step - loss: 0.2598\n",
      "Epoch 645/2000\n",
      "4/4 [==============================] - 0s 1ms/step - loss: 0.2430\n",
      "Epoch 646/2000\n",
      "4/4 [==============================] - 0s 1ms/step - loss: 0.2547\n",
      "Epoch 647/2000\n",
      "4/4 [==============================] - 0s 2ms/step - loss: 0.2447\n",
      "Epoch 648/2000\n",
      "4/4 [==============================] - 0s 2ms/step - loss: 0.2463\n",
      "Epoch 649/2000\n",
      "4/4 [==============================] - 0s 2ms/step - loss: 0.2674\n",
      "Epoch 650/2000\n",
      "4/4 [==============================] - ETA: 0s - loss: 0.234 - 0s 2ms/step - loss: 0.2493\n",
      "Epoch 651/2000\n",
      "4/4 [==============================] - 0s 2ms/step - loss: 0.2480\n",
      "Epoch 652/2000\n",
      "4/4 [==============================] - 0s 2ms/step - loss: 0.2568\n",
      "Epoch 653/2000\n",
      "4/4 [==============================] - 0s 1ms/step - loss: 0.2592\n",
      "Epoch 654/2000\n",
      "4/4 [==============================] - 0s 1ms/step - loss: 0.2681\n",
      "Epoch 655/2000\n",
      "4/4 [==============================] - 0s 2ms/step - loss: 0.2491\n",
      "Epoch 656/2000\n",
      "4/4 [==============================] - 0s 1ms/step - loss: 0.2468\n",
      "Epoch 657/2000\n",
      "4/4 [==============================] - 0s 2ms/step - loss: 0.2655\n",
      "Epoch 658/2000\n",
      "4/4 [==============================] - 0s 960us/step - loss: 0.2686\n",
      "Epoch 659/2000\n",
      "4/4 [==============================] - 0s 2ms/step - loss: 0.2465\n",
      "Epoch 660/2000\n",
      "4/4 [==============================] - 0s 2ms/step - loss: 0.2491\n",
      "Epoch 661/2000\n",
      "4/4 [==============================] - 0s 2ms/step - loss: 0.2669\n",
      "Epoch 662/2000\n",
      "4/4 [==============================] - 0s 1ms/step - loss: 0.2445\n",
      "Epoch 663/2000\n",
      "4/4 [==============================] - 0s 2ms/step - loss: 0.2672\n",
      "Epoch 664/2000\n",
      "4/4 [==============================] - 0s 2ms/step - loss: 0.2503\n",
      "Epoch 665/2000\n",
      "4/4 [==============================] - 0s 2ms/step - loss: 0.2490\n",
      "Epoch 666/2000\n",
      "4/4 [==============================] - 0s 2ms/step - loss: 0.2466\n",
      "Epoch 667/2000\n",
      "4/4 [==============================] - 0s 1ms/step - loss: 0.2610\n",
      "Epoch 668/2000\n",
      "4/4 [==============================] - 0s 2ms/step - loss: 0.2657\n",
      "Epoch 669/2000\n",
      "4/4 [==============================] - 0s 2ms/step - loss: 0.2538\n",
      "Epoch 670/2000\n",
      "4/4 [==============================] - 0s 4ms/step - loss: 0.2480\n",
      "Epoch 671/2000\n",
      "4/4 [==============================] - 0s 3ms/step - loss: 0.2485\n",
      "Epoch 672/2000\n",
      "4/4 [==============================] - 0s 1ms/step - loss: 0.2543\n",
      "Epoch 673/2000\n",
      "4/4 [==============================] - 0s 2ms/step - loss: 0.2410\n",
      "Epoch 674/2000\n",
      "4/4 [==============================] - 0s 2ms/step - loss: 0.2634\n",
      "Epoch 675/2000\n",
      "4/4 [==============================] - 0s 2ms/step - loss: 0.2403\n",
      "Epoch 676/2000\n",
      "4/4 [==============================] - 0s 1ms/step - loss: 0.2568\n",
      "Epoch 677/2000\n",
      "4/4 [==============================] - 0s 1ms/step - loss: 0.2450\n",
      "Epoch 678/2000\n",
      "4/4 [==============================] - 0s 2ms/step - loss: 0.2476\n",
      "Epoch 679/2000\n",
      "4/4 [==============================] - 0s 1ms/step - loss: 0.2557\n",
      "Epoch 680/2000\n",
      "4/4 [==============================] - 0s 1ms/step - loss: 0.2678\n",
      "Epoch 681/2000\n",
      "4/4 [==============================] - 0s 2ms/step - loss: 0.2691\n",
      "Epoch 682/2000\n",
      "4/4 [==============================] - 0s 885us/step - loss: 0.2403\n",
      "Epoch 683/2000\n",
      "4/4 [==============================] - 0s 1ms/step - loss: 0.2650\n",
      "Epoch 684/2000\n",
      "4/4 [==============================] - 0s 2ms/step - loss: 0.2681\n",
      "Epoch 685/2000\n",
      "4/4 [==============================] - 0s 1ms/step - loss: 0.2431\n",
      "Epoch 686/2000\n",
      "4/4 [==============================] - 0s 2ms/step - loss: 0.2464\n",
      "Epoch 687/2000\n",
      "4/4 [==============================] - 0s 1ms/step - loss: 0.2683\n",
      "Epoch 688/2000\n",
      "4/4 [==============================] - 0s 1ms/step - loss: 0.2664\n",
      "Epoch 689/2000\n",
      "4/4 [==============================] - 0s 2ms/step - loss: 0.2592\n",
      "Epoch 690/2000\n",
      "4/4 [==============================] - 0s 1ms/step - loss: 0.2509\n",
      "Epoch 691/2000\n",
      "4/4 [==============================] - 0s 2ms/step - loss: 0.2427\n",
      "Epoch 692/2000\n",
      "4/4 [==============================] - 0s 2ms/step - loss: 0.2539\n",
      "Epoch 693/2000\n",
      "4/4 [==============================] - 0s 918us/step - loss: 0.2565\n",
      "Epoch 694/2000\n",
      "4/4 [==============================] - 0s 2ms/step - loss: 0.2428\n",
      "Epoch 695/2000\n",
      "4/4 [==============================] - 0s 1ms/step - loss: 0.2386\n",
      "Epoch 696/2000\n",
      "4/4 [==============================] - 0s 2ms/step - loss: 0.2369\n",
      "Epoch 697/2000\n",
      "4/4 [==============================] - 0s 1ms/step - loss: 0.2426\n",
      "Epoch 698/2000\n",
      "4/4 [==============================] - 0s 1ms/step - loss: 0.2613\n",
      "Epoch 699/2000\n",
      "4/4 [==============================] - 0s 1ms/step - loss: 0.2598\n",
      "Epoch 700/2000\n",
      "4/4 [==============================] - 0s 1ms/step - loss: 0.2589\n",
      "Epoch 701/2000\n",
      "4/4 [==============================] - 0s 2ms/step - loss: 0.2446\n",
      "Epoch 702/2000\n",
      "4/4 [==============================] - 0s 1ms/step - loss: 0.2413\n",
      "Epoch 703/2000\n",
      "4/4 [==============================] - 0s 2ms/step - loss: 0.2592\n",
      "Epoch 704/2000\n",
      "4/4 [==============================] - 0s 1ms/step - loss: 0.2354\n",
      "Epoch 705/2000\n",
      "4/4 [==============================] - 0s 967us/step - loss: 0.2413\n",
      "Epoch 706/2000\n",
      "4/4 [==============================] - 0s 2ms/step - loss: 0.2414\n",
      "Epoch 707/2000\n"
     ]
    },
    {
     "name": "stdout",
     "output_type": "stream",
     "text": [
      "4/4 [==============================] - 0s 1ms/step - loss: 0.2418\n",
      "Epoch 708/2000\n",
      "4/4 [==============================] - 0s 1ms/step - loss: 0.2615\n",
      "Epoch 709/2000\n",
      "4/4 [==============================] - 0s 1ms/step - loss: 0.2525\n",
      "Epoch 710/2000\n",
      "4/4 [==============================] - 0s 2ms/step - loss: 0.2427\n",
      "Epoch 711/2000\n",
      "4/4 [==============================] - 0s 885us/step - loss: 0.2463\n",
      "Epoch 712/2000\n",
      "4/4 [==============================] - 0s 1ms/step - loss: 0.2456\n",
      "Epoch 713/2000\n",
      "4/4 [==============================] - 0s 2ms/step - loss: 0.2366\n",
      "Epoch 714/2000\n",
      "4/4 [==============================] - 0s 2ms/step - loss: 0.2440\n",
      "Epoch 715/2000\n",
      "4/4 [==============================] - 0s 2ms/step - loss: 0.2391\n",
      "Epoch 716/2000\n",
      "4/4 [==============================] - 0s 2ms/step - loss: 0.2671\n",
      "Epoch 717/2000\n",
      "4/4 [==============================] - 0s 3ms/step - loss: 0.2340\n",
      "Epoch 718/2000\n",
      "4/4 [==============================] - 0s 2ms/step - loss: 0.2417\n",
      "Epoch 719/2000\n",
      "4/4 [==============================] - 0s 2ms/step - loss: 0.2368\n",
      "Epoch 720/2000\n",
      "4/4 [==============================] - 0s 1ms/step - loss: 0.2353\n",
      "Epoch 721/2000\n",
      "4/4 [==============================] - 0s 2ms/step - loss: 0.2386\n",
      "Epoch 722/2000\n",
      "4/4 [==============================] - 0s 2ms/step - loss: 0.2396\n",
      "Epoch 723/2000\n",
      "4/4 [==============================] - 0s 3ms/step - loss: 0.2362\n",
      "Epoch 724/2000\n",
      "4/4 [==============================] - 0s 3ms/step - loss: 0.2406\n",
      "Epoch 725/2000\n",
      "4/4 [==============================] - 0s 3ms/step - loss: 0.2306\n",
      "Epoch 726/2000\n",
      "4/4 [==============================] - 0s 1ms/step - loss: 0.2409\n",
      "Epoch 727/2000\n",
      "4/4 [==============================] - 0s 1ms/step - loss: 0.2407\n",
      "Epoch 728/2000\n",
      "4/4 [==============================] - 0s 2ms/step - loss: 0.2585\n",
      "Epoch 729/2000\n",
      "4/4 [==============================] - 0s 3ms/step - loss: 0.2391\n",
      "Epoch 730/2000\n",
      "4/4 [==============================] - 0s 3ms/step - loss: 0.2517\n",
      "Epoch 731/2000\n",
      "4/4 [==============================] - 0s 2ms/step - loss: 0.2416\n",
      "Epoch 732/2000\n",
      "4/4 [==============================] - 0s 1ms/step - loss: 0.2669\n",
      "Epoch 733/2000\n",
      "4/4 [==============================] - 0s 2ms/step - loss: 0.2679\n",
      "Epoch 734/2000\n",
      "4/4 [==============================] - 0s 2ms/step - loss: 0.2563\n",
      "Epoch 735/2000\n",
      "4/4 [==============================] - 0s 2ms/step - loss: 0.2355\n",
      "Epoch 736/2000\n",
      "4/4 [==============================] - 0s 2ms/step - loss: 0.2397\n",
      "Epoch 737/2000\n",
      "4/4 [==============================] - 0s 1ms/step - loss: 0.2612\n",
      "Epoch 738/2000\n",
      "4/4 [==============================] - 0s 2ms/step - loss: 0.2579\n",
      "Epoch 739/2000\n",
      "4/4 [==============================] - 0s 1ms/step - loss: 0.2344\n",
      "Epoch 740/2000\n",
      "4/4 [==============================] - 0s 2ms/step - loss: 0.2369\n",
      "Epoch 741/2000\n",
      "4/4 [==============================] - 0s 1ms/step - loss: 0.2392\n",
      "Epoch 742/2000\n",
      "4/4 [==============================] - 0s 2ms/step - loss: 0.2308\n",
      "Epoch 743/2000\n",
      "4/4 [==============================] - 0s 2ms/step - loss: 0.2401\n",
      "Epoch 744/2000\n",
      "4/4 [==============================] - 0s 2ms/step - loss: 0.2555\n",
      "Epoch 745/2000\n",
      "4/4 [==============================] - 0s 2ms/step - loss: 0.2309\n",
      "Epoch 746/2000\n",
      "4/4 [==============================] - 0s 2ms/step - loss: 0.2586\n",
      "Epoch 747/2000\n",
      "4/4 [==============================] - 0s 1ms/step - loss: 0.2742\n",
      "Epoch 748/2000\n",
      "4/4 [==============================] - 0s 2ms/step - loss: 0.2458\n",
      "Epoch 749/2000\n",
      "4/4 [==============================] - 0s 2ms/step - loss: 0.2314\n",
      "Epoch 750/2000\n",
      "4/4 [==============================] - 0s 1ms/step - loss: 0.2713\n",
      "Epoch 751/2000\n",
      "4/4 [==============================] - 0s 2ms/step - loss: 0.2496\n",
      "Epoch 752/2000\n",
      "4/4 [==============================] - 0s 2ms/step - loss: 0.2716\n",
      "Epoch 753/2000\n",
      "4/4 [==============================] - 0s 2ms/step - loss: 0.2415\n",
      "Epoch 754/2000\n",
      "4/4 [==============================] - 0s 2ms/step - loss: 0.2588\n",
      "Epoch 755/2000\n",
      "4/4 [==============================] - 0s 1ms/step - loss: 0.2308\n",
      "Epoch 756/2000\n",
      "4/4 [==============================] - 0s 1ms/step - loss: 0.2490\n",
      "Epoch 757/2000\n",
      "4/4 [==============================] - 0s 2ms/step - loss: 0.2214\n",
      "Epoch 758/2000\n",
      "4/4 [==============================] - 0s 2ms/step - loss: 0.2408\n",
      "Epoch 759/2000\n",
      "4/4 [==============================] - 0s 2ms/step - loss: 0.2269\n",
      "Epoch 760/2000\n",
      "4/4 [==============================] - 0s 2ms/step - loss: 0.2200\n",
      "Epoch 761/2000\n",
      "4/4 [==============================] - 0s 3ms/step - loss: 0.2589\n",
      "Epoch 762/2000\n",
      "4/4 [==============================] - 0s 1ms/step - loss: 0.2708\n",
      "Epoch 763/2000\n",
      "4/4 [==============================] - 0s 2ms/step - loss: 0.2534\n"
     ]
    }
   ],
   "source": [
    "# 3.28 tf.keras 를 이용한 XOR 네트워크 학습\n",
    "history = model.fit(x, y, epochs=2000, batch_size=1)"
   ]
  },
  {
   "cell_type": "code",
   "execution_count": null,
   "metadata": {
    "colab": {
     "base_uri": "https://localhost:8080/",
     "height": 89
    },
    "colab_type": "code",
    "executionInfo": {
     "elapsed": 592,
     "status": "ok",
     "timestamp": 1557931762342,
     "user": {
      "displayName": "Hwanhee Kim",
      "photoUrl": "https://lh6.googleusercontent.com/-nodxsDvEvZo/AAAAAAAAAAI/AAAAAAAABHE/Ybrj2myvr5Q/s64/photo.jpg",
      "userId": "04863080312902369470"
     },
     "user_tz": -540
    },
    "id": "3AqRMyHhTOcB",
    "outputId": "ef451b00-87a7-49cf-815c-d9ff1e5b59c5"
   },
   "outputs": [],
   "source": [
    "# 3.29 tf.keras 를 이용한 XOR 네트워크 평가\n",
    "model.predict(x)"
   ]
  },
  {
   "cell_type": "code",
   "execution_count": null,
   "metadata": {
    "colab": {
     "base_uri": "https://localhost:8080/",
     "height": 161
    },
    "colab_type": "code",
    "executionInfo": {
     "elapsed": 614,
     "status": "ok",
     "timestamp": 1557932204197,
     "user": {
      "displayName": "Hwanhee Kim",
      "photoUrl": "https://lh6.googleusercontent.com/-nodxsDvEvZo/AAAAAAAAAAI/AAAAAAAABHE/Ybrj2myvr5Q/s64/photo.jpg",
      "userId": "04863080312902369470"
     },
     "user_tz": -540
    },
    "id": "6PWc0Lai_ceb",
    "outputId": "877eb51b-c196-4c6d-8980-e8cd5ae5252e"
   },
   "outputs": [],
   "source": [
    "# 3.30 XOR 네트워크의 가중치와 편향 확인\n",
    "for weight in model.weights:\n",
    "    print(weight)"
   ]
  },
  {
   "cell_type": "markdown",
   "metadata": {
    "colab_type": "text",
    "id": "VW1-cpOCIbD_"
   },
   "source": [
    "# 3.4 시각화 기초"
   ]
  },
  {
   "cell_type": "markdown",
   "metadata": {
    "colab_type": "text",
    "id": "VaFmWABsIei2"
   },
   "source": [
    "## 3.4.1\tmatplotlib.pyplot 을 사용한 그래프 그리기"
   ]
  },
  {
   "cell_type": "code",
   "execution_count": null,
   "metadata": {
    "colab": {
     "base_uri": "https://localhost:8080/",
     "height": 269
    },
    "colab_type": "code",
    "executionInfo": {
     "elapsed": 80733,
     "status": "ok",
     "timestamp": 1558016523342,
     "user": {
      "displayName": "Hwanhee Kim",
      "photoUrl": "https://lh6.googleusercontent.com/-nodxsDvEvZo/AAAAAAAAAAI/AAAAAAAABHE/Ybrj2myvr5Q/s64/photo.jpg",
      "userId": "04863080312902369470"
     },
     "user_tz": -540
    },
    "id": "mYmyzli4Fy9T",
    "outputId": "822f10a4-0380-4ece-b836-7b3c796e64f3"
   },
   "outputs": [],
   "source": [
    "# 3.31 간단한 꺾은선 그래프 그리기\n",
    "import matplotlib.pyplot as plt\n",
    "x = range(20)\n",
    "y = tf.random.normal([20],0,1)\n",
    "plt.plot(x,y)\n",
    "plt.show()"
   ]
  },
  {
   "cell_type": "code",
   "execution_count": null,
   "metadata": {
    "colab": {
     "base_uri": "https://localhost:8080/",
     "height": 270
    },
    "colab_type": "code",
    "executionInfo": {
     "elapsed": 629,
     "status": "ok",
     "timestamp": 1558016658121,
     "user": {
      "displayName": "Hwanhee Kim",
      "photoUrl": "https://lh6.googleusercontent.com/-nodxsDvEvZo/AAAAAAAAAAI/AAAAAAAABHE/Ybrj2myvr5Q/s64/photo.jpg",
      "userId": "04863080312902369470"
     },
     "user_tz": -540
    },
    "id": "qSwyczRFA2_D",
    "outputId": "ff2be61f-089a-4580-d5ba-0450a6fc52f0"
   },
   "outputs": [],
   "source": [
    "# 3.32 간단한 점 그래프 그리기\n",
    "import matplotlib.pyplot as plt\n",
    "x = range(20)\n",
    "y = tf.random.normal([20],0,1)\n",
    "plt.plot(x,y,'bo')\n",
    "plt.show()"
   ]
  },
  {
   "cell_type": "code",
   "execution_count": null,
   "metadata": {
    "colab": {
     "base_uri": "https://localhost:8080/",
     "height": 269
    },
    "colab_type": "code",
    "executionInfo": {
     "elapsed": 998,
     "status": "ok",
     "timestamp": 1558017351627,
     "user": {
      "displayName": "Hwanhee Kim",
      "photoUrl": "https://lh6.googleusercontent.com/-nodxsDvEvZo/AAAAAAAAAAI/AAAAAAAABHE/Ybrj2myvr5Q/s64/photo.jpg",
      "userId": "04863080312902369470"
     },
     "user_tz": -540
    },
    "id": "QzM-W2p8B_Rz",
    "outputId": "0beebd52-ecae-48bd-c538-0305800ce458"
   },
   "outputs": [],
   "source": [
    "# 3.33 정규분포 그래프를 히스토그램으로 나타내기\n",
    "import matplotlib.pyplot as plt\n",
    "random_normal = tf.random.normal([100000],0,1)\n",
    "plt.hist(random_normal, bins=100)\n",
    "plt.show()"
   ]
  },
  {
   "cell_type": "markdown",
   "metadata": {
    "colab_type": "text",
    "id": "eOwSWsJNI_Ee"
   },
   "source": [
    "## 3.4.2 2-레이어 XOR 네트워크의 정보 시각화"
   ]
  },
  {
   "cell_type": "code",
   "execution_count": null,
   "metadata": {
    "colab": {
     "base_uri": "https://localhost:8080/",
     "height": 287
    },
    "colab_type": "code",
    "executionInfo": {
     "elapsed": 649,
     "status": "ok",
     "timestamp": 1558017603973,
     "user": {
      "displayName": "Hwanhee Kim",
      "photoUrl": "https://lh6.googleusercontent.com/-nodxsDvEvZo/AAAAAAAAAAI/AAAAAAAABHE/Ybrj2myvr5Q/s64/photo.jpg",
      "userId": "04863080312902369470"
     },
     "user_tz": -540
    },
    "id": "_22lpXzKCHhs",
    "outputId": "89a2011f-94dd-4c4e-924e-e47998d80e33"
   },
   "outputs": [],
   "source": [
    "# 3.34 2-레이어 XOR 네트워크의 loss 변화를 선 그래프로 표시\n",
    "import matplotlib.pyplot as plt\n",
    "plt.plot(history.history['loss'])"
   ]
  }
 ],
 "metadata": {
  "colab": {
   "collapsed_sections": [],
   "name": "Chapter3.ipynb",
   "provenance": [],
   "toc_visible": true
  },
  "kernelspec": {
   "display_name": "Python 3",
   "language": "python",
   "name": "python3"
  },
  "language_info": {
   "codemirror_mode": {
    "name": "ipython",
    "version": 3
   },
   "file_extension": ".py",
   "mimetype": "text/x-python",
   "name": "python",
   "nbconvert_exporter": "python",
   "pygments_lexer": "ipython3",
   "version": "3.7.9"
  }
 },
 "nbformat": 4,
 "nbformat_minor": 1
}
