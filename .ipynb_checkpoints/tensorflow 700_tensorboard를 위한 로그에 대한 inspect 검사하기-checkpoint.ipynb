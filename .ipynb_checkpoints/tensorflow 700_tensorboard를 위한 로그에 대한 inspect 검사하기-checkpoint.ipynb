{
 "cells": [
  {
   "cell_type": "code",
   "execution_count": 1,
   "metadata": {},
   "outputs": [
    {
     "name": "stdout",
     "output_type": "stream",
     "text": [
      "Collecting tensorboard\n",
      "  Downloading tensorboard-1.0.0a6-cp36-cp36m-macosx_10_12_x86_64.whl (10.8MB)\n",
      "\u001b[K    100% |████████████████████████████████| 10.8MB 74kB/s eta 0:00:01\n",
      "\u001b[?25hRequirement already up-to-date: Pillow>=4.0.0 in /Users/dahlmoon/anaconda/lib/python3.6/site-packages (from tensorboard)\n",
      "Requirement already up-to-date: numpy>=1.11.0 in /Users/dahlmoon/anaconda/lib/python3.6/site-packages (from tensorboard)\n",
      "Requirement already up-to-date: werkzeug>=0.11.10 in /Users/dahlmoon/anaconda/lib/python3.6/site-packages (from tensorboard)\n",
      "Requirement already up-to-date: six>=1.10.0 in /Users/dahlmoon/anaconda/lib/python3.6/site-packages (from tensorboard)\n",
      "Requirement already up-to-date: protobuf>=3.1.0 in /Users/dahlmoon/anaconda/lib/python3.6/site-packages (from tensorboard)\n",
      "Requirement already up-to-date: wheel>=0.26 in /Users/dahlmoon/anaconda/lib/python3.6/site-packages (from tensorboard)\n",
      "Requirement already up-to-date: olefile in /Users/dahlmoon/anaconda/lib/python3.6/site-packages (from Pillow>=4.0.0->tensorboard)\n",
      "Requirement already up-to-date: setuptools in /Users/dahlmoon/anaconda/lib/python3.6/site-packages (from protobuf>=3.1.0->tensorboard)\n",
      "Installing collected packages: tensorboard\n",
      "Successfully installed tensorboard-1.0.0a6\n"
     ]
    }
   ],
   "source": [
    "!pip install --upgrade tensorboard"
   ]
  },
  {
   "cell_type": "code",
   "execution_count": 3,
   "metadata": {
    "collapsed": true
   },
   "outputs": [],
   "source": [
    "import tensorflow as tf"
   ]
  },
  {
   "cell_type": "code",
   "execution_count": 9,
   "metadata": {
    "collapsed": true
   },
   "outputs": [],
   "source": [
    "\n",
    "\n",
    "a = tf.constant(3.0)\n",
    "b = tf.constant(5.0)\n",
    "c = a * b\n",
    "\n",
    "# tensorboard에 point라는 이름으로 표시됨\n",
    "c_summary = tf.summary.scalar(\"point\", c)\n",
    "merged = tf.summary.merge_all()\n",
    "\n",
    "with tf.Session() as sess:\n",
    "    writer =tf.summary.FileWriter(\"./logs/sample_2\", sess.graph)\n",
    "\n",
    "    result = sess.run([merged])\n",
    "    tf.global_variables_initializer().run()\n",
    "\n",
    "    writer.add_summary(result[0])\n",
    "    writer.flush()"
   ]
  },
  {
   "cell_type": "code",
   "execution_count": null,
   "metadata": {
    "collapsed": true
   },
   "outputs": [],
   "source": []
  },
  {
   "cell_type": "markdown",
   "metadata": {},
   "source": [
    "## 현재 디렉토리를 확인"
   ]
  },
  {
   "cell_type": "code",
   "execution_count": 10,
   "metadata": {},
   "outputs": [
    {
     "name": "stdout",
     "output_type": "stream",
     "text": [
      "README.md\r\n",
      "Untitled.ipynb\r\n",
      "\u001b[34mboard\u001b[m\u001b[m/\r\n",
      "\u001b[34mlog\u001b[m\u001b[m/\r\n",
      "\u001b[34mlogs\u001b[m\u001b[m/\r\n",
      "tensonflow 100_tensorflow 상수 알아보기.ipynb\r\n",
      "tensonflow 700_tensorboard 알아보기.ipynb\r\n"
     ]
    }
   ],
   "source": [
    "%ls"
   ]
  },
  {
   "cell_type": "markdown",
   "metadata": {},
   "source": [
    "## 풀패스로 처리해서 텐서보드 로그를 검사하기"
   ]
  },
  {
   "cell_type": "code",
   "execution_count": 3,
   "metadata": {},
   "outputs": [
    {
     "name": "stdout",
     "output_type": "stream",
     "text": [
      "======================================================================\r\n",
      "Processing event files... (this can take a few minutes)\r\n",
      "======================================================================\r\n",
      "\r\n",
      "Found event files in:\r\n",
      "/Users/dahlmoon//Documents/GitHub/python_tensorflow/logs/sample_2\r\n",
      "\r\n",
      "These tags are in /Users/dahlmoon//Documents/GitHub/python_tensorflow/logs/sample_2:\r\n",
      "audio -\r\n",
      "histograms -\r\n",
      "images -\r\n",
      "scalars\r\n",
      "   point\r\n",
      "   point_1\r\n",
      "   point_2\r\n",
      "   point_3\r\n",
      "   point_4\r\n",
      "   point_5\r\n",
      "   point_6\r\n",
      "======================================================================\r\n",
      "\r\n",
      "Event statistics for /Users/dahlmoon//Documents/GitHub/python_tensorflow/logs/sample_2:\r\n",
      "audio -\r\n",
      "graph\r\n",
      "   first_step           0\r\n",
      "   last_step            0\r\n",
      "   max_step             0\r\n",
      "   min_step             0\r\n",
      "   num_steps            1\r\n",
      "   outoforder_steps     []\r\n",
      "histograms -\r\n",
      "images -\r\n",
      "scalars\r\n",
      "   first_step           0\r\n",
      "   last_step            0\r\n",
      "   max_step             0\r\n",
      "   min_step             0\r\n",
      "   num_steps            1\r\n",
      "   outoforder_steps     []\r\n",
      "sessionlog:checkpoint -\r\n",
      "sessionlog:start -\r\n",
      "sessionlog:stop -\r\n",
      "======================================================================\r\n",
      "\r\n"
     ]
    }
   ],
   "source": [
    "!tensorboard --inspect --logdir ~/Documents/GitHub/python_tensorflow/logs/sample_2"
   ]
  },
  {
   "cell_type": "markdown",
   "metadata": {},
   "source": [
    "## 현재 디렉토리 내에서 텐서보드 로그를 검사"
   ]
  },
  {
   "cell_type": "code",
   "execution_count": 12,
   "metadata": {},
   "outputs": [
    {
     "name": "stdout",
     "output_type": "stream",
     "text": [
      "======================================================================\r\n",
      "Processing event files... (this can take a few minutes)\r\n",
      "======================================================================\r\n",
      "\r\n",
      "Found event files in:\r\n",
      "logs/sample_2\r\n",
      "\r\n",
      "These tags are in logs/sample_2:\r\n",
      "audio -\r\n",
      "histograms -\r\n",
      "images -\r\n",
      "scalars\r\n",
      "   point\r\n",
      "   point_1\r\n",
      "   point_2\r\n",
      "   point_3\r\n",
      "   point_4\r\n",
      "   point_5\r\n",
      "   point_6\r\n",
      "======================================================================\r\n",
      "\r\n",
      "Event statistics for logs/sample_2:\r\n",
      "audio -\r\n",
      "graph\r\n",
      "   first_step           0\r\n",
      "   last_step            0\r\n",
      "   max_step             0\r\n",
      "   min_step             0\r\n",
      "   num_steps            1\r\n",
      "   outoforder_steps     []\r\n",
      "histograms -\r\n",
      "images -\r\n",
      "scalars\r\n",
      "   first_step           0\r\n",
      "   last_step            0\r\n",
      "   max_step             0\r\n",
      "   min_step             0\r\n",
      "   num_steps            1\r\n",
      "   outoforder_steps     []\r\n",
      "sessionlog:checkpoint -\r\n",
      "sessionlog:start -\r\n",
      "sessionlog:stop -\r\n",
      "======================================================================\r\n",
      "\r\n"
     ]
    }
   ],
   "source": [
    "!tensorboard --inspect --logdir logs/sample_2"
   ]
  },
  {
   "cell_type": "markdown",
   "metadata": {
    "collapsed": true
   },
   "source": [
    "## 텐서보드 명령어 보기"
   ]
  },
  {
   "cell_type": "code",
   "execution_count": 5,
   "metadata": {},
   "outputs": [
    {
     "name": "stdout",
     "output_type": "stream",
     "text": [
      "usage: tensorboard.py [-h] [--logdir LOGDIR] [--debug [DEBUG]] [--nodebug]\r\n",
      "                      [--host HOST] [--inspect [INSPECT]] [--noinspect]\r\n",
      "                      [--tag TAG] [--event_file EVENT_FILE] [--port PORT]\r\n",
      "                      [--purge_orphaned_data [PURGE_ORPHANED_DATA]]\r\n",
      "                      [--nopurge_orphaned_data]\r\n",
      "                      [--reload_interval RELOAD_INTERVAL]\r\n",
      "\r\n",
      "optional arguments:\r\n",
      "  -h, --help            show this help message and exit\r\n",
      "  --logdir LOGDIR       logdir specifies the directory where TensorBoard will\r\n",
      "                        look to find TensorFlow event files that it can\r\n",
      "                        display. TensorBoard will recursively walk the\r\n",
      "                        directory structure rooted at logdir, looking for\r\n",
      "                        .*tfevents.* files. You may also pass a comma\r\n",
      "                        separated list of log directories, and TensorBoard\r\n",
      "                        will watch each directory. You can also assign names\r\n",
      "                        to individual log directories by putting a colon\r\n",
      "                        between the name and the path, as in tensorboard\r\n",
      "                        --logdir=name1:/path/to/logs/1,name2:/path/to/logs/2\r\n",
      "  --debug [DEBUG]       Whether to run the app in debug mode. This increases\r\n",
      "                        log verbosity to DEBUG.\r\n",
      "  --nodebug\r\n",
      "  --host HOST           What host to listen to. Defaults to serving on\r\n",
      "                        0.0.0.0, set to 127.0.0.1 (localhost) todisable remote\r\n",
      "                        access (also quiets security warnings).\r\n",
      "  --inspect [INSPECT]   Use this flag to print out a digest of your event\r\n",
      "                        files to the command line, when no data is shown on\r\n",
      "                        TensorBoard or the data shown looks weird. Example\r\n",
      "                        usages: tensorboard --inspect\r\n",
      "                        --event_file=myevents.out tensorboard --inspect\r\n",
      "                        --event_file=myevents.out --tag=loss tensorboard\r\n",
      "                        --inspect --logdir=mylogdir tensorboard --inspect\r\n",
      "                        --logdir=mylogdir --tag=loss See\r\n",
      "                        tensorflow/python/summary/event_file_inspector.py for\r\n",
      "                        more info and detailed usage.\r\n",
      "  --noinspect\r\n",
      "  --tag TAG             The particular tag to query for. Only used if\r\n",
      "                        --inspect is present\r\n",
      "  --event_file EVENT_FILE\r\n",
      "                        The particular event file to query for. Only used if\r\n",
      "                        --inspect is present and --logdir is not specified.\r\n",
      "  --port PORT           What port to serve TensorBoard on.\r\n",
      "  --purge_orphaned_data [PURGE_ORPHANED_DATA]\r\n",
      "                        Whether to purge data that may have been orphaned due\r\n",
      "                        to TensorBoard restarts. Disabling purge_orphaned_data\r\n",
      "                        can be used to debug data disappearance.\r\n",
      "  --nopurge_orphaned_data\r\n",
      "  --reload_interval RELOAD_INTERVAL\r\n",
      "                        How often the backend should load more data.\r\n"
     ]
    }
   ],
   "source": [
    "!tensorboard --help"
   ]
  },
  {
   "cell_type": "code",
   "execution_count": null,
   "metadata": {
    "collapsed": true
   },
   "outputs": [],
   "source": []
  }
 ],
 "metadata": {
  "kernelspec": {
   "display_name": "Python 3",
   "language": "python",
   "name": "python3"
  },
  "language_info": {
   "codemirror_mode": {
    "name": "ipython",
    "version": 3
   },
   "file_extension": ".py",
   "mimetype": "text/x-python",
   "name": "python",
   "nbconvert_exporter": "python",
   "pygments_lexer": "ipython3",
   "version": "3.6.1"
  }
 },
 "nbformat": 4,
 "nbformat_minor": 2
}
