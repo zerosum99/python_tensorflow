{
 "cells": [
  {
   "cell_type": "markdown",
   "metadata": {},
   "source": [
    "\n",
    "## 코랩 처리¶\n",
    "https://colab.research.google.com/drive/1UCJt8EYjlzCs1H1d1X0iDGYJsHKwu-NO?fbclid=IwAR31f-mtcrc3TnVZcyyvD4zmAJR74rB7pkBENDRyxHVbaaV5e0ycnO20ln8"
   ]
  },
  {
   "cell_type": "code",
   "execution_count": 1,
   "metadata": {},
   "outputs": [
    {
     "name": "stdout",
     "output_type": "stream",
     "text": [
      "Hello\r\n"
     ]
    }
   ],
   "source": [
    "import tensorflow as tf\n",
    "\n",
    "hello = tf.constant(\"Hello\")\n",
    "# sess = tf.Session()\n",
    "#print(sess.run(hello))\n",
    "\n",
    "tf.print(hello)"
   ]
  },
  {
   "cell_type": "code",
   "execution_count": null,
   "metadata": {},
   "outputs": [],
   "source": []
  },
  {
   "cell_type": "code",
   "execution_count": 2,
   "metadata": {},
   "outputs": [
    {
     "name": "stdout",
     "output_type": "stream",
     "text": [
      "20.0\n"
     ]
    }
   ],
   "source": [
    "def f(x, y):\n",
    "    return tf.reduce_mean(tf.multiply(x ** 2, 3) + y)\n",
    "\n",
    "g = tf.function(f)\n",
    "\n",
    "x = tf.constant([[2.0, 3.0]])\n",
    "y = tf.constant([[3.0, -2.0]])\n",
    "\n",
    "# `f` and `g` will return the same value, but `g` will be executed as a\n",
    "# TensorFlow graph.\n",
    "assert f(x, y).numpy() == g(x, y).numpy()\n",
    "\n",
    "print(f(x,y).numpy())"
   ]
  },
  {
   "cell_type": "code",
   "execution_count": null,
   "metadata": {},
   "outputs": [],
   "source": []
  }
 ],
 "metadata": {
  "kernelspec": {
   "display_name": "tensorgpu",
   "language": "python",
   "name": "tensorgpu"
  },
  "language_info": {
   "codemirror_mode": {
    "name": "ipython",
    "version": 3
   },
   "file_extension": ".py",
   "mimetype": "text/x-python",
   "name": "python",
   "nbconvert_exporter": "python",
   "pygments_lexer": "ipython3",
   "version": "3.7.4"
  }
 },
 "nbformat": 4,
 "nbformat_minor": 2
}
