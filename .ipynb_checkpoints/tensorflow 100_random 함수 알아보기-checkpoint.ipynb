{
 "cells": [
  {
   "cell_type": "code",
   "execution_count": 1,
   "metadata": {},
   "outputs": [
    {
     "name": "stderr",
     "output_type": "stream",
     "text": [
      "/Users/dahlmoon/anaconda/lib/python3.6/importlib/_bootstrap.py:205: RuntimeWarning: compiletime version 3.5 of module 'tensorflow.python.framework.fast_tensor_util' does not match runtime version 3.6\n",
      "  return f(*args, **kwds)\n"
     ]
    }
   ],
   "source": [
    "import tensorflow as tf"
   ]
  },
  {
   "cell_type": "code",
   "execution_count": 5,
   "metadata": {},
   "outputs": [
    {
     "data": {
      "text/plain": [
       "<tensorflow.python.client.session.InteractiveSession at 0x119ea1908>"
      ]
     },
     "execution_count": 5,
     "metadata": {},
     "output_type": "execute_result"
    }
   ],
   "source": [
    "tf.InteractiveSession()"
   ]
  },
  {
   "cell_type": "code",
   "execution_count": 2,
   "metadata": {},
   "outputs": [
    {
     "name": "stdout",
     "output_type": "stream",
     "text": [
      "random_crop\n",
      "random_gamma\n",
      "random_normal\n",
      "random_normal_initializer\n",
      "random_poisson\n",
      "random_shuffle\n",
      "random_uniform\n",
      "random_uniform_initializer\n"
     ]
    }
   ],
   "source": [
    "for i in dir(tf) :\n",
    "    if i.startswith('rand') :\n",
    "        print(i)"
   ]
  },
  {
   "cell_type": "markdown",
   "metadata": {},
   "source": [
    "## 정규분포의 값을 가지고 생성하기"
   ]
  },
  {
   "cell_type": "code",
   "execution_count": 3,
   "metadata": {},
   "outputs": [
    {
     "name": "stdout",
     "output_type": "stream",
     "text": [
      "Help on function random_normal in module tensorflow.python.ops.random_ops:\n",
      "\n",
      "random_normal(shape, mean=0.0, stddev=1.0, dtype=tf.float32, seed=None, name=None)\n",
      "    Outputs random values from a normal distribution.\n",
      "    \n",
      "    Args:\n",
      "      shape: A 1-D integer Tensor or Python array. The shape of the output tensor.\n",
      "      mean: A 0-D Tensor or Python value of type `dtype`. The mean of the normal\n",
      "        distribution.\n",
      "      stddev: A 0-D Tensor or Python value of type `dtype`. The standard deviation\n",
      "        of the normal distribution.\n",
      "      dtype: The type of the output.\n",
      "      seed: A Python integer. Used to create a random seed for the distribution.\n",
      "        See\n",
      "        @{tf.set_random_seed}\n",
      "        for behavior.\n",
      "      name: A name for the operation (optional).\n",
      "    \n",
      "    Returns:\n",
      "      A tensor of the specified shape filled with random normal values.\n",
      "\n"
     ]
    }
   ],
   "source": [
    "help(tf.random_normal)"
   ]
  },
  {
   "cell_type": "code",
   "execution_count": 4,
   "metadata": {
    "collapsed": true
   },
   "outputs": [],
   "source": [
    "a = tf.random_normal([3,3])"
   ]
  },
  {
   "cell_type": "code",
   "execution_count": 6,
   "metadata": {},
   "outputs": [
    {
     "data": {
      "text/plain": [
       "array([[ 0.28300765,  2.5161252 ,  0.64958197],\n",
       "       [ 2.86629581,  1.06258237, -0.75810307],\n",
       "       [ 2.02669621,  1.66644204, -1.88501775]], dtype=float32)"
      ]
     },
     "execution_count": 6,
     "metadata": {},
     "output_type": "execute_result"
    }
   ],
   "source": [
    "a.eval()"
   ]
  },
  {
   "cell_type": "markdown",
   "metadata": {},
   "source": [
    "## 균등분포의 값을 가지고 생성하기"
   ]
  },
  {
   "cell_type": "code",
   "execution_count": 7,
   "metadata": {},
   "outputs": [
    {
     "name": "stdout",
     "output_type": "stream",
     "text": [
      "Help on function random_uniform in module tensorflow.python.ops.random_ops:\n",
      "\n",
      "random_uniform(shape, minval=0, maxval=None, dtype=tf.float32, seed=None, name=None)\n",
      "    Outputs random values from a uniform distribution.\n",
      "    \n",
      "    The generated values follow a uniform distribution in the range\n",
      "    `[minval, maxval)`. The lower bound `minval` is included in the range, while\n",
      "    the upper bound `maxval` is excluded.\n",
      "    \n",
      "    For floats, the default range is `[0, 1)`.  For ints, at least `maxval` must\n",
      "    be specified explicitly.\n",
      "    \n",
      "    In the integer case, the random integers are slightly biased unless\n",
      "    `maxval - minval` is an exact power of two.  The bias is small for values of\n",
      "    `maxval - minval` significantly smaller than the range of the output (either\n",
      "    `2**32` or `2**64`).\n",
      "    \n",
      "    Args:\n",
      "      shape: A 1-D integer Tensor or Python array. The shape of the output tensor.\n",
      "      minval: A 0-D Tensor or Python value of type `dtype`. The lower bound on the\n",
      "        range of random values to generate.  Defaults to 0.\n",
      "      maxval: A 0-D Tensor or Python value of type `dtype`. The upper bound on\n",
      "        the range of random values to generate.  Defaults to 1 if `dtype` is\n",
      "        floating point.\n",
      "      dtype: The type of the output: 'float16`, `float32`, `float64`, `int32`,\n",
      "        or `int64`.\n",
      "      seed: A Python integer. Used to create a random seed for the distribution.\n",
      "        See @{tf.set_random_seed}\n",
      "        for behavior.\n",
      "      name: A name for the operation (optional).\n",
      "    \n",
      "    Returns:\n",
      "      A tensor of the specified shape filled with random uniform values.\n",
      "    \n",
      "    Raises:\n",
      "      ValueError: If `dtype` is integral and `maxval` is not specified.\n",
      "\n"
     ]
    }
   ],
   "source": [
    "help(tf.random_uniform)"
   ]
  },
  {
   "cell_type": "code",
   "execution_count": 8,
   "metadata": {
    "collapsed": true
   },
   "outputs": [],
   "source": [
    "b = tf.random_uniform([3,3])"
   ]
  },
  {
   "cell_type": "code",
   "execution_count": 9,
   "metadata": {},
   "outputs": [
    {
     "data": {
      "text/plain": [
       "array([[ 0.44545674,  0.9434247 ,  0.00727272],\n",
       "       [ 0.13807559,  0.6336937 ,  0.3796984 ],\n",
       "       [ 0.48371506,  0.79082429,  0.72157454]], dtype=float32)"
      ]
     },
     "execution_count": 9,
     "metadata": {},
     "output_type": "execute_result"
    }
   ],
   "source": [
    "b.eval()"
   ]
  },
  {
   "cell_type": "code",
   "execution_count": 10,
   "metadata": {
    "collapsed": true
   },
   "outputs": [],
   "source": [
    "b = tf.random_uniform([3,3], 0, 10)"
   ]
  },
  {
   "cell_type": "code",
   "execution_count": 11,
   "metadata": {},
   "outputs": [
    {
     "data": {
      "text/plain": [
       "array([[ 8.53491879,  1.72009349,  3.89494658],\n",
       "       [ 8.56657887,  4.7849741 ,  8.34817505],\n",
       "       [ 5.682827  ,  7.57697964,  7.50557041]], dtype=float32)"
      ]
     },
     "execution_count": 11,
     "metadata": {},
     "output_type": "execute_result"
    }
   ],
   "source": [
    "b.eval()"
   ]
  },
  {
   "cell_type": "markdown",
   "metadata": {},
   "source": [
    "### 균등분포를 정수로 처리하기"
   ]
  },
  {
   "cell_type": "code",
   "execution_count": 12,
   "metadata": {
    "collapsed": true
   },
   "outputs": [],
   "source": [
    "b = tf.random_uniform([3,3], 0, 10,tf.int32)"
   ]
  },
  {
   "cell_type": "code",
   "execution_count": 13,
   "metadata": {},
   "outputs": [
    {
     "data": {
      "text/plain": [
       "array([[3, 9, 2],\n",
       "       [5, 2, 3],\n",
       "       [3, 9, 1]], dtype=int32)"
      ]
     },
     "execution_count": 13,
     "metadata": {},
     "output_type": "execute_result"
    }
   ],
   "source": [
    "b.eval()"
   ]
  },
  {
   "cell_type": "markdown",
   "metadata": {},
   "source": [
    "## 특정 범위를 가지고 정규분포를 처리하기"
   ]
  },
  {
   "cell_type": "code",
   "execution_count": 16,
   "metadata": {},
   "outputs": [
    {
     "name": "stdout",
     "output_type": "stream",
     "text": [
      "Help on function truncated_normal in module tensorflow.python.ops.random_ops:\n",
      "\n",
      "truncated_normal(shape, mean=0.0, stddev=1.0, dtype=tf.float32, seed=None, name=None)\n",
      "    Outputs random values from a truncated normal distribution.\n",
      "    \n",
      "    The generated values follow a normal distribution with specified mean and\n",
      "    standard deviation, except that values whose magnitude is more than 2 standard\n",
      "    deviations from the mean are dropped and re-picked.\n",
      "    \n",
      "    Args:\n",
      "      shape: A 1-D integer Tensor or Python array. The shape of the output tensor.\n",
      "      mean: A 0-D Tensor or Python value of type `dtype`. The mean of the\n",
      "        truncated normal distribution.\n",
      "      stddev: A 0-D Tensor or Python value of type `dtype`. The standard deviation\n",
      "        of the truncated normal distribution.\n",
      "      dtype: The type of the output.\n",
      "      seed: A Python integer. Used to create a random seed for the distribution.\n",
      "        See\n",
      "        @{tf.set_random_seed}\n",
      "        for behavior.\n",
      "      name: A name for the operation (optional).\n",
      "    \n",
      "    Returns:\n",
      "      A tensor of the specified shape filled with random truncated normal values.\n",
      "\n"
     ]
    }
   ],
   "source": [
    "help(tf.truncated_normal)"
   ]
  },
  {
   "cell_type": "code",
   "execution_count": 14,
   "metadata": {
    "collapsed": true
   },
   "outputs": [],
   "source": [
    "t = tf.truncated_normal([3,3])"
   ]
  },
  {
   "cell_type": "code",
   "execution_count": 15,
   "metadata": {},
   "outputs": [
    {
     "data": {
      "text/plain": [
       "array([[  1.26353514e+00,  -1.76388010e-01,  -6.93238899e-02],\n",
       "       [  2.61240661e-01,   4.65316298e-05,  -1.51724148e+00],\n",
       "       [ -9.76641476e-01,   6.92940056e-01,   6.81652606e-01]], dtype=float32)"
      ]
     },
     "execution_count": 15,
     "metadata": {},
     "output_type": "execute_result"
    }
   ],
   "source": [
    "t.eval()"
   ]
  },
  {
   "cell_type": "markdown",
   "metadata": {},
   "source": [
    "## 내부의 원소를 섞기"
   ]
  },
  {
   "cell_type": "code",
   "execution_count": 18,
   "metadata": {},
   "outputs": [
    {
     "name": "stdout",
     "output_type": "stream",
     "text": [
      "Help on function random_shuffle in module tensorflow.python.ops.random_ops:\n",
      "\n",
      "random_shuffle(value, seed=None, name=None)\n",
      "    Randomly shuffles a tensor along its first dimension.\n",
      "    \n",
      "    The tensor is shuffled along dimension 0, such that each `value[j]` is mapped\n",
      "    to one and only one `output[i]`. For example, a mapping that might occur for a\n",
      "    3x2 tensor is:\n",
      "    \n",
      "    ```python\n",
      "    [[1, 2],       [[5, 6],\n",
      "     [3, 4],  ==>   [1, 2],\n",
      "     [5, 6]]        [3, 4]]\n",
      "    ```\n",
      "    \n",
      "    Args:\n",
      "      value: A Tensor to be shuffled.\n",
      "      seed: A Python integer. Used to create a random seed for the distribution.\n",
      "        See\n",
      "        @{tf.set_random_seed}\n",
      "        for behavior.\n",
      "      name: A name for the operation (optional).\n",
      "    \n",
      "    Returns:\n",
      "      A tensor of same shape and type as `value`, shuffled along its first\n",
      "      dimension.\n",
      "\n"
     ]
    }
   ],
   "source": [
    "help(tf.random_shuffle)"
   ]
  },
  {
   "cell_type": "code",
   "execution_count": 19,
   "metadata": {
    "collapsed": true
   },
   "outputs": [],
   "source": [
    "s = tf.random_shuffle([1,2,3,4])"
   ]
  },
  {
   "cell_type": "code",
   "execution_count": 20,
   "metadata": {},
   "outputs": [
    {
     "data": {
      "text/plain": [
       "array([4, 2, 1, 3], dtype=int32)"
      ]
     },
     "execution_count": 20,
     "metadata": {},
     "output_type": "execute_result"
    }
   ],
   "source": [
    "s.eval()"
   ]
  },
  {
   "cell_type": "code",
   "execution_count": 21,
   "metadata": {},
   "outputs": [
    {
     "name": "stdout",
     "output_type": "stream",
     "text": [
      "Help on function random_crop in module tensorflow.python.ops.random_ops:\n",
      "\n",
      "random_crop(value, size, seed=None, name=None)\n",
      "    Randomly crops a tensor to a given size.\n",
      "    \n",
      "    Slices a shape `size` portion out of `value` at a uniformly chosen offset.\n",
      "    Requires `value.shape >= size`.\n",
      "    \n",
      "    If a dimension should not be cropped, pass the full size of that dimension.\n",
      "    For example, RGB images can be cropped with\n",
      "    `size = [crop_height, crop_width, 3]`.\n",
      "    \n",
      "    Args:\n",
      "      value: Input tensor to crop.\n",
      "      size: 1-D tensor with size the rank of `value`.\n",
      "      seed: Python integer. Used to create a random seed. See\n",
      "        @{tf.set_random_seed}\n",
      "        for behavior.\n",
      "      name: A name for this operation (optional).\n",
      "    \n",
      "    Returns:\n",
      "      A cropped tensor of the same rank as `value` and shape `size`.\n",
      "\n"
     ]
    }
   ],
   "source": [
    "help(tf.random_crop)"
   ]
  },
  {
   "cell_type": "code",
   "execution_count": null,
   "metadata": {
    "collapsed": true
   },
   "outputs": [],
   "source": []
  }
 ],
 "metadata": {
  "kernelspec": {
   "display_name": "Python 3",
   "language": "python",
   "name": "python3"
  },
  "language_info": {
   "codemirror_mode": {
    "name": "ipython",
    "version": 3
   },
   "file_extension": ".py",
   "mimetype": "text/x-python",
   "name": "python",
   "nbconvert_exporter": "python",
   "pygments_lexer": "ipython3",
   "version": "3.6.1"
  }
 },
 "nbformat": 4,
 "nbformat_minor": 2
}
