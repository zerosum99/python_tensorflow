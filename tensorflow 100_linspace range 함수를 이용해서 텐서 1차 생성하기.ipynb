{
 "cells": [
  {
   "cell_type": "code",
   "execution_count": 1,
   "metadata": {},
   "outputs": [
    {
     "name": "stderr",
     "output_type": "stream",
     "text": [
      "/Users/dahlmoon/anaconda/lib/python3.6/importlib/_bootstrap.py:205: RuntimeWarning: compiletime version 3.5 of module 'tensorflow.python.framework.fast_tensor_util' does not match runtime version 3.6\n",
      "  return f(*args, **kwds)\n"
     ]
    }
   ],
   "source": [
    "import tensorflow as tf"
   ]
  },
  {
   "cell_type": "code",
   "execution_count": 12,
   "metadata": {},
   "outputs": [
    {
     "data": {
      "text/plain": [
       "<tensorflow.python.client.session.InteractiveSession at 0x11ed506d8>"
      ]
     },
     "execution_count": 12,
     "metadata": {},
     "output_type": "execute_result"
    }
   ],
   "source": [
    "tf.InteractiveSession()"
   ]
  },
  {
   "cell_type": "code",
   "execution_count": 8,
   "metadata": {},
   "outputs": [
    {
     "name": "stdout",
     "output_type": "stream",
     "text": [
      "Help on function lin_space in module tensorflow.python.ops.gen_math_ops:\n",
      "\n",
      "lin_space(start, stop, num, name=None)\n",
      "    Generates values in an interval.\n",
      "    \n",
      "    A sequence of `num` evenly-spaced values are generated beginning at `start`.\n",
      "    If `num > 1`, the values in the sequence increase by `stop - start / num - 1`,\n",
      "    so that the last one is exactly `stop`.\n",
      "    \n",
      "    For example:\n",
      "    \n",
      "    ```\n",
      "    tf.linspace(10.0, 12.0, 3, name=\"linspace\") => [ 10.0  11.0  12.0]\n",
      "    ```\n",
      "    \n",
      "    Args:\n",
      "      start: A `Tensor`. Must be one of the following types: `float32`, `float64`.\n",
      "        First entry in the range.\n",
      "      stop: A `Tensor`. Must have the same type as `start`.\n",
      "        Last entry in the range.\n",
      "      num: A `Tensor`. Must be one of the following types: `int32`, `int64`.\n",
      "        Number of values to generate.\n",
      "      name: A name for the operation (optional).\n",
      "    \n",
      "    Returns:\n",
      "      A `Tensor`. Has the same type as `start`. 1-D. The generated values.\n",
      "\n"
     ]
    }
   ],
   "source": [
    "help(tf.linspace)"
   ]
  },
  {
   "cell_type": "markdown",
   "metadata": {},
   "source": [
    "## 첫번째 start는 실수값을 배정해야 함"
   ]
  },
  {
   "cell_type": "code",
   "execution_count": 11,
   "metadata": {},
   "outputs": [],
   "source": [
    "linear_tf = tf.linspace(start=0.,stop=1.,num=3)"
   ]
  },
  {
   "cell_type": "code",
   "execution_count": 13,
   "metadata": {},
   "outputs": [
    {
     "data": {
      "text/plain": [
       "array([ 0. ,  0.5,  1. ], dtype=float32)"
      ]
     },
     "execution_count": 13,
     "metadata": {},
     "output_type": "execute_result"
    }
   ],
   "source": [
    "linear_tf.eval()"
   ]
  },
  {
   "cell_type": "code",
   "execution_count": 16,
   "metadata": {},
   "outputs": [],
   "source": [
    "linear_int = tf.linspace(start=1.,stop=3,num=3)"
   ]
  },
  {
   "cell_type": "code",
   "execution_count": 17,
   "metadata": {},
   "outputs": [
    {
     "data": {
      "text/plain": [
       "array([ 1.,  2.,  3.], dtype=float32)"
      ]
     },
     "execution_count": 17,
     "metadata": {},
     "output_type": "execute_result"
    }
   ],
   "source": [
    "linear_int.eval()"
   ]
  },
  {
   "cell_type": "markdown",
   "metadata": {},
   "source": [
    "## 정수값을 처리할 때는 range  사용"
   ]
  },
  {
   "cell_type": "code",
   "execution_count": 18,
   "metadata": {},
   "outputs": [
    {
     "name": "stdout",
     "output_type": "stream",
     "text": [
      "Help on function range in module tensorflow.python.ops.math_ops:\n",
      "\n",
      "range(start, limit=None, delta=1, dtype=None, name='range')\n",
      "    Creates a sequence of numbers.\n",
      "    \n",
      "    Creates a sequence of numbers that begins at `start` and extends by\n",
      "    increments of `delta` up to but not including `limit`.\n",
      "    \n",
      "    The dtype of the resulting tensor is inferred from the inputs unless\n",
      "    it is provided explicitly.\n",
      "    \n",
      "    Like the Python builtin `range`, `start` defaults to 0, so that\n",
      "    `range(n) = range(0, n)`.\n",
      "    \n",
      "    For example:\n",
      "    \n",
      "    ```python\n",
      "    start = 3\n",
      "    limit = 18\n",
      "    delta = 3\n",
      "    tf.range(start, limit, delta)  # [3, 6, 9, 12, 15]\n",
      "    \n",
      "    start = 3\n",
      "    limit = 1\n",
      "    delta = -0.5\n",
      "    tf.range(start, limit, delta)  # [3, 2.5, 2, 1.5]\n",
      "    \n",
      "    limit = 5\n",
      "    tf.range(limit)  # [0, 1, 2, 3, 4]\n",
      "    ```\n",
      "    \n",
      "    Args:\n",
      "      start: A 0-D `Tensor` (scalar). Acts as first entry in the range if\n",
      "        `limit` is not None; otherwise, acts as range limit and first entry\n",
      "        defaults to 0.\n",
      "      limit: A 0-D `Tensor` (scalar). Upper limit of sequence,\n",
      "        exclusive. If None, defaults to the value of `start` while the first\n",
      "        entry of the range defaults to 0.\n",
      "      delta: A 0-D `Tensor` (scalar). Number that increments\n",
      "        `start`. Defaults to 1.\n",
      "      dtype: The type of the elements of the resulting tensor.\n",
      "      name: A name for the operation. Defaults to \"range\".\n",
      "    \n",
      "    Returns:\n",
      "      An 1-D `Tensor` of type `dtype`.\n",
      "    \n",
      "    @compatibility(numpy)\n",
      "    Equivalent to np.arange\n",
      "    @end_compatibility\n",
      "\n"
     ]
    }
   ],
   "source": [
    "help(tf.range)"
   ]
  },
  {
   "cell_type": "code",
   "execution_count": 19,
   "metadata": {
    "collapsed": true
   },
   "outputs": [],
   "source": [
    "start = 3\n",
    "limit = 18\n",
    "delta = 3\n",
    "a = tf.range(start, limit, delta)"
   ]
  },
  {
   "cell_type": "code",
   "execution_count": 20,
   "metadata": {},
   "outputs": [
    {
     "data": {
      "text/plain": [
       "array([ 3,  6,  9, 12, 15], dtype=int32)"
      ]
     },
     "execution_count": 20,
     "metadata": {},
     "output_type": "execute_result"
    }
   ],
   "source": [
    "a.eval()"
   ]
  },
  {
   "cell_type": "markdown",
   "metadata": {},
   "source": [
    "### 실수값이 필요할 경우는 delta를 소숫점 숫자로 표시"
   ]
  },
  {
   "cell_type": "code",
   "execution_count": 21,
   "metadata": {
    "collapsed": true
   },
   "outputs": [],
   "source": [
    "start = 1\n",
    "limit = 2\n",
    "delta = 0.5\n",
    "b = tf.range(start, limit, delta)"
   ]
  },
  {
   "cell_type": "code",
   "execution_count": 22,
   "metadata": {},
   "outputs": [
    {
     "data": {
      "text/plain": [
       "array([ 1. ,  1.5], dtype=float32)"
      ]
     },
     "execution_count": 22,
     "metadata": {},
     "output_type": "execute_result"
    }
   ],
   "source": [
    "b.eval()"
   ]
  },
  {
   "cell_type": "code",
   "execution_count": null,
   "metadata": {
    "collapsed": true
   },
   "outputs": [],
   "source": []
  }
 ],
 "metadata": {
  "kernelspec": {
   "display_name": "Python 3",
   "language": "python",
   "name": "python3"
  },
  "language_info": {
   "codemirror_mode": {
    "name": "ipython",
    "version": 3
   },
   "file_extension": ".py",
   "mimetype": "text/x-python",
   "name": "python",
   "nbconvert_exporter": "python",
   "pygments_lexer": "ipython3",
   "version": "3.6.1"
  }
 },
 "nbformat": 4,
 "nbformat_minor": 2
}
