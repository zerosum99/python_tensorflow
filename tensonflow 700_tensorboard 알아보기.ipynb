{
 "cells": [
  {
   "cell_type": "code",
   "execution_count": 1,
   "metadata": {},
   "outputs": [],
   "source": [
    "import tensorflow as tf"
   ]
  },
  {
   "cell_type": "code",
   "execution_count": 2,
   "metadata": {},
   "outputs": [
    {
     "data": {
      "text/plain": [
       "'1.12.0'"
      ]
     },
     "execution_count": 2,
     "metadata": {},
     "output_type": "execute_result"
    }
   ],
   "source": [
    "tf.__version__"
   ]
  },
  {
   "cell_type": "code",
   "execution_count": 3,
   "metadata": {},
   "outputs": [],
   "source": [
    "a = tf.constant(5, name='input_a')\n",
    "b = tf.constant(3, name='input_b')"
   ]
  },
  {
   "cell_type": "code",
   "execution_count": 4,
   "metadata": {},
   "outputs": [],
   "source": [
    "c = tf.multiply(a,b, name=\"mul_c\")"
   ]
  },
  {
   "cell_type": "code",
   "execution_count": 5,
   "metadata": {},
   "outputs": [],
   "source": [
    "d = tf.add(a,b,name=\"add_d\")"
   ]
  },
  {
   "cell_type": "code",
   "execution_count": 6,
   "metadata": {},
   "outputs": [],
   "source": [
    "e = tf.add(c,d, name=\"add_e\")"
   ]
  },
  {
   "cell_type": "code",
   "execution_count": 7,
   "metadata": {},
   "outputs": [],
   "source": [
    "sess = tf.Session()"
   ]
  },
  {
   "cell_type": "code",
   "execution_count": 8,
   "metadata": {},
   "outputs": [],
   "source": [
    "output = sess.run(e)\n",
    "writer = tf.summary.FileWriter(\"./log/sample_1\", sess.graph)"
   ]
  },
  {
   "cell_type": "code",
   "execution_count": 9,
   "metadata": {},
   "outputs": [],
   "source": [
    "sess.close()"
   ]
  },
  {
   "cell_type": "markdown",
   "metadata": {},
   "source": [
    "## 텐서보드가 풀패스로 처리할 때 인지를 못하므로 내부로 이동해서 처리하면 됨"
   ]
  },
  {
   "cell_type": "code",
   "execution_count": 10,
   "metadata": {},
   "outputs": [
    {
     "name": "stdout",
     "output_type": "stream",
     "text": [
      " C 드라이브의 볼륨: Windows\n",
      " 볼륨 일련 번호: 5A74-C7D6\n",
      "\n",
      " C:\\Users\\dahlmoon\\Documents\\GitHub\\python_tensorflow 디렉터리\n",
      "\n",
      "2019-03-25  오후 04:11    <DIR>          .\n",
      "2019-03-25  오후 04:11    <DIR>          ..\n",
      "2019-02-15  오전 12:26            10,244 .DS_Store\n",
      "2019-03-25  오전 01:18    <DIR>          .ipynb_checkpoints\n",
      "2019-02-15  오전 12:26    <DIR>          board\n",
      "2019-03-25  오전 01:19             3,952 gpu와 cpu  test.ipynb\n",
      "2019-02-15  오전 12:26    <DIR>          log\n",
      "2019-02-15  오전 12:26    <DIR>          logs\n",
      "2019-02-15  오전 12:26                19 README.md\n",
      "2019-03-25  오후 04:11             7,733 tensonflow 100_tensorflow 상수 알아보기.ipynb\n",
      "2019-03-25  오전 12:53            32,782 tensonflow 700_tensorboard 알아보기.ipynb\n",
      "2019-02-15  오전 12:26            18,469 tensorboard_1.png\n",
      "2019-02-15  오전 12:26            10,111 tensorflow 100_fill로 모든 원소를 동일한 값을 배정해서 텐서 생성하기.ipynb\n",
      "2019-02-15  오전 12:26             8,172 tensorflow 100_linspace range 함수를 이용해서 텐서 1차 생성하기.ipynb\n",
      "2019-02-15  오전 12:26            16,102 tensorflow 100_random 함수 알아보기.ipynb\n",
      "2019-02-15  오전 12:26             6,030 tensorflow 100_zeros_like ones_like로 고정 길이 텐서 생성하기.ipynb\n",
      "2019-02-15  오전 12:26            12,444 tensorflow 700_tensorboard를 위한 로그에 대한 inspect 검사하기.ipynb\n",
      "2019-03-25  오전 12:56             1,486 tensorflow gpu 확인하기 .ipynb\n",
      "              12개 파일             127,544 바이트\n",
      "               6개 디렉터리  919,887,458,304 바이트 남음\n"
     ]
    }
   ],
   "source": [
    "%ls"
   ]
  },
  {
   "cell_type": "code",
   "execution_count": 11,
   "metadata": {},
   "outputs": [
    {
     "name": "stdout",
     "output_type": "stream",
     "text": [
      "C:\\Users\\dahlmoon\\Documents\\GitHub\\python_tensorflow\\log\n"
     ]
    }
   ],
   "source": [
    "%cd log"
   ]
  },
  {
   "cell_type": "code",
   "execution_count": 12,
   "metadata": {},
   "outputs": [
    {
     "name": "stdout",
     "output_type": "stream",
     "text": [
      " C 드라이브의 볼륨: Windows\n",
      " 볼륨 일련 번호: 5A74-C7D6\n",
      "\n",
      " C:\\Users\\dahlmoon\\Documents\\GitHub\\python_tensorflow\\log 디렉터리\n",
      "\n",
      "2019-02-15  오전 12:26    <DIR>          .\n",
      "2019-02-15  오전 12:26    <DIR>          ..\n",
      "2019-02-15  오전 12:26             8,196 .DS_Store\n",
      "2019-03-25  오후 04:11    <DIR>          sample_1\n",
      "               1개 파일               8,196 바이트\n",
      "               3개 디렉터리  919,887,462,400 바이트 남음\n"
     ]
    }
   ],
   "source": [
    "%ls "
   ]
  },
  {
   "cell_type": "code",
   "execution_count": 13,
   "metadata": {},
   "outputs": [
    {
     "name": "stdout",
     "output_type": "stream",
     "text": [
      "C:\\Users\\dahlmoon\\Documents\\GitHub\\python_tensorflow\\log\\sample_1\n"
     ]
    }
   ],
   "source": [
    "%cd sample_1"
   ]
  },
  {
   "cell_type": "code",
   "execution_count": 14,
   "metadata": {},
   "outputs": [
    {
     "name": "stdout",
     "output_type": "stream",
     "text": [
      " C 드라이브의 볼륨: Windows\n",
      " 볼륨 일련 번호: 5A74-C7D6\n",
      "\n",
      " C:\\Users\\dahlmoon\\Documents\\GitHub\\python_tensorflow\\log\\sample_1 디렉터리\n",
      "\n",
      "2019-03-25  오후 04:11    <DIR>          .\n",
      "2019-03-25  오후 04:11    <DIR>          ..\n",
      "2019-02-15  오전 12:26             6,148 .DS_Store\n",
      "2019-02-15  오전 12:26               575 events.out.tfevents.1512010185.dahlmoonui-MacBook-Pro.local\n",
      "2019-02-15  오전 12:26               575 events.out.tfevents.1512010735.dahlmoonui-MacBook-Pro.local\n",
      "2019-03-25  오전 12:45             1,014 events.out.tfevents.1553442325.DESKTOP-770U419\n",
      "2019-03-25  오후 04:11               413 events.out.tfevents.1553497906.DESKTOP-770U419\n",
      "               5개 파일               8,725 바이트\n",
      "               2개 디렉터리  919,887,458,304 바이트 남음\n"
     ]
    }
   ],
   "source": [
    "%ls"
   ]
  },
  {
   "cell_type": "code",
   "execution_count": 15,
   "metadata": {},
   "outputs": [
    {
     "name": "stdout",
     "output_type": "stream",
     "text": [
      "C:\\Users\\dahlmoon\\Documents\\GitHub\\python_tensorflow\\log\n"
     ]
    }
   ],
   "source": [
    "%cd .."
   ]
  },
  {
   "cell_type": "code",
   "execution_count": 16,
   "metadata": {},
   "outputs": [
    {
     "name": "stdout",
     "output_type": "stream",
     "text": [
      "C:\\Users\\dahlmoon\\Documents\\GitHub\\python_tensorflow\n"
     ]
    }
   ],
   "source": [
    "%cd .."
   ]
  },
  {
   "cell_type": "code",
   "execution_count": 17,
   "metadata": {},
   "outputs": [
    {
     "name": "stdout",
     "output_type": "stream",
     "text": [
      " C 드라이브의 볼륨: Windows\n",
      " 볼륨 일련 번호: 5A74-C7D6\n",
      "\n",
      " C:\\Users\\dahlmoon\\Documents\\GitHub\\python_tensorflow 디렉터리\n",
      "\n",
      "2019-02-15  오전 12:26            18,469 tensorboard_1.png\n",
      "               1개 파일              18,469 바이트\n",
      "               0개 디렉터리  919,887,458,304 바이트 남음\n"
     ]
    }
   ],
   "source": [
    "%ls *.png"
   ]
  },
  {
   "cell_type": "code",
   "execution_count": 18,
   "metadata": {},
   "outputs": [
    {
     "data": {
      "image/png": "[encoded data removed]",
      "text/plain": [
       "<IPython.core.display.Image object>"
      ]
     },
     "execution_count": 18,
     "metadata": {},
     "output_type": "execute_result"
    }
   ],
   "source": [
    "from IPython.display import Image\n",
    "Image('tensorboard_1.png')"
   ]
  },
  {
   "cell_type": "code",
   "execution_count": null,
   "metadata": {},
   "outputs": [],
   "source": []
  }
 ],
 "metadata": {
  "kernelspec": {
   "display_name": "tensorcpu",
   "language": "python",
   "name": "tensorcpu"
  },
  "language_info": {
   "codemirror_mode": {
    "name": "ipython",
    "version": 3
   },
   "file_extension": ".py",
   "mimetype": "text/x-python",
   "name": "python",
   "nbconvert_exporter": "python",
   "pygments_lexer": "ipython3",
   "version": "3.6.8"
  }
 },
 "nbformat": 4,
 "nbformat_minor": 2
}
